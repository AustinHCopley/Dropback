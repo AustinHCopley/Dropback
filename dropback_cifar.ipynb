{
 "cells": [
  {
   "cell_type": "code",
   "execution_count": 1,
   "metadata": {
    "metadata": {}
   },
   "outputs": [
    {
     "name": "stdout",
     "output_type": "stream",
     "text": [
      "Device: cuda\n"
     ]
    }
   ],
   "source": [
    "import torch\n",
    "import torch.nn as nn\n",
    "import torch.optim\n",
    "import torchvision.datasets as datasets\n",
    "import torchvision.transforms as transforms\n",
    "from torch.utils.data import DataLoader, random_split\n",
    "from tqdm import tqdm\n",
    "from DropBackVGGS import DropBackVGGS\n",
    "import matplotlib.pyplot as plt\n",
    "import numpy as np\n",
    "import pickle\n",
    "\n",
    "\n",
    "device = torch.device(\"cuda\" if torch.cuda.is_available() else \"cpu\")\n",
    "print(f\"Device: {device}\")"
   ]
  },
  {
   "cell_type": "code",
   "execution_count": 18,
   "metadata": {
    "metadata": {}
   },
   "outputs": [],
   "source": [
    "def train(epochs: int, model: DropBackVGGS, train_loader: DataLoader, val_loader: DataLoader, optim: torch.optim.SGD, criterion, device, in_size: int, freeze_epoch: int):\n",
    "    train_accs = []\n",
    "    val_accs = []\n",
    "    for epoch in range(epochs):\n",
    "        model.train()\n",
    "        train_loss = 0.0\n",
    "        correct = 0\n",
    "        total = 0\n",
    "        for images, labels in tqdm(train_loader, desc=f\"Epoch {epoch+1} - train\"):\n",
    "            images, labels = images.to(device), labels.to(device)\n",
    "            optim.zero_grad()\n",
    "            # images = images.view(-1, in_size)\n",
    "\n",
    "            outputs = model(images)\n",
    "            loss = criterion(outputs, labels)\n",
    "            loss.backward()\n",
    "            optim.step()\n",
    "\n",
    "            train_loss += loss.item()\n",
    "            _, pred = torch.max(outputs.data, 1)\n",
    "            total += labels.size(0)\n",
    "            correct += (pred == labels).sum().item()\n",
    "\n",
    "        train_acc = correct / total\n",
    "        train_loss /= len(train_loader)\n",
    "        train_accs.append(train_acc)\n",
    "\n",
    "        model.eval()\n",
    "        val_loss = 0.0\n",
    "        correct = 0\n",
    "        total = 0\n",
    "        with torch.no_grad():\n",
    "            for images, labels in tqdm(val_loader, desc=f\"Epoch {epoch+1} - val\"):\n",
    "                images, labels = images.to(device), labels.to(device)\n",
    "                # images = images.view(-1, in_size)\n",
    "                outputs = model(images)\n",
    "                loss = criterion(outputs, labels)\n",
    "                \n",
    "                val_loss += loss.item()\n",
    "                _, pred = torch.max(outputs.data, 1)\n",
    "                total += labels.size(0)\n",
    "                correct += (pred == labels).sum().item()\n",
    "        \n",
    "        val_acc = correct / total\n",
    "        val_loss /= len(val_loader)\n",
    "        val_accs.append(val_acc)\n",
    "\n",
    "        print(f\"Epoch {epoch+1}:\")\n",
    "        print(f\"Train Loss: {train_loss:.4f}, Accuracy: {train_acc:.3%}\")\n",
    "        print(f\"Val Loss: {val_loss:.4f}, Accuracy: {val_acc:.3%}\")\n",
    "\n",
    "        if epoch == freeze_epoch - 1:\n",
    "            model.freeze_params()\n",
    "        if epoch >= freeze_epoch - 1:\n",
    "            model.reset_frozen(device)\n",
    "    return train_accs, val_accs, model"
   ]
  },
  {
   "cell_type": "code",
   "execution_count": 12,
   "metadata": {
    "metadata": {}
   },
   "outputs": [],
   "source": [
    "transform = transforms.Compose([\n",
    "    transforms.RandomHorizontalFlip(),\n",
    "    transforms.RandomRotation(10),\n",
    "    transforms.ToTensor(),\n",
    "    transforms.Normalize((0.5, 0.5, 0.5), (0.5, 0.5, 0.5))\n",
    "])\n",
    "\n",
    "data = datasets.CIFAR10(root=\"cifar\", download=False, train=True, transform=transform)\n",
    "\n",
    "train_size = int(0.8 * len(data))\n",
    "val_size = len(data) - train_size\n",
    "train_data, val_data = random_split(data, [train_size, val_size])\n",
    "\n",
    "train_loader = DataLoader(train_data, batch_size=16, shuffle=True)\n",
    "val_loader = DataLoader(val_data, batch_size=16)"
   ]
  },
  {
   "cell_type": "code",
   "execution_count": 13,
   "metadata": {
    "metadata": {}
   },
   "outputs": [],
   "source": [
    "in_channels = 3\n",
    "output_size = 10"
   ]
  },
  {
   "cell_type": "code",
   "execution_count": 14,
   "metadata": {
    "metadata": {}
   },
   "outputs": [],
   "source": [
    "criterion = nn.CrossEntropyLoss()\n",
    "\n",
    "def run_test(epochs, prune, freeze):\n",
    "    # seed = np.random.randint(0, 10000)\n",
    "    seed = 0\n",
    "    model = DropBackVGGS(in_channels, output_size, prune, seed).to(device)\n",
    "    optim = torch.optim.SGD(model.parameters(), lr=0.01)\n",
    "    return train(epochs, model, train_loader, val_loader, optim, criterion, device, in_channels, freeze)"
   ]
  },
  {
   "cell_type": "code",
   "execution_count": 7,
   "metadata": {
    "metadata": {}
   },
   "outputs": [
    {
     "name": "stderr",
     "output_type": "stream",
     "text": [
      "Epoch 1 - train: 100%|██████████| 2500/2500 [00:18<00:00, 137.43it/s]\n",
      "Epoch 1 - val: 100%|██████████| 625/625 [00:02<00:00, 211.26it/s]\n"
     ]
    },
    {
     "name": "stdout",
     "output_type": "stream",
     "text": [
      "Epoch 1:\n",
      "Train Loss: 1.5610, Accuracy: 0.4408\n",
      "Val Loss: 1.2379, Accuracy: 0.5619\n"
     ]
    },
    {
     "name": "stderr",
     "output_type": "stream",
     "text": [
      "Epoch 2 - train: 100%|██████████| 2500/2500 [00:22<00:00, 112.56it/s]\n",
      "Epoch 2 - val: 100%|██████████| 625/625 [00:02<00:00, 225.19it/s]\n"
     ]
    },
    {
     "name": "stdout",
     "output_type": "stream",
     "text": [
      "Epoch 2:\n",
      "Train Loss: 1.1500, Accuracy: 0.5949\n",
      "Val Loss: 1.1388, Accuracy: 0.5904\n"
     ]
    },
    {
     "name": "stderr",
     "output_type": "stream",
     "text": [
      "Epoch 3 - train: 100%|██████████| 2500/2500 [00:21<00:00, 115.66it/s]\n",
      "Epoch 3 - val: 100%|██████████| 625/625 [00:03<00:00, 191.71it/s]\n"
     ]
    },
    {
     "name": "stdout",
     "output_type": "stream",
     "text": [
      "Epoch 3:\n",
      "Train Loss: 0.9619, Accuracy: 0.6632\n",
      "Val Loss: 0.9923, Accuracy: 0.6530\n"
     ]
    },
    {
     "name": "stderr",
     "output_type": "stream",
     "text": [
      "Epoch 4 - train: 100%|██████████| 2500/2500 [00:22<00:00, 112.15it/s]\n",
      "Epoch 4 - val: 100%|██████████| 625/625 [00:02<00:00, 233.44it/s]\n"
     ]
    },
    {
     "name": "stdout",
     "output_type": "stream",
     "text": [
      "Epoch 4:\n",
      "Train Loss: 0.8233, Accuracy: 0.7096\n",
      "Val Loss: 0.9841, Accuracy: 0.6634\n"
     ]
    },
    {
     "name": "stderr",
     "output_type": "stream",
     "text": [
      "Epoch 5 - train: 100%|██████████| 2500/2500 [00:18<00:00, 133.64it/s]\n",
      "Epoch 5 - val: 100%|██████████| 625/625 [00:02<00:00, 248.71it/s]\n"
     ]
    },
    {
     "name": "stdout",
     "output_type": "stream",
     "text": [
      "Epoch 5:\n",
      "Train Loss: 0.7000, Accuracy: 0.7520\n",
      "Val Loss: 0.9389, Accuracy: 0.6908\n"
     ]
    },
    {
     "name": "stderr",
     "output_type": "stream",
     "text": [
      "Epoch 6 - train: 100%|██████████| 2500/2500 [00:18<00:00, 137.10it/s]\n",
      "Epoch 6 - val: 100%|██████████| 625/625 [00:02<00:00, 209.50it/s]\n"
     ]
    },
    {
     "name": "stdout",
     "output_type": "stream",
     "text": [
      "Epoch 6:\n",
      "Train Loss: 0.5946, Accuracy: 0.7922\n",
      "Val Loss: 0.9028, Accuracy: 0.7034\n"
     ]
    },
    {
     "name": "stderr",
     "output_type": "stream",
     "text": [
      "Epoch 7 - train: 100%|██████████| 2500/2500 [00:20<00:00, 124.26it/s]\n",
      "Epoch 7 - val: 100%|██████████| 625/625 [00:03<00:00, 201.55it/s]\n"
     ]
    },
    {
     "name": "stdout",
     "output_type": "stream",
     "text": [
      "Epoch 7:\n",
      "Train Loss: 0.4914, Accuracy: 0.8267\n",
      "Val Loss: 0.9833, Accuracy: 0.7011\n"
     ]
    },
    {
     "name": "stderr",
     "output_type": "stream",
     "text": [
      "Epoch 8 - train: 100%|██████████| 2500/2500 [00:21<00:00, 114.44it/s]\n",
      "Epoch 8 - val: 100%|██████████| 625/625 [00:02<00:00, 249.66it/s]\n"
     ]
    },
    {
     "name": "stdout",
     "output_type": "stream",
     "text": [
      "Epoch 8:\n",
      "Train Loss: 0.4048, Accuracy: 0.8569\n",
      "Val Loss: 1.1330, Accuracy: 0.6878\n"
     ]
    },
    {
     "name": "stderr",
     "output_type": "stream",
     "text": [
      "Epoch 9 - train: 100%|██████████| 2500/2500 [00:22<00:00, 111.03it/s]\n",
      "Epoch 9 - val: 100%|██████████| 625/625 [00:03<00:00, 178.83it/s]\n"
     ]
    },
    {
     "name": "stdout",
     "output_type": "stream",
     "text": [
      "Epoch 9:\n",
      "Train Loss: 0.3208, Accuracy: 0.8853\n",
      "Val Loss: 1.1030, Accuracy: 0.7106\n"
     ]
    },
    {
     "name": "stderr",
     "output_type": "stream",
     "text": [
      "Epoch 10 - train: 100%|██████████| 2500/2500 [00:16<00:00, 147.85it/s]\n",
      "Epoch 10 - val: 100%|██████████| 625/625 [00:02<00:00, 248.81it/s]\n"
     ]
    },
    {
     "name": "stdout",
     "output_type": "stream",
     "text": [
      "Epoch 10:\n",
      "Train Loss: 0.2480, Accuracy: 0.9134\n",
      "Val Loss: 1.3283, Accuracy: 0.6900\n"
     ]
    },
    {
     "name": "stderr",
     "output_type": "stream",
     "text": [
      "Epoch 11 - train: 100%|██████████| 2500/2500 [00:18<00:00, 135.42it/s]\n",
      "Epoch 11 - val: 100%|██████████| 625/625 [00:03<00:00, 204.20it/s]\n"
     ]
    },
    {
     "name": "stdout",
     "output_type": "stream",
     "text": [
      "Epoch 11:\n",
      "Train Loss: 0.2135, Accuracy: 0.9258\n",
      "Val Loss: 1.3180, Accuracy: 0.7055\n"
     ]
    },
    {
     "name": "stderr",
     "output_type": "stream",
     "text": [
      "Epoch 12 - train: 100%|██████████| 2500/2500 [00:20<00:00, 122.30it/s]\n",
      "Epoch 12 - val: 100%|██████████| 625/625 [00:03<00:00, 201.86it/s]\n"
     ]
    },
    {
     "name": "stdout",
     "output_type": "stream",
     "text": [
      "Epoch 12:\n",
      "Train Loss: 0.1819, Accuracy: 0.9358\n",
      "Val Loss: 1.5529, Accuracy: 0.6872\n"
     ]
    },
    {
     "name": "stderr",
     "output_type": "stream",
     "text": [
      "Epoch 13 - train: 100%|██████████| 2500/2500 [00:17<00:00, 145.33it/s]\n",
      "Epoch 13 - val: 100%|██████████| 625/625 [00:02<00:00, 239.28it/s]\n"
     ]
    },
    {
     "name": "stdout",
     "output_type": "stream",
     "text": [
      "Epoch 13:\n",
      "Train Loss: 0.1648, Accuracy: 0.9438\n",
      "Val Loss: 1.5235, Accuracy: 0.7139\n"
     ]
    },
    {
     "name": "stderr",
     "output_type": "stream",
     "text": [
      "Epoch 14 - train: 100%|██████████| 2500/2500 [00:15<00:00, 159.46it/s]\n",
      "Epoch 14 - val: 100%|██████████| 625/625 [00:02<00:00, 246.08it/s]\n"
     ]
    },
    {
     "name": "stdout",
     "output_type": "stream",
     "text": [
      "Epoch 14:\n",
      "Train Loss: 0.1563, Accuracy: 0.9476\n",
      "Val Loss: 1.5653, Accuracy: 0.7060\n"
     ]
    },
    {
     "name": "stderr",
     "output_type": "stream",
     "text": [
      "Epoch 15 - train: 100%|██████████| 2500/2500 [00:15<00:00, 156.90it/s]\n",
      "Epoch 15 - val: 100%|██████████| 625/625 [00:03<00:00, 207.32it/s]\n"
     ]
    },
    {
     "name": "stdout",
     "output_type": "stream",
     "text": [
      "Epoch 15:\n",
      "Train Loss: 0.1354, Accuracy: 0.9538\n",
      "Val Loss: 1.7550, Accuracy: 0.7027\n"
     ]
    },
    {
     "data": {
      "image/png": "[encoded data removed]",
      "text/plain": [
       "<Figure size 640x480 with 1 Axes>"
      ]
     },
     "metadata": {},
     "output_type": "display_data"
    }
   ],
   "source": [
    "seed = 0\n",
    "baseline_model = DropBackVGGS(in_channels, output_size, pruning_threshold=0, seed=0).to(device)\n",
    "optim = torch.optim.SGD(baseline_model.parameters(), lr=0.03)\n",
    "\n",
    "baseline = train(5, baseline_model, train_loader, val_loader, optim, criterion, device, in_channels, freeze_epoch=1000)\n",
    "\n",
    "plt.plot(baseline[1], label=f\"baseline\")\n",
    "plt.title(\"baseline val\")\n",
    "plt.xlabel(\"Epochs\")\n",
    "plt.ylabel(\"Validation accuracy\")\n",
    "plt.show()"
   ]
  },
  {
   "cell_type": "code",
   "execution_count": 19,
   "metadata": {
    "metadata": {}
   },
   "outputs": [
    {
     "name": "stderr",
     "output_type": "stream",
     "text": [
      "Epoch 1 - train: 100%|██████████| 2500/2500 [00:24<00:00, 102.56it/s]\n",
      "Epoch 1 - val: 100%|██████████| 625/625 [00:04<00:00, 156.11it/s]\n"
     ]
    },
    {
     "name": "stdout",
     "output_type": "stream",
     "text": [
      "Epoch 1:\n",
      "Train Loss: 2.3705, Accuracy: 9.992%\n",
      "Val Loss: 2.3050, Accuracy: 9.800%\n"
     ]
    },
    {
     "name": "stderr",
     "output_type": "stream",
     "text": [
      "Epoch 2 - train: 100%|██████████| 2500/2500 [00:24<00:00, 103.52it/s]\n",
      "Epoch 2 - val: 100%|██████████| 625/625 [00:04<00:00, 150.51it/s]\n"
     ]
    },
    {
     "name": "stdout",
     "output_type": "stream",
     "text": [
      "Epoch 2:\n",
      "Train Loss: 2.3069, Accuracy: 9.820%\n",
      "Val Loss: 2.3097, Accuracy: 9.660%\n"
     ]
    },
    {
     "name": "stderr",
     "output_type": "stream",
     "text": [
      "Epoch 3 - train: 100%|██████████| 2500/2500 [00:23<00:00, 104.20it/s]\n",
      "Epoch 3 - val: 100%|██████████| 625/625 [00:04<00:00, 155.56it/s]\n"
     ]
    },
    {
     "name": "stdout",
     "output_type": "stream",
     "text": [
      "Epoch 3:\n",
      "Train Loss: 2.3071, Accuracy: 9.775%\n",
      "Val Loss: 2.3049, Accuracy: 10.050%\n"
     ]
    },
    {
     "name": "stderr",
     "output_type": "stream",
     "text": [
      "Epoch 4 - train:  16%|█▌        | 402/2500 [00:03<00:20, 103.13it/s]\n"
     ]
    },
    {
     "ename": "KeyboardInterrupt",
     "evalue": "",
     "output_type": "error",
     "traceback": [
      "\u001b[0;31m---------------------------------------------------------------------------\u001b[0m",
      "\u001b[0;31mKeyboardInterrupt\u001b[0m                         Traceback (most recent call last)",
      "Cell \u001b[0;32mIn[19], line 5\u001b[0m\n\u001b[1;32m      2\u001b[0m baseline_model \u001b[38;5;241m=\u001b[39m DropBackVGGS(in_channels, output_size, pruning_threshold\u001b[38;5;241m=\u001b[39m\u001b[38;5;241m0.5\u001b[39m, seed\u001b[38;5;241m=\u001b[39m\u001b[38;5;241m0\u001b[39m)\u001b[38;5;241m.\u001b[39mto(device)\n\u001b[1;32m      3\u001b[0m optim \u001b[38;5;241m=\u001b[39m torch\u001b[38;5;241m.\u001b[39moptim\u001b[38;5;241m.\u001b[39mSGD(baseline_model\u001b[38;5;241m.\u001b[39mparameters(), lr\u001b[38;5;241m=\u001b[39m\u001b[38;5;241m0.03\u001b[39m, momentum\u001b[38;5;241m=\u001b[39m\u001b[38;5;241m0.9\u001b[39m)\n\u001b[0;32m----> 5\u001b[0m baseline \u001b[38;5;241m=\u001b[39m \u001b[43mtrain\u001b[49m\u001b[43m(\u001b[49m\u001b[38;5;241;43m10\u001b[39;49m\u001b[43m,\u001b[49m\u001b[43m \u001b[49m\u001b[43mbaseline_model\u001b[49m\u001b[43m,\u001b[49m\u001b[43m \u001b[49m\u001b[43mtrain_loader\u001b[49m\u001b[43m,\u001b[49m\u001b[43m \u001b[49m\u001b[43mval_loader\u001b[49m\u001b[43m,\u001b[49m\u001b[43m \u001b[49m\u001b[43moptim\u001b[49m\u001b[43m,\u001b[49m\u001b[43m \u001b[49m\u001b[43mcriterion\u001b[49m\u001b[43m,\u001b[49m\u001b[43m \u001b[49m\u001b[43mdevice\u001b[49m\u001b[43m,\u001b[49m\u001b[43m \u001b[49m\u001b[43min_channels\u001b[49m\u001b[43m,\u001b[49m\u001b[43m \u001b[49m\u001b[43mfreeze_epoch\u001b[49m\u001b[38;5;241;43m=\u001b[39;49m\u001b[38;5;241;43m5\u001b[39;49m\u001b[43m)\u001b[49m\n\u001b[1;32m      7\u001b[0m plt\u001b[38;5;241m.\u001b[39mplot(baseline[\u001b[38;5;241m1\u001b[39m], label\u001b[38;5;241m=\u001b[39m\u001b[38;5;124mf\u001b[39m\u001b[38;5;124m\"\u001b[39m\u001b[38;5;124mbaseline\u001b[39m\u001b[38;5;124m\"\u001b[39m)\n\u001b[1;32m      8\u001b[0m plt\u001b[38;5;241m.\u001b[39mtitle(\u001b[38;5;124m\"\u001b[39m\u001b[38;5;124mbaseline val\u001b[39m\u001b[38;5;124m\"\u001b[39m)\n",
      "Cell \u001b[0;32mIn[18], line 9\u001b[0m, in \u001b[0;36mtrain\u001b[0;34m(epochs, model, train_loader, val_loader, optim, criterion, device, in_size, freeze_epoch)\u001b[0m\n\u001b[1;32m      7\u001b[0m correct \u001b[38;5;241m=\u001b[39m \u001b[38;5;241m0\u001b[39m\n\u001b[1;32m      8\u001b[0m total \u001b[38;5;241m=\u001b[39m \u001b[38;5;241m0\u001b[39m\n\u001b[0;32m----> 9\u001b[0m \u001b[38;5;28;01mfor\u001b[39;00m images, labels \u001b[38;5;129;01min\u001b[39;00m tqdm(train_loader, desc\u001b[38;5;241m=\u001b[39m\u001b[38;5;124mf\u001b[39m\u001b[38;5;124m\"\u001b[39m\u001b[38;5;124mEpoch \u001b[39m\u001b[38;5;132;01m{\u001b[39;00mepoch\u001b[38;5;241m+\u001b[39m\u001b[38;5;241m1\u001b[39m\u001b[38;5;132;01m}\u001b[39;00m\u001b[38;5;124m - train\u001b[39m\u001b[38;5;124m\"\u001b[39m):\n\u001b[1;32m     10\u001b[0m     images, labels \u001b[38;5;241m=\u001b[39m images\u001b[38;5;241m.\u001b[39mto(device), labels\u001b[38;5;241m.\u001b[39mto(device)\n\u001b[1;32m     11\u001b[0m     optim\u001b[38;5;241m.\u001b[39mzero_grad()\n",
      "File \u001b[0;32m~/.local/lib/python3.10/site-packages/tqdm/std.py:1178\u001b[0m, in \u001b[0;36mtqdm.__iter__\u001b[0;34m(self)\u001b[0m\n\u001b[1;32m   1175\u001b[0m time \u001b[38;5;241m=\u001b[39m \u001b[38;5;28mself\u001b[39m\u001b[38;5;241m.\u001b[39m_time\n\u001b[1;32m   1177\u001b[0m \u001b[38;5;28;01mtry\u001b[39;00m:\n\u001b[0;32m-> 1178\u001b[0m     \u001b[38;5;28;01mfor\u001b[39;00m obj \u001b[38;5;129;01min\u001b[39;00m iterable:\n\u001b[1;32m   1179\u001b[0m         \u001b[38;5;28;01myield\u001b[39;00m obj\n\u001b[1;32m   1180\u001b[0m         \u001b[38;5;66;03m# Update and possibly print the progressbar.\u001b[39;00m\n\u001b[1;32m   1181\u001b[0m         \u001b[38;5;66;03m# Note: does not call self.update(1) for speed optimisation.\u001b[39;00m\n",
      "File \u001b[0;32m~/.local/lib/python3.10/site-packages/torch/utils/data/dataloader.py:633\u001b[0m, in \u001b[0;36m_BaseDataLoaderIter.__next__\u001b[0;34m(self)\u001b[0m\n\u001b[1;32m    630\u001b[0m \u001b[38;5;28;01mif\u001b[39;00m \u001b[38;5;28mself\u001b[39m\u001b[38;5;241m.\u001b[39m_sampler_iter \u001b[38;5;129;01mis\u001b[39;00m \u001b[38;5;28;01mNone\u001b[39;00m:\n\u001b[1;32m    631\u001b[0m     \u001b[38;5;66;03m# TODO(https://github.com/pytorch/pytorch/issues/76750)\u001b[39;00m\n\u001b[1;32m    632\u001b[0m     \u001b[38;5;28mself\u001b[39m\u001b[38;5;241m.\u001b[39m_reset()  \u001b[38;5;66;03m# type: ignore[call-arg]\u001b[39;00m\n\u001b[0;32m--> 633\u001b[0m data \u001b[38;5;241m=\u001b[39m \u001b[38;5;28;43mself\u001b[39;49m\u001b[38;5;241;43m.\u001b[39;49m\u001b[43m_next_data\u001b[49m\u001b[43m(\u001b[49m\u001b[43m)\u001b[49m\n\u001b[1;32m    634\u001b[0m \u001b[38;5;28mself\u001b[39m\u001b[38;5;241m.\u001b[39m_num_yielded \u001b[38;5;241m+\u001b[39m\u001b[38;5;241m=\u001b[39m \u001b[38;5;241m1\u001b[39m\n\u001b[1;32m    635\u001b[0m \u001b[38;5;28;01mif\u001b[39;00m \u001b[38;5;28mself\u001b[39m\u001b[38;5;241m.\u001b[39m_dataset_kind \u001b[38;5;241m==\u001b[39m _DatasetKind\u001b[38;5;241m.\u001b[39mIterable \u001b[38;5;129;01mand\u001b[39;00m \\\n\u001b[1;32m    636\u001b[0m         \u001b[38;5;28mself\u001b[39m\u001b[38;5;241m.\u001b[39m_IterableDataset_len_called \u001b[38;5;129;01mis\u001b[39;00m \u001b[38;5;129;01mnot\u001b[39;00m \u001b[38;5;28;01mNone\u001b[39;00m \u001b[38;5;129;01mand\u001b[39;00m \\\n\u001b[1;32m    637\u001b[0m         \u001b[38;5;28mself\u001b[39m\u001b[38;5;241m.\u001b[39m_num_yielded \u001b[38;5;241m>\u001b[39m \u001b[38;5;28mself\u001b[39m\u001b[38;5;241m.\u001b[39m_IterableDataset_len_called:\n",
      "File \u001b[0;32m~/.local/lib/python3.10/site-packages/torch/utils/data/dataloader.py:676\u001b[0m, in \u001b[0;36m_SingleProcessDataLoaderIter._next_data\u001b[0;34m(self)\u001b[0m\n\u001b[1;32m    675\u001b[0m \u001b[38;5;28;01mdef\u001b[39;00m \u001b[38;5;21m_next_data\u001b[39m(\u001b[38;5;28mself\u001b[39m):\n\u001b[0;32m--> 676\u001b[0m     index \u001b[38;5;241m=\u001b[39m \u001b[38;5;28;43mself\u001b[39;49m\u001b[38;5;241;43m.\u001b[39;49m\u001b[43m_next_index\u001b[49m\u001b[43m(\u001b[49m\u001b[43m)\u001b[49m  \u001b[38;5;66;03m# may raise StopIteration\u001b[39;00m\n\u001b[1;32m    677\u001b[0m     data \u001b[38;5;241m=\u001b[39m \u001b[38;5;28mself\u001b[39m\u001b[38;5;241m.\u001b[39m_dataset_fetcher\u001b[38;5;241m.\u001b[39mfetch(index)  \u001b[38;5;66;03m# may raise StopIteration\u001b[39;00m\n\u001b[1;32m    678\u001b[0m     \u001b[38;5;28;01mif\u001b[39;00m \u001b[38;5;28mself\u001b[39m\u001b[38;5;241m.\u001b[39m_pin_memory:\n",
      "File \u001b[0;32m~/.local/lib/python3.10/site-packages/torch/utils/data/dataloader.py:623\u001b[0m, in \u001b[0;36m_BaseDataLoaderIter._next_index\u001b[0;34m(self)\u001b[0m\n\u001b[1;32m    622\u001b[0m \u001b[38;5;28;01mdef\u001b[39;00m \u001b[38;5;21m_next_index\u001b[39m(\u001b[38;5;28mself\u001b[39m):\n\u001b[0;32m--> 623\u001b[0m     \u001b[38;5;28;01mreturn\u001b[39;00m \u001b[38;5;28;43mnext\u001b[39;49m\u001b[43m(\u001b[49m\u001b[38;5;28;43mself\u001b[39;49m\u001b[38;5;241;43m.\u001b[39;49m\u001b[43m_sampler_iter\u001b[49m\u001b[43m)\u001b[49m\n",
      "File \u001b[0;32m~/.local/lib/python3.10/site-packages/torch/utils/data/sampler.py:257\u001b[0m, in \u001b[0;36mBatchSampler.__iter__\u001b[0;34m(self)\u001b[0m\n\u001b[1;32m    255\u001b[0m batch[idx_in_batch] \u001b[38;5;241m=\u001b[39m idx\n\u001b[1;32m    256\u001b[0m idx_in_batch \u001b[38;5;241m+\u001b[39m\u001b[38;5;241m=\u001b[39m \u001b[38;5;241m1\u001b[39m\n\u001b[0;32m--> 257\u001b[0m \u001b[38;5;28;01mif\u001b[39;00m idx_in_batch \u001b[38;5;241m==\u001b[39m \u001b[38;5;28mself\u001b[39m\u001b[38;5;241m.\u001b[39mbatch_size:\n\u001b[1;32m    258\u001b[0m     \u001b[38;5;28;01myield\u001b[39;00m batch\n\u001b[1;32m    259\u001b[0m     idx_in_batch \u001b[38;5;241m=\u001b[39m \u001b[38;5;241m0\u001b[39m\n",
      "\u001b[0;31mKeyboardInterrupt\u001b[0m: "
     ]
    }
   ],
   "source": [
    "seed = 0\n",
    "test_model = DropBackVGGS(in_channels, output_size, pruning_threshold=0.5, seed=None).to(device)\n",
    "optim = torch.optim.SGD(test_model.parameters(), lr=0.03)\n",
    "\n",
    "test = train(10, test_model, train_loader, val_loader, optim, criterion, device, in_channels, freeze_epoch=1000)\n",
    "\n",
    "plt.plot(test[1], label=f\"test\")\n",
    "plt.title(\"test val\")\n",
    "plt.xlabel(\"Epochs\")\n",
    "plt.ylabel(\"Validation accuracy\")\n",
    "plt.show()"
   ]
  },
  {
   "cell_type": "code",
   "execution_count": null,
   "metadata": {},
   "outputs": [],
   "source": [
    "with open('baseline_cifar.pkl', 'wb') as f:\n",
    "    pickle.dump(baseline, f)"
   ]
  },
  {
   "cell_type": "code",
   "execution_count": null,
   "metadata": {},
   "outputs": [],
   "source": [
    "results_dict = {}"
   ]
  },
  {
   "cell_type": "code",
   "execution_count": 111,
   "metadata": {},
   "outputs": [
    {
     "name": "stdout",
     "output_type": "stream",
     "text": [
      "<=== TEST 1 OF 3 ===>\n"
     ]
    },
    {
     "name": "stderr",
     "output_type": "stream",
     "text": [
      "Epoch 1 - train:   0%|          | 0/3000 [00:00<?, ?it/s]"
     ]
    },
    {
     "name": "stderr",
     "output_type": "stream",
     "text": [
      "Epoch 1 - train: 100%|██████████| 3000/3000 [00:15<00:00, 199.55it/s]\n",
      "Epoch 1 - val: 100%|██████████| 750/750 [00:02<00:00, 270.15it/s]\n"
     ]
    },
    {
     "name": "stdout",
     "output_type": "stream",
     "text": [
      "Epoch 1:\n",
      "Train Loss: 0.3305, Accuracy: 0.9032\n",
      "Val Loss: 0.2023, Accuracy: 0.9438\n"
     ]
    },
    {
     "name": "stderr",
     "output_type": "stream",
     "text": [
      "Epoch 2 - train: 100%|██████████| 3000/3000 [00:17<00:00, 170.67it/s]\n",
      "Epoch 2 - val: 100%|██████████| 750/750 [00:02<00:00, 293.57it/s]\n"
     ]
    },
    {
     "name": "stdout",
     "output_type": "stream",
     "text": [
      "Epoch 2:\n",
      "Train Loss: 0.1741, Accuracy: 0.9495\n",
      "Val Loss: 0.1549, Accuracy: 0.9561\n",
      "======== Pruned weights: 7951 out of 79510 ========\n"
     ]
    },
    {
     "name": "stderr",
     "output_type": "stream",
     "text": [
      "Epoch 3 - train: 100%|██████████| 3000/3000 [00:17<00:00, 169.62it/s]\n",
      "Epoch 3 - val: 100%|██████████| 750/750 [00:02<00:00, 267.27it/s]\n"
     ]
    },
    {
     "name": "stdout",
     "output_type": "stream",
     "text": [
      "Epoch 3:\n",
      "Train Loss: 0.1397, Accuracy: 0.9604\n",
      "Val Loss: 0.1451, Accuracy: 0.9573\n"
     ]
    },
    {
     "name": "stderr",
     "output_type": "stream",
     "text": [
      "Epoch 4 - train: 100%|██████████| 3000/3000 [00:14<00:00, 213.10it/s]\n",
      "Epoch 4 - val: 100%|██████████| 750/750 [00:02<00:00, 346.30it/s]\n"
     ]
    },
    {
     "name": "stdout",
     "output_type": "stream",
     "text": [
      "Epoch 4:\n",
      "Train Loss: 0.1136, Accuracy: 0.9685\n",
      "Val Loss: 0.1273, Accuracy: 0.9624\n"
     ]
    },
    {
     "name": "stderr",
     "output_type": "stream",
     "text": [
      "Epoch 5 - train: 100%|██████████| 3000/3000 [00:11<00:00, 265.31it/s]\n",
      "Epoch 5 - val: 100%|██████████| 750/750 [00:02<00:00, 316.54it/s]\n"
     ]
    },
    {
     "name": "stdout",
     "output_type": "stream",
     "text": [
      "Epoch 5:\n",
      "Train Loss: 0.0965, Accuracy: 0.9723\n",
      "Val Loss: 0.1140, Accuracy: 0.9657\n"
     ]
    },
    {
     "name": "stderr",
     "output_type": "stream",
     "text": [
      "Epoch 6 - train: 100%|██████████| 3000/3000 [00:14<00:00, 201.39it/s]\n",
      "Epoch 6 - val: 100%|██████████| 750/750 [00:02<00:00, 281.32it/s]\n"
     ]
    },
    {
     "name": "stdout",
     "output_type": "stream",
     "text": [
      "Epoch 6:\n",
      "Train Loss: 0.0838, Accuracy: 0.9760\n",
      "Val Loss: 0.1115, Accuracy: 0.9666\n"
     ]
    },
    {
     "name": "stderr",
     "output_type": "stream",
     "text": [
      "Epoch 7 - train: 100%|██████████| 3000/3000 [00:16<00:00, 179.50it/s]\n",
      "Epoch 7 - val: 100%|██████████| 750/750 [00:02<00:00, 255.46it/s]\n"
     ]
    },
    {
     "name": "stdout",
     "output_type": "stream",
     "text": [
      "Epoch 7:\n",
      "Train Loss: 0.0737, Accuracy: 0.9789\n",
      "Val Loss: 0.1110, Accuracy: 0.9666\n"
     ]
    },
    {
     "name": "stderr",
     "output_type": "stream",
     "text": [
      "Epoch 8 - train: 100%|██████████| 3000/3000 [00:14<00:00, 207.84it/s]\n",
      "Epoch 8 - val: 100%|██████████| 750/750 [00:02<00:00, 332.84it/s]\n"
     ]
    },
    {
     "name": "stdout",
     "output_type": "stream",
     "text": [
      "Epoch 8:\n",
      "Train Loss: 0.0658, Accuracy: 0.9818\n",
      "Val Loss: 0.1072, Accuracy: 0.9683\n"
     ]
    },
    {
     "name": "stderr",
     "output_type": "stream",
     "text": [
      "Epoch 9 - train: 100%|██████████| 3000/3000 [00:14<00:00, 208.14it/s]\n",
      "Epoch 9 - val: 100%|██████████| 750/750 [00:02<00:00, 266.05it/s]\n"
     ]
    },
    {
     "name": "stdout",
     "output_type": "stream",
     "text": [
      "Epoch 9:\n",
      "Train Loss: 0.0589, Accuracy: 0.9842\n",
      "Val Loss: 0.1006, Accuracy: 0.9697\n"
     ]
    },
    {
     "name": "stderr",
     "output_type": "stream",
     "text": [
      "Epoch 10 - train: 100%|██████████| 3000/3000 [00:14<00:00, 206.97it/s]\n",
      "Epoch 10 - val: 100%|██████████| 750/750 [00:02<00:00, 369.42it/s]\n"
     ]
    },
    {
     "name": "stdout",
     "output_type": "stream",
     "text": [
      "Epoch 10:\n",
      "Train Loss: 0.0529, Accuracy: 0.9855\n",
      "Val Loss: 0.0988, Accuracy: 0.9706\n"
     ]
    },
    {
     "name": "stderr",
     "output_type": "stream",
     "text": [
      "Epoch 11 - train: 100%|██████████| 3000/3000 [00:10<00:00, 274.47it/s]\n",
      "Epoch 11 - val: 100%|██████████| 750/750 [00:02<00:00, 369.65it/s]\n"
     ]
    },
    {
     "name": "stdout",
     "output_type": "stream",
     "text": [
      "Epoch 11:\n",
      "Train Loss: 0.0483, Accuracy: 0.9871\n",
      "Val Loss: 0.0951, Accuracy: 0.9722\n"
     ]
    },
    {
     "name": "stderr",
     "output_type": "stream",
     "text": [
      "Epoch 12 - train: 100%|██████████| 3000/3000 [00:12<00:00, 248.08it/s]\n",
      "Epoch 12 - val: 100%|██████████| 750/750 [00:02<00:00, 360.76it/s]\n"
     ]
    },
    {
     "name": "stdout",
     "output_type": "stream",
     "text": [
      "Epoch 12:\n",
      "Train Loss: 0.0434, Accuracy: 0.9885\n",
      "Val Loss: 0.1013, Accuracy: 0.9683\n"
     ]
    },
    {
     "name": "stderr",
     "output_type": "stream",
     "text": [
      "Epoch 13 - train: 100%|██████████| 3000/3000 [00:14<00:00, 203.40it/s]\n",
      "Epoch 13 - val: 100%|██████████| 750/750 [00:02<00:00, 274.68it/s]\n"
     ]
    },
    {
     "name": "stdout",
     "output_type": "stream",
     "text": [
      "Epoch 13:\n",
      "Train Loss: 0.0401, Accuracy: 0.9894\n",
      "Val Loss: 0.0947, Accuracy: 0.9714\n"
     ]
    },
    {
     "name": "stderr",
     "output_type": "stream",
     "text": [
      "Epoch 14 - train: 100%|██████████| 3000/3000 [00:14<00:00, 209.16it/s]\n",
      "Epoch 14 - val: 100%|██████████| 750/750 [00:02<00:00, 303.08it/s]\n"
     ]
    },
    {
     "name": "stdout",
     "output_type": "stream",
     "text": [
      "Epoch 14:\n",
      "Train Loss: 0.0364, Accuracy: 0.9909\n",
      "Val Loss: 0.0964, Accuracy: 0.9713\n"
     ]
    },
    {
     "name": "stderr",
     "output_type": "stream",
     "text": [
      "Epoch 15 - train: 100%|██████████| 3000/3000 [00:16<00:00, 181.84it/s]\n",
      "Epoch 15 - val: 100%|██████████| 750/750 [00:02<00:00, 372.73it/s]\n"
     ]
    },
    {
     "name": "stdout",
     "output_type": "stream",
     "text": [
      "Epoch 15:\n",
      "Train Loss: 0.0331, Accuracy: 0.9918\n",
      "Val Loss: 0.0957, Accuracy: 0.9713\n"
     ]
    },
    {
     "name": "stderr",
     "output_type": "stream",
     "text": [
      "Epoch 16 - train: 100%|██████████| 3000/3000 [00:12<00:00, 245.49it/s]\n",
      "Epoch 16 - val: 100%|██████████| 750/750 [00:01<00:00, 410.47it/s]\n"
     ]
    },
    {
     "name": "stdout",
     "output_type": "stream",
     "text": [
      "Epoch 16:\n",
      "Train Loss: 0.0303, Accuracy: 0.9931\n",
      "Val Loss: 0.0941, Accuracy: 0.9728\n"
     ]
    },
    {
     "name": "stderr",
     "output_type": "stream",
     "text": [
      "Epoch 17 - train: 100%|██████████| 3000/3000 [00:11<00:00, 271.81it/s]\n",
      "Epoch 17 - val: 100%|██████████| 750/750 [00:01<00:00, 382.73it/s]\n"
     ]
    },
    {
     "name": "stdout",
     "output_type": "stream",
     "text": [
      "Epoch 17:\n",
      "Train Loss: 0.0280, Accuracy: 0.9936\n",
      "Val Loss: 0.0952, Accuracy: 0.9718\n"
     ]
    },
    {
     "name": "stderr",
     "output_type": "stream",
     "text": [
      "Epoch 18 - train: 100%|██████████| 3000/3000 [00:10<00:00, 283.78it/s]\n",
      "Epoch 18 - val: 100%|██████████| 750/750 [00:01<00:00, 427.58it/s]\n"
     ]
    },
    {
     "name": "stdout",
     "output_type": "stream",
     "text": [
      "Epoch 18:\n",
      "Train Loss: 0.0257, Accuracy: 0.9943\n",
      "Val Loss: 0.0936, Accuracy: 0.9723\n"
     ]
    },
    {
     "name": "stderr",
     "output_type": "stream",
     "text": [
      "Epoch 19 - train: 100%|██████████| 3000/3000 [00:10<00:00, 275.61it/s]\n",
      "Epoch 19 - val: 100%|██████████| 750/750 [00:01<00:00, 377.06it/s]\n"
     ]
    },
    {
     "name": "stdout",
     "output_type": "stream",
     "text": [
      "Epoch 19:\n",
      "Train Loss: 0.0237, Accuracy: 0.9950\n",
      "Val Loss: 0.0951, Accuracy: 0.9728\n"
     ]
    },
    {
     "name": "stderr",
     "output_type": "stream",
     "text": [
      "Epoch 20 - train: 100%|██████████| 3000/3000 [00:11<00:00, 259.71it/s]\n",
      "Epoch 20 - val: 100%|██████████| 750/750 [00:01<00:00, 394.99it/s]\n"
     ]
    },
    {
     "name": "stdout",
     "output_type": "stream",
     "text": [
      "Epoch 20:\n",
      "Train Loss: 0.0217, Accuracy: 0.9958\n",
      "Val Loss: 0.0950, Accuracy: 0.9732\n"
     ]
    },
    {
     "name": "stderr",
     "output_type": "stream",
     "text": [
      "Epoch 21 - train: 100%|██████████| 3000/3000 [00:12<00:00, 248.30it/s]\n",
      "Epoch 21 - val: 100%|██████████| 750/750 [00:02<00:00, 358.93it/s]\n"
     ]
    },
    {
     "name": "stdout",
     "output_type": "stream",
     "text": [
      "Epoch 21:\n",
      "Train Loss: 0.0198, Accuracy: 0.9963\n",
      "Val Loss: 0.0960, Accuracy: 0.9725\n"
     ]
    },
    {
     "name": "stderr",
     "output_type": "stream",
     "text": [
      "Epoch 22 - train: 100%|██████████| 3000/3000 [00:10<00:00, 275.23it/s]\n",
      "Epoch 22 - val: 100%|██████████| 750/750 [00:02<00:00, 338.75it/s]\n"
     ]
    },
    {
     "name": "stdout",
     "output_type": "stream",
     "text": [
      "Epoch 22:\n",
      "Train Loss: 0.0183, Accuracy: 0.9969\n",
      "Val Loss: 0.0960, Accuracy: 0.9722\n"
     ]
    },
    {
     "name": "stderr",
     "output_type": "stream",
     "text": [
      "Epoch 23 - train: 100%|██████████| 3000/3000 [00:16<00:00, 186.01it/s]\n",
      "Epoch 23 - val: 100%|██████████| 750/750 [00:01<00:00, 381.19it/s]\n"
     ]
    },
    {
     "name": "stdout",
     "output_type": "stream",
     "text": [
      "Epoch 23:\n",
      "Train Loss: 0.0169, Accuracy: 0.9974\n",
      "Val Loss: 0.0983, Accuracy: 0.9721\n"
     ]
    },
    {
     "name": "stderr",
     "output_type": "stream",
     "text": [
      "Epoch 24 - train: 100%|██████████| 3000/3000 [00:14<00:00, 205.93it/s]\n",
      "Epoch 24 - val: 100%|██████████| 750/750 [00:02<00:00, 370.90it/s]\n"
     ]
    },
    {
     "name": "stdout",
     "output_type": "stream",
     "text": [
      "Epoch 24:\n",
      "Train Loss: 0.0157, Accuracy: 0.9976\n",
      "Val Loss: 0.0960, Accuracy: 0.9718\n"
     ]
    },
    {
     "name": "stderr",
     "output_type": "stream",
     "text": [
      "Epoch 25 - train: 100%|██████████| 3000/3000 [00:15<00:00, 198.44it/s]\n",
      "Epoch 25 - val: 100%|██████████| 750/750 [00:02<00:00, 252.59it/s]\n"
     ]
    },
    {
     "name": "stdout",
     "output_type": "stream",
     "text": [
      "Epoch 25:\n",
      "Train Loss: 0.0147, Accuracy: 0.9982\n",
      "Val Loss: 0.0966, Accuracy: 0.9747\n"
     ]
    },
    {
     "name": "stderr",
     "output_type": "stream",
     "text": [
      "Epoch 26 - train: 100%|██████████| 3000/3000 [00:12<00:00, 234.84it/s]\n",
      "Epoch 26 - val: 100%|██████████| 750/750 [00:02<00:00, 328.86it/s]\n"
     ]
    },
    {
     "name": "stdout",
     "output_type": "stream",
     "text": [
      "Epoch 26:\n",
      "Train Loss: 0.0136, Accuracy: 0.9983\n",
      "Val Loss: 0.0944, Accuracy: 0.9743\n"
     ]
    },
    {
     "name": "stderr",
     "output_type": "stream",
     "text": [
      "Epoch 27 - train: 100%|██████████| 3000/3000 [00:12<00:00, 232.28it/s]\n",
      "Epoch 27 - val: 100%|██████████| 750/750 [00:02<00:00, 319.32it/s]\n"
     ]
    },
    {
     "name": "stdout",
     "output_type": "stream",
     "text": [
      "Epoch 27:\n",
      "Train Loss: 0.0125, Accuracy: 0.9988\n",
      "Val Loss: 0.0996, Accuracy: 0.9727\n"
     ]
    },
    {
     "name": "stderr",
     "output_type": "stream",
     "text": [
      "Epoch 28 - train: 100%|██████████| 3000/3000 [00:13<00:00, 221.29it/s]\n",
      "Epoch 28 - val: 100%|██████████| 750/750 [00:01<00:00, 382.85it/s]\n"
     ]
    },
    {
     "name": "stdout",
     "output_type": "stream",
     "text": [
      "Epoch 28:\n",
      "Train Loss: 0.0117, Accuracy: 0.9987\n",
      "Val Loss: 0.0970, Accuracy: 0.9739\n"
     ]
    },
    {
     "name": "stderr",
     "output_type": "stream",
     "text": [
      "Epoch 29 - train: 100%|██████████| 3000/3000 [00:10<00:00, 273.31it/s]\n",
      "Epoch 29 - val: 100%|██████████| 750/750 [00:02<00:00, 349.04it/s]\n"
     ]
    },
    {
     "name": "stdout",
     "output_type": "stream",
     "text": [
      "Epoch 29:\n",
      "Train Loss: 0.0109, Accuracy: 0.9991\n",
      "Val Loss: 0.0957, Accuracy: 0.9740\n"
     ]
    },
    {
     "name": "stderr",
     "output_type": "stream",
     "text": [
      "Epoch 30 - train: 100%|██████████| 3000/3000 [00:14<00:00, 202.52it/s]\n",
      "Epoch 30 - val: 100%|██████████| 750/750 [00:02<00:00, 349.93it/s]\n"
     ]
    },
    {
     "name": "stdout",
     "output_type": "stream",
     "text": [
      "Epoch 30:\n",
      "Train Loss: 0.0102, Accuracy: 0.9991\n",
      "Val Loss: 0.0959, Accuracy: 0.9728\n"
     ]
    },
    {
     "name": "stderr",
     "output_type": "stream",
     "text": [
      "Epoch 31 - train: 100%|██████████| 3000/3000 [00:11<00:00, 265.25it/s]\n",
      "Epoch 31 - val: 100%|██████████| 750/750 [00:02<00:00, 336.31it/s]\n"
     ]
    },
    {
     "name": "stdout",
     "output_type": "stream",
     "text": [
      "Epoch 31:\n",
      "Train Loss: 0.0095, Accuracy: 0.9992\n",
      "Val Loss: 0.0973, Accuracy: 0.9733\n"
     ]
    },
    {
     "name": "stderr",
     "output_type": "stream",
     "text": [
      "Epoch 32 - train: 100%|██████████| 3000/3000 [00:10<00:00, 279.20it/s]\n",
      "Epoch 32 - val: 100%|██████████| 750/750 [00:01<00:00, 397.12it/s]\n"
     ]
    },
    {
     "name": "stdout",
     "output_type": "stream",
     "text": [
      "Epoch 32:\n",
      "Train Loss: 0.0090, Accuracy: 0.9993\n",
      "Val Loss: 0.0981, Accuracy: 0.9733\n"
     ]
    },
    {
     "name": "stderr",
     "output_type": "stream",
     "text": [
      "Epoch 33 - train: 100%|██████████| 3000/3000 [00:12<00:00, 245.95it/s]\n",
      "Epoch 33 - val: 100%|██████████| 750/750 [00:01<00:00, 379.10it/s]\n"
     ]
    },
    {
     "name": "stdout",
     "output_type": "stream",
     "text": [
      "Epoch 33:\n",
      "Train Loss: 0.0084, Accuracy: 0.9995\n",
      "Val Loss: 0.1002, Accuracy: 0.9727\n"
     ]
    },
    {
     "name": "stderr",
     "output_type": "stream",
     "text": [
      "Epoch 34 - train: 100%|██████████| 3000/3000 [00:10<00:00, 288.59it/s]\n",
      "Epoch 34 - val: 100%|██████████| 750/750 [00:01<00:00, 386.18it/s]\n"
     ]
    },
    {
     "name": "stdout",
     "output_type": "stream",
     "text": [
      "Epoch 34:\n",
      "Train Loss: 0.0080, Accuracy: 0.9995\n",
      "Val Loss: 0.0986, Accuracy: 0.9738\n"
     ]
    },
    {
     "name": "stderr",
     "output_type": "stream",
     "text": [
      "Epoch 35 - train: 100%|██████████| 3000/3000 [00:11<00:00, 270.74it/s]\n",
      "Epoch 35 - val: 100%|██████████| 750/750 [00:01<00:00, 376.70it/s]\n"
     ]
    },
    {
     "name": "stdout",
     "output_type": "stream",
     "text": [
      "Epoch 35:\n",
      "Train Loss: 0.0075, Accuracy: 0.9995\n",
      "Val Loss: 0.0987, Accuracy: 0.9736\n"
     ]
    },
    {
     "name": "stderr",
     "output_type": "stream",
     "text": [
      "Epoch 36 - train: 100%|██████████| 3000/3000 [00:15<00:00, 191.80it/s]\n",
      "Epoch 36 - val: 100%|██████████| 750/750 [00:02<00:00, 363.48it/s]\n"
     ]
    },
    {
     "name": "stdout",
     "output_type": "stream",
     "text": [
      "Epoch 36:\n",
      "Train Loss: 0.0071, Accuracy: 0.9997\n",
      "Val Loss: 0.0996, Accuracy: 0.9734\n"
     ]
    },
    {
     "name": "stderr",
     "output_type": "stream",
     "text": [
      "Epoch 37 - train: 100%|██████████| 3000/3000 [00:12<00:00, 238.98it/s]\n",
      "Epoch 37 - val: 100%|██████████| 750/750 [00:02<00:00, 296.02it/s]\n"
     ]
    },
    {
     "name": "stdout",
     "output_type": "stream",
     "text": [
      "Epoch 37:\n",
      "Train Loss: 0.0067, Accuracy: 0.9997\n",
      "Val Loss: 0.0998, Accuracy: 0.9735\n"
     ]
    },
    {
     "name": "stderr",
     "output_type": "stream",
     "text": [
      "Epoch 38 - train: 100%|██████████| 3000/3000 [00:15<00:00, 194.39it/s]\n",
      "Epoch 38 - val: 100%|██████████| 750/750 [00:03<00:00, 243.84it/s]\n"
     ]
    },
    {
     "name": "stdout",
     "output_type": "stream",
     "text": [
      "Epoch 38:\n",
      "Train Loss: 0.0063, Accuracy: 0.9998\n",
      "Val Loss: 0.1007, Accuracy: 0.9739\n"
     ]
    },
    {
     "name": "stderr",
     "output_type": "stream",
     "text": [
      "Epoch 39 - train: 100%|██████████| 3000/3000 [00:12<00:00, 238.92it/s]\n",
      "Epoch 39 - val: 100%|██████████| 750/750 [00:02<00:00, 278.47it/s]\n"
     ]
    },
    {
     "name": "stdout",
     "output_type": "stream",
     "text": [
      "Epoch 39:\n",
      "Train Loss: 0.0060, Accuracy: 0.9998\n",
      "Val Loss: 0.1007, Accuracy: 0.9736\n"
     ]
    },
    {
     "name": "stderr",
     "output_type": "stream",
     "text": [
      "Epoch 40 - train: 100%|██████████| 3000/3000 [00:12<00:00, 236.16it/s]\n",
      "Epoch 40 - val: 100%|██████████| 750/750 [00:02<00:00, 370.91it/s]\n"
     ]
    },
    {
     "name": "stdout",
     "output_type": "stream",
     "text": [
      "Epoch 40:\n",
      "Train Loss: 0.0057, Accuracy: 0.9998\n",
      "Val Loss: 0.1008, Accuracy: 0.9737\n"
     ]
    },
    {
     "name": "stderr",
     "output_type": "stream",
     "text": [
      "Epoch 41 - train: 100%|██████████| 3000/3000 [00:13<00:00, 221.36it/s]\n",
      "Epoch 41 - val: 100%|██████████| 750/750 [00:02<00:00, 346.52it/s]\n"
     ]
    },
    {
     "name": "stdout",
     "output_type": "stream",
     "text": [
      "Epoch 41:\n",
      "Train Loss: 0.0054, Accuracy: 0.9999\n",
      "Val Loss: 0.1009, Accuracy: 0.9738\n"
     ]
    },
    {
     "name": "stderr",
     "output_type": "stream",
     "text": [
      "Epoch 42 - train: 100%|██████████| 3000/3000 [00:15<00:00, 187.51it/s]\n",
      "Epoch 42 - val: 100%|██████████| 750/750 [00:02<00:00, 299.02it/s]\n"
     ]
    },
    {
     "name": "stdout",
     "output_type": "stream",
     "text": [
      "Epoch 42:\n",
      "Train Loss: 0.0052, Accuracy: 0.9999\n",
      "Val Loss: 0.1012, Accuracy: 0.9735\n"
     ]
    },
    {
     "name": "stderr",
     "output_type": "stream",
     "text": [
      "Epoch 43 - train: 100%|██████████| 3000/3000 [00:16<00:00, 184.06it/s]\n",
      "Epoch 43 - val: 100%|██████████| 750/750 [00:02<00:00, 303.42it/s]\n"
     ]
    },
    {
     "name": "stdout",
     "output_type": "stream",
     "text": [
      "Epoch 43:\n",
      "Train Loss: 0.0050, Accuracy: 0.9999\n",
      "Val Loss: 0.1025, Accuracy: 0.9735\n"
     ]
    },
    {
     "name": "stderr",
     "output_type": "stream",
     "text": [
      "Epoch 44 - train: 100%|██████████| 3000/3000 [00:16<00:00, 180.47it/s]\n",
      "Epoch 44 - val: 100%|██████████| 750/750 [00:02<00:00, 278.68it/s]\n"
     ]
    },
    {
     "name": "stdout",
     "output_type": "stream",
     "text": [
      "Epoch 44:\n",
      "Train Loss: 0.0047, Accuracy: 0.9999\n",
      "Val Loss: 0.1025, Accuracy: 0.9744\n"
     ]
    },
    {
     "name": "stderr",
     "output_type": "stream",
     "text": [
      "Epoch 45 - train: 100%|██████████| 3000/3000 [00:15<00:00, 193.36it/s]\n",
      "Epoch 45 - val: 100%|██████████| 750/750 [00:03<00:00, 246.07it/s]\n"
     ]
    },
    {
     "name": "stdout",
     "output_type": "stream",
     "text": [
      "Epoch 45:\n",
      "Train Loss: 0.0045, Accuracy: 0.9999\n",
      "Val Loss: 0.1033, Accuracy: 0.9736\n"
     ]
    },
    {
     "name": "stderr",
     "output_type": "stream",
     "text": [
      "Epoch 46 - train: 100%|██████████| 3000/3000 [00:15<00:00, 197.19it/s]\n",
      "Epoch 46 - val: 100%|██████████| 750/750 [00:02<00:00, 299.88it/s]\n"
     ]
    },
    {
     "name": "stdout",
     "output_type": "stream",
     "text": [
      "Epoch 46:\n",
      "Train Loss: 0.0043, Accuracy: 1.0000\n",
      "Val Loss: 0.1039, Accuracy: 0.9732\n"
     ]
    },
    {
     "name": "stderr",
     "output_type": "stream",
     "text": [
      "Epoch 47 - train: 100%|██████████| 3000/3000 [00:12<00:00, 233.33it/s]\n",
      "Epoch 47 - val: 100%|██████████| 750/750 [00:02<00:00, 321.92it/s]\n"
     ]
    },
    {
     "name": "stdout",
     "output_type": "stream",
     "text": [
      "Epoch 47:\n",
      "Train Loss: 0.0042, Accuracy: 0.9999\n",
      "Val Loss: 0.1026, Accuracy: 0.9742\n"
     ]
    },
    {
     "name": "stderr",
     "output_type": "stream",
     "text": [
      "Epoch 48 - train: 100%|██████████| 3000/3000 [00:13<00:00, 226.42it/s]\n",
      "Epoch 48 - val: 100%|██████████| 750/750 [00:02<00:00, 262.35it/s]\n"
     ]
    },
    {
     "name": "stdout",
     "output_type": "stream",
     "text": [
      "Epoch 48:\n",
      "Train Loss: 0.0040, Accuracy: 1.0000\n",
      "Val Loss: 0.1037, Accuracy: 0.9742\n"
     ]
    },
    {
     "name": "stderr",
     "output_type": "stream",
     "text": [
      "Epoch 49 - train: 100%|██████████| 3000/3000 [00:14<00:00, 209.21it/s]\n",
      "Epoch 49 - val: 100%|██████████| 750/750 [00:02<00:00, 336.94it/s]\n"
     ]
    },
    {
     "name": "stdout",
     "output_type": "stream",
     "text": [
      "Epoch 49:\n",
      "Train Loss: 0.0039, Accuracy: 1.0000\n",
      "Val Loss: 0.1047, Accuracy: 0.9736\n"
     ]
    },
    {
     "name": "stderr",
     "output_type": "stream",
     "text": [
      "Epoch 50 - train: 100%|██████████| 3000/3000 [00:12<00:00, 235.20it/s]\n",
      "Epoch 50 - val: 100%|██████████| 750/750 [00:02<00:00, 346.42it/s]\n"
     ]
    },
    {
     "name": "stdout",
     "output_type": "stream",
     "text": [
      "Epoch 50:\n",
      "Train Loss: 0.0037, Accuracy: 1.0000\n",
      "Val Loss: 0.1043, Accuracy: 0.9748\n",
      "<=== TEST 2 OF 3 ===>\n"
     ]
    },
    {
     "name": "stderr",
     "output_type": "stream",
     "text": [
      "Epoch 1 - train: 100%|██████████| 3000/3000 [00:12<00:00, 243.15it/s]\n",
      "Epoch 1 - val: 100%|██████████| 750/750 [00:02<00:00, 346.79it/s]\n"
     ]
    },
    {
     "name": "stdout",
     "output_type": "stream",
     "text": [
      "Epoch 1:\n",
      "Train Loss: 0.3305, Accuracy: 0.9032\n",
      "Val Loss: 0.2023, Accuracy: 0.9438\n"
     ]
    },
    {
     "name": "stderr",
     "output_type": "stream",
     "text": [
      "Epoch 2 - train: 100%|██████████| 3000/3000 [00:11<00:00, 254.54it/s]\n",
      "Epoch 2 - val: 100%|██████████| 750/750 [00:02<00:00, 354.01it/s]\n"
     ]
    },
    {
     "name": "stdout",
     "output_type": "stream",
     "text": [
      "Epoch 2:\n",
      "Train Loss: 0.1741, Accuracy: 0.9495\n",
      "Val Loss: 0.1549, Accuracy: 0.9561\n"
     ]
    },
    {
     "name": "stderr",
     "output_type": "stream",
     "text": [
      "Epoch 3 - train: 100%|██████████| 3000/3000 [00:12<00:00, 231.75it/s]\n",
      "Epoch 3 - val: 100%|██████████| 750/750 [00:02<00:00, 322.46it/s]\n"
     ]
    },
    {
     "name": "stdout",
     "output_type": "stream",
     "text": [
      "Epoch 3:\n",
      "Train Loss: 0.1311, Accuracy: 0.9624\n",
      "Val Loss: 0.1393, Accuracy: 0.9589\n"
     ]
    },
    {
     "name": "stderr",
     "output_type": "stream",
     "text": [
      "Epoch 4 - train: 100%|██████████| 3000/3000 [00:12<00:00, 231.21it/s]\n",
      "Epoch 4 - val: 100%|██████████| 750/750 [00:02<00:00, 342.61it/s]\n"
     ]
    },
    {
     "name": "stdout",
     "output_type": "stream",
     "text": [
      "Epoch 4:\n",
      "Train Loss: 0.1067, Accuracy: 0.9699\n",
      "Val Loss: 0.1230, Accuracy: 0.9638\n"
     ]
    },
    {
     "name": "stderr",
     "output_type": "stream",
     "text": [
      "Epoch 5 - train: 100%|██████████| 3000/3000 [00:12<00:00, 240.97it/s]\n",
      "Epoch 5 - val: 100%|██████████| 750/750 [00:02<00:00, 338.82it/s]\n"
     ]
    },
    {
     "name": "stdout",
     "output_type": "stream",
     "text": [
      "Epoch 5:\n",
      "Train Loss: 0.0900, Accuracy: 0.9740\n",
      "Val Loss: 0.1108, Accuracy: 0.9653\n"
     ]
    },
    {
     "name": "stderr",
     "output_type": "stream",
     "text": [
      "Epoch 6 - train: 100%|██████████| 3000/3000 [00:12<00:00, 241.05it/s]\n",
      "Epoch 6 - val: 100%|██████████| 750/750 [00:02<00:00, 333.07it/s]\n"
     ]
    },
    {
     "name": "stdout",
     "output_type": "stream",
     "text": [
      "Epoch 6:\n",
      "Train Loss: 0.0776, Accuracy: 0.9781\n",
      "Val Loss: 0.1076, Accuracy: 0.9677\n"
     ]
    },
    {
     "name": "stderr",
     "output_type": "stream",
     "text": [
      "Epoch 7 - train: 100%|██████████| 3000/3000 [00:12<00:00, 231.72it/s]\n",
      "Epoch 7 - val: 100%|██████████| 750/750 [00:02<00:00, 311.91it/s]\n"
     ]
    },
    {
     "name": "stdout",
     "output_type": "stream",
     "text": [
      "Epoch 7:\n",
      "Train Loss: 0.0679, Accuracy: 0.9806\n",
      "Val Loss: 0.1067, Accuracy: 0.9678\n"
     ]
    },
    {
     "name": "stderr",
     "output_type": "stream",
     "text": [
      "Epoch 8 - train: 100%|██████████| 3000/3000 [00:11<00:00, 252.77it/s]\n",
      "Epoch 8 - val: 100%|██████████| 750/750 [00:02<00:00, 305.91it/s]\n"
     ]
    },
    {
     "name": "stdout",
     "output_type": "stream",
     "text": [
      "Epoch 8:\n",
      "Train Loss: 0.0600, Accuracy: 0.9830\n",
      "Val Loss: 0.1026, Accuracy: 0.9689\n",
      "======== Pruned weights: 7951 out of 79510 ========\n"
     ]
    },
    {
     "name": "stderr",
     "output_type": "stream",
     "text": [
      "Epoch 9 - train: 100%|██████████| 3000/3000 [00:13<00:00, 222.78it/s]\n",
      "Epoch 9 - val: 100%|██████████| 750/750 [00:02<00:00, 337.86it/s]\n"
     ]
    },
    {
     "name": "stdout",
     "output_type": "stream",
     "text": [
      "Epoch 9:\n",
      "Train Loss: 0.0662, Accuracy: 0.9820\n",
      "Val Loss: 0.1018, Accuracy: 0.9693\n"
     ]
    },
    {
     "name": "stderr",
     "output_type": "stream",
     "text": [
      "Epoch 10 - train: 100%|██████████| 3000/3000 [00:13<00:00, 226.84it/s]\n",
      "Epoch 10 - val: 100%|██████████| 750/750 [00:02<00:00, 336.50it/s]\n"
     ]
    },
    {
     "name": "stdout",
     "output_type": "stream",
     "text": [
      "Epoch 10:\n",
      "Train Loss: 0.0577, Accuracy: 0.9839\n",
      "Val Loss: 0.0994, Accuracy: 0.9712\n"
     ]
    },
    {
     "name": "stderr",
     "output_type": "stream",
     "text": [
      "Epoch 11 - train: 100%|██████████| 3000/3000 [00:12<00:00, 232.06it/s]\n",
      "Epoch 11 - val: 100%|██████████| 750/750 [00:02<00:00, 332.16it/s]\n"
     ]
    },
    {
     "name": "stdout",
     "output_type": "stream",
     "text": [
      "Epoch 11:\n",
      "Train Loss: 0.0517, Accuracy: 0.9858\n",
      "Val Loss: 0.0952, Accuracy: 0.9718\n"
     ]
    },
    {
     "name": "stderr",
     "output_type": "stream",
     "text": [
      "Epoch 12 - train: 100%|██████████| 3000/3000 [00:12<00:00, 236.91it/s]\n",
      "Epoch 12 - val: 100%|██████████| 750/750 [00:02<00:00, 336.48it/s]\n"
     ]
    },
    {
     "name": "stdout",
     "output_type": "stream",
     "text": [
      "Epoch 12:\n",
      "Train Loss: 0.0459, Accuracy: 0.9880\n",
      "Val Loss: 0.1001, Accuracy: 0.9687\n"
     ]
    },
    {
     "name": "stderr",
     "output_type": "stream",
     "text": [
      "Epoch 13 - train: 100%|██████████| 3000/3000 [00:12<00:00, 234.30it/s]\n",
      "Epoch 13 - val: 100%|██████████| 750/750 [00:02<00:00, 355.37it/s]\n"
     ]
    },
    {
     "name": "stdout",
     "output_type": "stream",
     "text": [
      "Epoch 13:\n",
      "Train Loss: 0.0423, Accuracy: 0.9885\n",
      "Val Loss: 0.0934, Accuracy: 0.9732\n"
     ]
    },
    {
     "name": "stderr",
     "output_type": "stream",
     "text": [
      "Epoch 14 - train: 100%|██████████| 3000/3000 [00:11<00:00, 269.42it/s]\n",
      "Epoch 14 - val: 100%|██████████| 750/750 [00:02<00:00, 328.54it/s]\n"
     ]
    },
    {
     "name": "stdout",
     "output_type": "stream",
     "text": [
      "Epoch 14:\n",
      "Train Loss: 0.0379, Accuracy: 0.9907\n",
      "Val Loss: 0.0956, Accuracy: 0.9722\n"
     ]
    },
    {
     "name": "stderr",
     "output_type": "stream",
     "text": [
      "Epoch 15 - train: 100%|██████████| 3000/3000 [00:12<00:00, 243.51it/s]\n",
      "Epoch 15 - val: 100%|██████████| 750/750 [00:02<00:00, 355.37it/s]\n"
     ]
    },
    {
     "name": "stdout",
     "output_type": "stream",
     "text": [
      "Epoch 15:\n",
      "Train Loss: 0.0347, Accuracy: 0.9912\n",
      "Val Loss: 0.0935, Accuracy: 0.9728\n"
     ]
    },
    {
     "name": "stderr",
     "output_type": "stream",
     "text": [
      "Epoch 16 - train: 100%|██████████| 3000/3000 [00:11<00:00, 253.49it/s]\n",
      "Epoch 16 - val: 100%|██████████| 750/750 [00:02<00:00, 371.81it/s]\n"
     ]
    },
    {
     "name": "stdout",
     "output_type": "stream",
     "text": [
      "Epoch 16:\n",
      "Train Loss: 0.0316, Accuracy: 0.9927\n",
      "Val Loss: 0.0916, Accuracy: 0.9721\n"
     ]
    },
    {
     "name": "stderr",
     "output_type": "stream",
     "text": [
      "Epoch 17 - train: 100%|██████████| 3000/3000 [00:12<00:00, 238.33it/s]\n",
      "Epoch 17 - val: 100%|██████████| 750/750 [00:03<00:00, 230.19it/s]\n"
     ]
    },
    {
     "name": "stdout",
     "output_type": "stream",
     "text": [
      "Epoch 17:\n",
      "Train Loss: 0.0290, Accuracy: 0.9936\n",
      "Val Loss: 0.0933, Accuracy: 0.9724\n"
     ]
    },
    {
     "name": "stderr",
     "output_type": "stream",
     "text": [
      "Epoch 18 - train: 100%|██████████| 3000/3000 [00:12<00:00, 236.28it/s]\n",
      "Epoch 18 - val: 100%|██████████| 750/750 [00:02<00:00, 343.89it/s]\n"
     ]
    },
    {
     "name": "stdout",
     "output_type": "stream",
     "text": [
      "Epoch 18:\n",
      "Train Loss: 0.0267, Accuracy: 0.9941\n",
      "Val Loss: 0.0919, Accuracy: 0.9728\n"
     ]
    },
    {
     "name": "stderr",
     "output_type": "stream",
     "text": [
      "Epoch 19 - train: 100%|██████████| 3000/3000 [00:11<00:00, 262.91it/s]\n",
      "Epoch 19 - val: 100%|██████████| 750/750 [00:02<00:00, 341.74it/s]\n"
     ]
    },
    {
     "name": "stdout",
     "output_type": "stream",
     "text": [
      "Epoch 19:\n",
      "Train Loss: 0.0245, Accuracy: 0.9948\n",
      "Val Loss: 0.0927, Accuracy: 0.9720\n"
     ]
    },
    {
     "name": "stderr",
     "output_type": "stream",
     "text": [
      "Epoch 20 - train: 100%|██████████| 3000/3000 [00:12<00:00, 248.23it/s]\n",
      "Epoch 20 - val: 100%|██████████| 750/750 [00:02<00:00, 336.06it/s]\n"
     ]
    },
    {
     "name": "stdout",
     "output_type": "stream",
     "text": [
      "Epoch 20:\n",
      "Train Loss: 0.0224, Accuracy: 0.9956\n",
      "Val Loss: 0.0936, Accuracy: 0.9726\n"
     ]
    },
    {
     "name": "stderr",
     "output_type": "stream",
     "text": [
      "Epoch 21 - train: 100%|██████████| 3000/3000 [00:12<00:00, 242.69it/s]\n",
      "Epoch 21 - val: 100%|██████████| 750/750 [00:02<00:00, 348.37it/s]\n"
     ]
    },
    {
     "name": "stdout",
     "output_type": "stream",
     "text": [
      "Epoch 21:\n",
      "Train Loss: 0.0206, Accuracy: 0.9961\n",
      "Val Loss: 0.0927, Accuracy: 0.9730\n"
     ]
    },
    {
     "name": "stderr",
     "output_type": "stream",
     "text": [
      "Epoch 22 - train: 100%|██████████| 3000/3000 [00:12<00:00, 248.13it/s]\n",
      "Epoch 22 - val: 100%|██████████| 750/750 [00:02<00:00, 325.23it/s]\n"
     ]
    },
    {
     "name": "stdout",
     "output_type": "stream",
     "text": [
      "Epoch 22:\n",
      "Train Loss: 0.0190, Accuracy: 0.9967\n",
      "Val Loss: 0.0933, Accuracy: 0.9732\n"
     ]
    },
    {
     "name": "stderr",
     "output_type": "stream",
     "text": [
      "Epoch 23 - train: 100%|██████████| 3000/3000 [00:12<00:00, 246.28it/s]\n",
      "Epoch 23 - val: 100%|██████████| 750/750 [00:02<00:00, 309.98it/s]\n"
     ]
    },
    {
     "name": "stdout",
     "output_type": "stream",
     "text": [
      "Epoch 23:\n",
      "Train Loss: 0.0177, Accuracy: 0.9971\n",
      "Val Loss: 0.0952, Accuracy: 0.9731\n"
     ]
    },
    {
     "name": "stderr",
     "output_type": "stream",
     "text": [
      "Epoch 24 - train: 100%|██████████| 3000/3000 [00:12<00:00, 244.84it/s]\n",
      "Epoch 24 - val: 100%|██████████| 750/750 [00:02<00:00, 335.35it/s]\n"
     ]
    },
    {
     "name": "stdout",
     "output_type": "stream",
     "text": [
      "Epoch 24:\n",
      "Train Loss: 0.0162, Accuracy: 0.9977\n",
      "Val Loss: 0.0932, Accuracy: 0.9726\n"
     ]
    },
    {
     "name": "stderr",
     "output_type": "stream",
     "text": [
      "Epoch 25 - train: 100%|██████████| 3000/3000 [00:11<00:00, 252.16it/s]\n",
      "Epoch 25 - val: 100%|██████████| 750/750 [00:02<00:00, 342.61it/s]\n"
     ]
    },
    {
     "name": "stdout",
     "output_type": "stream",
     "text": [
      "Epoch 25:\n",
      "Train Loss: 0.0152, Accuracy: 0.9981\n",
      "Val Loss: 0.0941, Accuracy: 0.9737\n"
     ]
    },
    {
     "name": "stderr",
     "output_type": "stream",
     "text": [
      "Epoch 26 - train: 100%|██████████| 3000/3000 [00:12<00:00, 249.30it/s]\n",
      "Epoch 26 - val: 100%|██████████| 750/750 [00:02<00:00, 334.59it/s]\n"
     ]
    },
    {
     "name": "stdout",
     "output_type": "stream",
     "text": [
      "Epoch 26:\n",
      "Train Loss: 0.0142, Accuracy: 0.9980\n",
      "Val Loss: 0.0913, Accuracy: 0.9738\n"
     ]
    },
    {
     "name": "stderr",
     "output_type": "stream",
     "text": [
      "Epoch 27 - train: 100%|██████████| 3000/3000 [00:11<00:00, 258.46it/s]\n",
      "Epoch 27 - val: 100%|██████████| 750/750 [00:02<00:00, 342.08it/s]\n"
     ]
    },
    {
     "name": "stdout",
     "output_type": "stream",
     "text": [
      "Epoch 27:\n",
      "Train Loss: 0.0131, Accuracy: 0.9986\n",
      "Val Loss: 0.0955, Accuracy: 0.9723\n"
     ]
    },
    {
     "name": "stderr",
     "output_type": "stream",
     "text": [
      "Epoch 28 - train: 100%|██████████| 3000/3000 [00:11<00:00, 259.33it/s]\n",
      "Epoch 28 - val: 100%|██████████| 750/750 [00:02<00:00, 325.32it/s]\n"
     ]
    },
    {
     "name": "stdout",
     "output_type": "stream",
     "text": [
      "Epoch 28:\n",
      "Train Loss: 0.0122, Accuracy: 0.9987\n",
      "Val Loss: 0.0933, Accuracy: 0.9747\n"
     ]
    },
    {
     "name": "stderr",
     "output_type": "stream",
     "text": [
      "Epoch 29 - train: 100%|██████████| 3000/3000 [00:12<00:00, 238.72it/s]\n",
      "Epoch 29 - val: 100%|██████████| 750/750 [00:02<00:00, 334.71it/s]\n"
     ]
    },
    {
     "name": "stdout",
     "output_type": "stream",
     "text": [
      "Epoch 29:\n",
      "Train Loss: 0.0114, Accuracy: 0.9989\n",
      "Val Loss: 0.0923, Accuracy: 0.9739\n"
     ]
    },
    {
     "name": "stderr",
     "output_type": "stream",
     "text": [
      "Epoch 30 - train: 100%|██████████| 3000/3000 [00:11<00:00, 256.56it/s]\n",
      "Epoch 30 - val: 100%|██████████| 750/750 [00:02<00:00, 333.64it/s]\n"
     ]
    },
    {
     "name": "stdout",
     "output_type": "stream",
     "text": [
      "Epoch 30:\n",
      "Train Loss: 0.0106, Accuracy: 0.9989\n",
      "Val Loss: 0.0941, Accuracy: 0.9729\n"
     ]
    },
    {
     "name": "stderr",
     "output_type": "stream",
     "text": [
      "Epoch 31 - train: 100%|██████████| 3000/3000 [00:11<00:00, 253.44it/s]\n",
      "Epoch 31 - val: 100%|██████████| 750/750 [00:02<00:00, 311.09it/s]\n"
     ]
    },
    {
     "name": "stdout",
     "output_type": "stream",
     "text": [
      "Epoch 31:\n",
      "Train Loss: 0.0099, Accuracy: 0.9993\n",
      "Val Loss: 0.0932, Accuracy: 0.9742\n"
     ]
    },
    {
     "name": "stderr",
     "output_type": "stream",
     "text": [
      "Epoch 32 - train: 100%|██████████| 3000/3000 [00:12<00:00, 241.16it/s]\n",
      "Epoch 32 - val: 100%|██████████| 750/750 [00:02<00:00, 341.38it/s]\n"
     ]
    },
    {
     "name": "stdout",
     "output_type": "stream",
     "text": [
      "Epoch 32:\n",
      "Train Loss: 0.0094, Accuracy: 0.9992\n",
      "Val Loss: 0.0947, Accuracy: 0.9729\n"
     ]
    },
    {
     "name": "stderr",
     "output_type": "stream",
     "text": [
      "Epoch 33 - train: 100%|██████████| 3000/3000 [00:12<00:00, 243.70it/s]\n",
      "Epoch 33 - val: 100%|██████████| 750/750 [00:02<00:00, 343.16it/s]\n"
     ]
    },
    {
     "name": "stdout",
     "output_type": "stream",
     "text": [
      "Epoch 33:\n",
      "Train Loss: 0.0088, Accuracy: 0.9994\n",
      "Val Loss: 0.0954, Accuracy: 0.9730\n"
     ]
    },
    {
     "name": "stderr",
     "output_type": "stream",
     "text": [
      "Epoch 34 - train: 100%|██████████| 3000/3000 [00:12<00:00, 247.97it/s]\n",
      "Epoch 34 - val: 100%|██████████| 750/750 [00:02<00:00, 302.24it/s]\n"
     ]
    },
    {
     "name": "stdout",
     "output_type": "stream",
     "text": [
      "Epoch 34:\n",
      "Train Loss: 0.0083, Accuracy: 0.9994\n",
      "Val Loss: 0.0945, Accuracy: 0.9738\n"
     ]
    },
    {
     "name": "stderr",
     "output_type": "stream",
     "text": [
      "Epoch 35 - train: 100%|██████████| 3000/3000 [00:11<00:00, 255.49it/s]\n",
      "Epoch 35 - val: 100%|██████████| 750/750 [00:02<00:00, 355.44it/s]\n"
     ]
    },
    {
     "name": "stdout",
     "output_type": "stream",
     "text": [
      "Epoch 35:\n",
      "Train Loss: 0.0078, Accuracy: 0.9995\n",
      "Val Loss: 0.0945, Accuracy: 0.9742\n"
     ]
    },
    {
     "name": "stderr",
     "output_type": "stream",
     "text": [
      "Epoch 36 - train: 100%|██████████| 3000/3000 [00:12<00:00, 244.46it/s]\n",
      "Epoch 36 - val: 100%|██████████| 750/750 [00:02<00:00, 296.10it/s]\n"
     ]
    },
    {
     "name": "stdout",
     "output_type": "stream",
     "text": [
      "Epoch 36:\n",
      "Train Loss: 0.0074, Accuracy: 0.9997\n",
      "Val Loss: 0.0952, Accuracy: 0.9746\n"
     ]
    },
    {
     "name": "stderr",
     "output_type": "stream",
     "text": [
      "Epoch 37 - train: 100%|██████████| 3000/3000 [00:16<00:00, 180.88it/s]\n",
      "Epoch 37 - val: 100%|██████████| 750/750 [00:02<00:00, 296.09it/s]\n"
     ]
    },
    {
     "name": "stdout",
     "output_type": "stream",
     "text": [
      "Epoch 37:\n",
      "Train Loss: 0.0069, Accuracy: 0.9995\n",
      "Val Loss: 0.0956, Accuracy: 0.9742\n"
     ]
    },
    {
     "name": "stderr",
     "output_type": "stream",
     "text": [
      "Epoch 38 - train: 100%|██████████| 3000/3000 [00:13<00:00, 221.14it/s]\n",
      "Epoch 38 - val: 100%|██████████| 750/750 [00:03<00:00, 239.85it/s]\n"
     ]
    },
    {
     "name": "stdout",
     "output_type": "stream",
     "text": [
      "Epoch 38:\n",
      "Train Loss: 0.0066, Accuracy: 0.9997\n",
      "Val Loss: 0.0967, Accuracy: 0.9738\n"
     ]
    },
    {
     "name": "stderr",
     "output_type": "stream",
     "text": [
      "Epoch 39 - train: 100%|██████████| 3000/3000 [00:14<00:00, 201.72it/s]\n",
      "Epoch 39 - val: 100%|██████████| 750/750 [00:02<00:00, 276.84it/s]\n"
     ]
    },
    {
     "name": "stdout",
     "output_type": "stream",
     "text": [
      "Epoch 39:\n",
      "Train Loss: 0.0063, Accuracy: 0.9998\n",
      "Val Loss: 0.0956, Accuracy: 0.9738\n"
     ]
    },
    {
     "name": "stderr",
     "output_type": "stream",
     "text": [
      "Epoch 40 - train: 100%|██████████| 3000/3000 [00:16<00:00, 180.96it/s]\n",
      "Epoch 40 - val: 100%|██████████| 750/750 [00:02<00:00, 259.17it/s]\n"
     ]
    },
    {
     "name": "stdout",
     "output_type": "stream",
     "text": [
      "Epoch 40:\n",
      "Train Loss: 0.0060, Accuracy: 0.9998\n",
      "Val Loss: 0.0961, Accuracy: 0.9746\n"
     ]
    },
    {
     "name": "stderr",
     "output_type": "stream",
     "text": [
      "Epoch 41 - train: 100%|██████████| 3000/3000 [00:17<00:00, 169.31it/s]\n",
      "Epoch 41 - val: 100%|██████████| 750/750 [00:03<00:00, 241.45it/s]\n"
     ]
    },
    {
     "name": "stdout",
     "output_type": "stream",
     "text": [
      "Epoch 41:\n",
      "Train Loss: 0.0056, Accuracy: 0.9998\n",
      "Val Loss: 0.0961, Accuracy: 0.9740\n"
     ]
    },
    {
     "name": "stderr",
     "output_type": "stream",
     "text": [
      "Epoch 42 - train: 100%|██████████| 3000/3000 [00:16<00:00, 187.41it/s]\n",
      "Epoch 42 - val: 100%|██████████| 750/750 [00:02<00:00, 276.29it/s]\n"
     ]
    },
    {
     "name": "stdout",
     "output_type": "stream",
     "text": [
      "Epoch 42:\n",
      "Train Loss: 0.0054, Accuracy: 0.9998\n",
      "Val Loss: 0.0957, Accuracy: 0.9751\n"
     ]
    },
    {
     "name": "stderr",
     "output_type": "stream",
     "text": [
      "Epoch 43 - train: 100%|██████████| 3000/3000 [00:16<00:00, 183.90it/s]\n",
      "Epoch 43 - val: 100%|██████████| 750/750 [00:03<00:00, 247.00it/s]\n"
     ]
    },
    {
     "name": "stdout",
     "output_type": "stream",
     "text": [
      "Epoch 43:\n",
      "Train Loss: 0.0052, Accuracy: 0.9998\n",
      "Val Loss: 0.0973, Accuracy: 0.9747\n"
     ]
    },
    {
     "name": "stderr",
     "output_type": "stream",
     "text": [
      "Epoch 44 - train: 100%|██████████| 3000/3000 [00:13<00:00, 229.62it/s]\n",
      "Epoch 44 - val: 100%|██████████| 750/750 [00:02<00:00, 311.69it/s]\n"
     ]
    },
    {
     "name": "stdout",
     "output_type": "stream",
     "text": [
      "Epoch 44:\n",
      "Train Loss: 0.0050, Accuracy: 0.9998\n",
      "Val Loss: 0.0971, Accuracy: 0.9743\n"
     ]
    },
    {
     "name": "stderr",
     "output_type": "stream",
     "text": [
      "Epoch 45 - train: 100%|██████████| 3000/3000 [00:15<00:00, 188.78it/s]\n",
      "Epoch 45 - val: 100%|██████████| 750/750 [00:02<00:00, 259.93it/s]\n"
     ]
    },
    {
     "name": "stdout",
     "output_type": "stream",
     "text": [
      "Epoch 45:\n",
      "Train Loss: 0.0048, Accuracy: 0.9999\n",
      "Val Loss: 0.0981, Accuracy: 0.9750\n"
     ]
    },
    {
     "name": "stderr",
     "output_type": "stream",
     "text": [
      "Epoch 46 - train: 100%|██████████| 3000/3000 [00:17<00:00, 175.05it/s]\n",
      "Epoch 46 - val: 100%|██████████| 750/750 [00:04<00:00, 177.99it/s]\n"
     ]
    },
    {
     "name": "stdout",
     "output_type": "stream",
     "text": [
      "Epoch 46:\n",
      "Train Loss: 0.0046, Accuracy: 0.9999\n",
      "Val Loss: 0.0980, Accuracy: 0.9748\n"
     ]
    },
    {
     "name": "stderr",
     "output_type": "stream",
     "text": [
      "Epoch 47 - train: 100%|██████████| 3000/3000 [00:13<00:00, 221.12it/s]\n",
      "Epoch 47 - val: 100%|██████████| 750/750 [00:02<00:00, 363.67it/s]\n"
     ]
    },
    {
     "name": "stdout",
     "output_type": "stream",
     "text": [
      "Epoch 47:\n",
      "Train Loss: 0.0044, Accuracy: 0.9999\n",
      "Val Loss: 0.0972, Accuracy: 0.9742\n"
     ]
    },
    {
     "name": "stderr",
     "output_type": "stream",
     "text": [
      "Epoch 48 - train: 100%|██████████| 3000/3000 [00:13<00:00, 215.09it/s]\n",
      "Epoch 48 - val: 100%|██████████| 750/750 [00:02<00:00, 259.91it/s]\n"
     ]
    },
    {
     "name": "stdout",
     "output_type": "stream",
     "text": [
      "Epoch 48:\n",
      "Train Loss: 0.0042, Accuracy: 0.9999\n",
      "Val Loss: 0.0990, Accuracy: 0.9738\n"
     ]
    },
    {
     "name": "stderr",
     "output_type": "stream",
     "text": [
      "Epoch 49 - train: 100%|██████████| 3000/3000 [00:16<00:00, 180.42it/s]\n",
      "Epoch 49 - val: 100%|██████████| 750/750 [00:02<00:00, 365.89it/s]\n"
     ]
    },
    {
     "name": "stdout",
     "output_type": "stream",
     "text": [
      "Epoch 49:\n",
      "Train Loss: 0.0041, Accuracy: 0.9999\n",
      "Val Loss: 0.0994, Accuracy: 0.9742\n"
     ]
    },
    {
     "name": "stderr",
     "output_type": "stream",
     "text": [
      "Epoch 50 - train: 100%|██████████| 3000/3000 [00:14<00:00, 209.61it/s]\n",
      "Epoch 50 - val: 100%|██████████| 750/750 [00:02<00:00, 266.98it/s]\n"
     ]
    },
    {
     "name": "stdout",
     "output_type": "stream",
     "text": [
      "Epoch 50:\n",
      "Train Loss: 0.0039, Accuracy: 0.9999\n",
      "Val Loss: 0.0987, Accuracy: 0.9747\n",
      "<=== TEST 3 OF 3 ===>\n"
     ]
    },
    {
     "name": "stderr",
     "output_type": "stream",
     "text": [
      "Epoch 1 - train: 100%|██████████| 3000/3000 [00:15<00:00, 188.65it/s]\n",
      "Epoch 1 - val: 100%|██████████| 750/750 [00:03<00:00, 248.17it/s]\n"
     ]
    },
    {
     "name": "stdout",
     "output_type": "stream",
     "text": [
      "Epoch 1:\n",
      "Train Loss: 0.3305, Accuracy: 0.9032\n",
      "Val Loss: 0.2023, Accuracy: 0.9438\n"
     ]
    },
    {
     "name": "stderr",
     "output_type": "stream",
     "text": [
      "Epoch 2 - train: 100%|██████████| 3000/3000 [00:15<00:00, 194.59it/s]\n",
      "Epoch 2 - val: 100%|██████████| 750/750 [00:03<00:00, 228.40it/s]\n"
     ]
    },
    {
     "name": "stdout",
     "output_type": "stream",
     "text": [
      "Epoch 2:\n",
      "Train Loss: 0.1741, Accuracy: 0.9495\n",
      "Val Loss: 0.1549, Accuracy: 0.9561\n"
     ]
    },
    {
     "name": "stderr",
     "output_type": "stream",
     "text": [
      "Epoch 3 - train: 100%|██████████| 3000/3000 [00:18<00:00, 166.61it/s]\n",
      "Epoch 3 - val: 100%|██████████| 750/750 [00:02<00:00, 298.54it/s]\n"
     ]
    },
    {
     "name": "stdout",
     "output_type": "stream",
     "text": [
      "Epoch 3:\n",
      "Train Loss: 0.1311, Accuracy: 0.9624\n",
      "Val Loss: 0.1393, Accuracy: 0.9589\n"
     ]
    },
    {
     "name": "stderr",
     "output_type": "stream",
     "text": [
      "Epoch 4 - train: 100%|██████████| 3000/3000 [00:12<00:00, 242.03it/s]\n",
      "Epoch 4 - val: 100%|██████████| 750/750 [00:02<00:00, 308.90it/s]\n"
     ]
    },
    {
     "name": "stdout",
     "output_type": "stream",
     "text": [
      "Epoch 4:\n",
      "Train Loss: 0.1067, Accuracy: 0.9699\n",
      "Val Loss: 0.1230, Accuracy: 0.9638\n"
     ]
    },
    {
     "name": "stderr",
     "output_type": "stream",
     "text": [
      "Epoch 5 - train: 100%|██████████| 3000/3000 [00:13<00:00, 228.77it/s]\n",
      "Epoch 5 - val: 100%|██████████| 750/750 [00:02<00:00, 310.24it/s]\n"
     ]
    },
    {
     "name": "stdout",
     "output_type": "stream",
     "text": [
      "Epoch 5:\n",
      "Train Loss: 0.0900, Accuracy: 0.9740\n",
      "Val Loss: 0.1108, Accuracy: 0.9653\n"
     ]
    },
    {
     "name": "stderr",
     "output_type": "stream",
     "text": [
      "Epoch 6 - train: 100%|██████████| 3000/3000 [00:16<00:00, 178.54it/s]\n",
      "Epoch 6 - val: 100%|██████████| 750/750 [00:02<00:00, 257.81it/s]\n"
     ]
    },
    {
     "name": "stdout",
     "output_type": "stream",
     "text": [
      "Epoch 6:\n",
      "Train Loss: 0.0776, Accuracy: 0.9781\n",
      "Val Loss: 0.1076, Accuracy: 0.9677\n"
     ]
    },
    {
     "name": "stderr",
     "output_type": "stream",
     "text": [
      "Epoch 7 - train: 100%|██████████| 3000/3000 [00:15<00:00, 198.31it/s]\n",
      "Epoch 7 - val: 100%|██████████| 750/750 [00:02<00:00, 276.85it/s]\n"
     ]
    },
    {
     "name": "stdout",
     "output_type": "stream",
     "text": [
      "Epoch 7:\n",
      "Train Loss: 0.0679, Accuracy: 0.9806\n",
      "Val Loss: 0.1067, Accuracy: 0.9678\n"
     ]
    },
    {
     "name": "stderr",
     "output_type": "stream",
     "text": [
      "Epoch 8 - train: 100%|██████████| 3000/3000 [00:12<00:00, 241.69it/s]\n",
      "Epoch 8 - val: 100%|██████████| 750/750 [00:02<00:00, 274.77it/s]\n"
     ]
    },
    {
     "name": "stdout",
     "output_type": "stream",
     "text": [
      "Epoch 8:\n",
      "Train Loss: 0.0600, Accuracy: 0.9830\n",
      "Val Loss: 0.1026, Accuracy: 0.9689\n"
     ]
    },
    {
     "name": "stderr",
     "output_type": "stream",
     "text": [
      "Epoch 9 - train: 100%|██████████| 3000/3000 [00:19<00:00, 152.37it/s]\n",
      "Epoch 9 - val: 100%|██████████| 750/750 [00:03<00:00, 245.85it/s]\n"
     ]
    },
    {
     "name": "stdout",
     "output_type": "stream",
     "text": [
      "Epoch 9:\n",
      "Train Loss: 0.0532, Accuracy: 0.9858\n",
      "Val Loss: 0.0973, Accuracy: 0.9708\n"
     ]
    },
    {
     "name": "stderr",
     "output_type": "stream",
     "text": [
      "Epoch 10 - train: 100%|██████████| 3000/3000 [00:13<00:00, 221.13it/s]\n",
      "Epoch 10 - val: 100%|██████████| 750/750 [00:02<00:00, 306.44it/s]\n"
     ]
    },
    {
     "name": "stdout",
     "output_type": "stream",
     "text": [
      "Epoch 10:\n",
      "Train Loss: 0.0475, Accuracy: 0.9871\n",
      "Val Loss: 0.0952, Accuracy: 0.9725\n",
      "======== Pruned weights: 7951 out of 79510 ========\n"
     ]
    },
    {
     "name": "stderr",
     "output_type": "stream",
     "text": [
      "Epoch 11 - train: 100%|██████████| 3000/3000 [00:14<00:00, 206.48it/s]\n",
      "Epoch 11 - val: 100%|██████████| 750/750 [00:02<00:00, 308.53it/s]\n"
     ]
    },
    {
     "name": "stdout",
     "output_type": "stream",
     "text": [
      "Epoch 11:\n",
      "Train Loss: 0.0570, Accuracy: 0.9846\n",
      "Val Loss: 0.0985, Accuracy: 0.9712\n"
     ]
    },
    {
     "name": "stderr",
     "output_type": "stream",
     "text": [
      "Epoch 12 - train: 100%|██████████| 3000/3000 [00:13<00:00, 222.76it/s]\n",
      "Epoch 12 - val: 100%|██████████| 750/750 [00:02<00:00, 299.74it/s]\n"
     ]
    },
    {
     "name": "stdout",
     "output_type": "stream",
     "text": [
      "Epoch 12:\n",
      "Train Loss: 0.0494, Accuracy: 0.9866\n",
      "Val Loss: 0.1012, Accuracy: 0.9692\n"
     ]
    },
    {
     "name": "stderr",
     "output_type": "stream",
     "text": [
      "Epoch 13 - train: 100%|██████████| 3000/3000 [00:14<00:00, 204.14it/s]\n",
      "Epoch 13 - val: 100%|██████████| 750/750 [00:02<00:00, 277.44it/s]\n"
     ]
    },
    {
     "name": "stdout",
     "output_type": "stream",
     "text": [
      "Epoch 13:\n",
      "Train Loss: 0.0450, Accuracy: 0.9878\n",
      "Val Loss: 0.0951, Accuracy: 0.9711\n"
     ]
    },
    {
     "name": "stderr",
     "output_type": "stream",
     "text": [
      "Epoch 14 - train: 100%|██████████| 3000/3000 [00:11<00:00, 250.56it/s]\n",
      "Epoch 14 - val: 100%|██████████| 750/750 [00:02<00:00, 273.30it/s]\n"
     ]
    },
    {
     "name": "stdout",
     "output_type": "stream",
     "text": [
      "Epoch 14:\n",
      "Train Loss: 0.0403, Accuracy: 0.9898\n",
      "Val Loss: 0.0968, Accuracy: 0.9699\n"
     ]
    },
    {
     "name": "stderr",
     "output_type": "stream",
     "text": [
      "Epoch 15 - train: 100%|██████████| 3000/3000 [00:17<00:00, 170.76it/s]\n",
      "Epoch 15 - val: 100%|██████████| 750/750 [00:02<00:00, 288.94it/s]\n"
     ]
    },
    {
     "name": "stdout",
     "output_type": "stream",
     "text": [
      "Epoch 15:\n",
      "Train Loss: 0.0367, Accuracy: 0.9907\n",
      "Val Loss: 0.0955, Accuracy: 0.9712\n"
     ]
    },
    {
     "name": "stderr",
     "output_type": "stream",
     "text": [
      "Epoch 16 - train: 100%|██████████| 3000/3000 [00:15<00:00, 188.09it/s]\n",
      "Epoch 16 - val: 100%|██████████| 750/750 [00:02<00:00, 310.73it/s]\n"
     ]
    },
    {
     "name": "stdout",
     "output_type": "stream",
     "text": [
      "Epoch 16:\n",
      "Train Loss: 0.0334, Accuracy: 0.9919\n",
      "Val Loss: 0.0935, Accuracy: 0.9719\n"
     ]
    },
    {
     "name": "stderr",
     "output_type": "stream",
     "text": [
      "Epoch 17 - train: 100%|██████████| 3000/3000 [00:13<00:00, 227.33it/s]\n",
      "Epoch 17 - val: 100%|██████████| 750/750 [00:02<00:00, 294.22it/s]\n"
     ]
    },
    {
     "name": "stdout",
     "output_type": "stream",
     "text": [
      "Epoch 17:\n",
      "Train Loss: 0.0309, Accuracy: 0.9925\n",
      "Val Loss: 0.0945, Accuracy: 0.9718\n"
     ]
    },
    {
     "name": "stderr",
     "output_type": "stream",
     "text": [
      "Epoch 18 - train: 100%|██████████| 3000/3000 [00:16<00:00, 180.08it/s]\n",
      "Epoch 18 - val: 100%|██████████| 750/750 [00:02<00:00, 290.49it/s]\n"
     ]
    },
    {
     "name": "stdout",
     "output_type": "stream",
     "text": [
      "Epoch 18:\n",
      "Train Loss: 0.0283, Accuracy: 0.9936\n",
      "Val Loss: 0.0931, Accuracy: 0.9732\n"
     ]
    },
    {
     "name": "stderr",
     "output_type": "stream",
     "text": [
      "Epoch 19 - train: 100%|██████████| 3000/3000 [00:13<00:00, 219.96it/s]\n",
      "Epoch 19 - val: 100%|██████████| 750/750 [00:02<00:00, 313.20it/s]\n"
     ]
    },
    {
     "name": "stdout",
     "output_type": "stream",
     "text": [
      "Epoch 19:\n",
      "Train Loss: 0.0260, Accuracy: 0.9944\n",
      "Val Loss: 0.0949, Accuracy: 0.9721\n"
     ]
    },
    {
     "name": "stderr",
     "output_type": "stream",
     "text": [
      "Epoch 20 - train: 100%|██████████| 3000/3000 [00:14<00:00, 207.12it/s]\n",
      "Epoch 20 - val: 100%|██████████| 750/750 [00:04<00:00, 171.88it/s]\n"
     ]
    },
    {
     "name": "stdout",
     "output_type": "stream",
     "text": [
      "Epoch 20:\n",
      "Train Loss: 0.0238, Accuracy: 0.9951\n",
      "Val Loss: 0.0953, Accuracy: 0.9724\n"
     ]
    },
    {
     "name": "stderr",
     "output_type": "stream",
     "text": [
      "Epoch 21 - train: 100%|██████████| 3000/3000 [00:15<00:00, 196.56it/s]\n",
      "Epoch 21 - val: 100%|██████████| 750/750 [00:02<00:00, 322.76it/s]\n"
     ]
    },
    {
     "name": "stdout",
     "output_type": "stream",
     "text": [
      "Epoch 21:\n",
      "Train Loss: 0.0219, Accuracy: 0.9955\n",
      "Val Loss: 0.0934, Accuracy: 0.9721\n"
     ]
    },
    {
     "name": "stderr",
     "output_type": "stream",
     "text": [
      "Epoch 22 - train: 100%|██████████| 3000/3000 [00:18<00:00, 163.45it/s]\n",
      "Epoch 22 - val: 100%|██████████| 750/750 [00:03<00:00, 247.28it/s]\n"
     ]
    },
    {
     "name": "stdout",
     "output_type": "stream",
     "text": [
      "Epoch 22:\n",
      "Train Loss: 0.0200, Accuracy: 0.9963\n",
      "Val Loss: 0.0966, Accuracy: 0.9723\n"
     ]
    },
    {
     "name": "stderr",
     "output_type": "stream",
     "text": [
      "Epoch 23 - train: 100%|██████████| 3000/3000 [00:14<00:00, 212.96it/s]\n",
      "Epoch 23 - val: 100%|██████████| 750/750 [00:02<00:00, 260.18it/s]\n"
     ]
    },
    {
     "name": "stdout",
     "output_type": "stream",
     "text": [
      "Epoch 23:\n",
      "Train Loss: 0.0188, Accuracy: 0.9965\n",
      "Val Loss: 0.0955, Accuracy: 0.9716\n"
     ]
    },
    {
     "name": "stderr",
     "output_type": "stream",
     "text": [
      "Epoch 24 - train: 100%|██████████| 3000/3000 [00:13<00:00, 217.42it/s]\n",
      "Epoch 24 - val: 100%|██████████| 750/750 [00:02<00:00, 307.12it/s]\n"
     ]
    },
    {
     "name": "stdout",
     "output_type": "stream",
     "text": [
      "Epoch 24:\n",
      "Train Loss: 0.0173, Accuracy: 0.9970\n",
      "Val Loss: 0.0942, Accuracy: 0.9733\n"
     ]
    },
    {
     "name": "stderr",
     "output_type": "stream",
     "text": [
      "Epoch 25 - train: 100%|██████████| 3000/3000 [00:12<00:00, 239.08it/s]\n",
      "Epoch 25 - val: 100%|██████████| 750/750 [00:02<00:00, 281.18it/s]\n"
     ]
    },
    {
     "name": "stdout",
     "output_type": "stream",
     "text": [
      "Epoch 25:\n",
      "Train Loss: 0.0161, Accuracy: 0.9975\n",
      "Val Loss: 0.0940, Accuracy: 0.9728\n"
     ]
    },
    {
     "name": "stderr",
     "output_type": "stream",
     "text": [
      "Epoch 26 - train: 100%|██████████| 3000/3000 [00:12<00:00, 240.86it/s]\n",
      "Epoch 26 - val: 100%|██████████| 750/750 [00:02<00:00, 316.43it/s]\n"
     ]
    },
    {
     "name": "stdout",
     "output_type": "stream",
     "text": [
      "Epoch 26:\n",
      "Train Loss: 0.0149, Accuracy: 0.9978\n",
      "Val Loss: 0.0926, Accuracy: 0.9733\n"
     ]
    },
    {
     "name": "stderr",
     "output_type": "stream",
     "text": [
      "Epoch 27 - train: 100%|██████████| 3000/3000 [00:14<00:00, 202.34it/s]\n",
      "Epoch 27 - val: 100%|██████████| 750/750 [00:02<00:00, 300.80it/s]\n"
     ]
    },
    {
     "name": "stdout",
     "output_type": "stream",
     "text": [
      "Epoch 27:\n",
      "Train Loss: 0.0138, Accuracy: 0.9984\n",
      "Val Loss: 0.0992, Accuracy: 0.9711\n"
     ]
    },
    {
     "name": "stderr",
     "output_type": "stream",
     "text": [
      "Epoch 28 - train: 100%|██████████| 3000/3000 [00:14<00:00, 201.22it/s]\n",
      "Epoch 28 - val: 100%|██████████| 750/750 [00:03<00:00, 230.34it/s]\n"
     ]
    },
    {
     "name": "stdout",
     "output_type": "stream",
     "text": [
      "Epoch 28:\n",
      "Train Loss: 0.0128, Accuracy: 0.9986\n",
      "Val Loss: 0.0952, Accuracy: 0.9725\n"
     ]
    },
    {
     "name": "stderr",
     "output_type": "stream",
     "text": [
      "Epoch 29 - train: 100%|██████████| 3000/3000 [00:15<00:00, 189.28it/s]\n",
      "Epoch 29 - val: 100%|██████████| 750/750 [00:02<00:00, 314.03it/s]\n"
     ]
    },
    {
     "name": "stdout",
     "output_type": "stream",
     "text": [
      "Epoch 29:\n",
      "Train Loss: 0.0121, Accuracy: 0.9988\n",
      "Val Loss: 0.0944, Accuracy: 0.9732\n"
     ]
    },
    {
     "name": "stderr",
     "output_type": "stream",
     "text": [
      "Epoch 30 - train: 100%|██████████| 3000/3000 [00:13<00:00, 227.57it/s]\n",
      "Epoch 30 - val: 100%|██████████| 750/750 [00:02<00:00, 338.69it/s]\n"
     ]
    },
    {
     "name": "stdout",
     "output_type": "stream",
     "text": [
      "Epoch 30:\n",
      "Train Loss: 0.0112, Accuracy: 0.9989\n",
      "Val Loss: 0.0950, Accuracy: 0.9729\n"
     ]
    },
    {
     "name": "stderr",
     "output_type": "stream",
     "text": [
      "Epoch 31 - train: 100%|██████████| 3000/3000 [00:13<00:00, 214.34it/s]\n",
      "Epoch 31 - val: 100%|██████████| 750/750 [00:03<00:00, 235.93it/s]\n"
     ]
    },
    {
     "name": "stdout",
     "output_type": "stream",
     "text": [
      "Epoch 31:\n",
      "Train Loss: 0.0106, Accuracy: 0.9990\n",
      "Val Loss: 0.0955, Accuracy: 0.9737\n"
     ]
    },
    {
     "name": "stderr",
     "output_type": "stream",
     "text": [
      "Epoch 32 - train: 100%|██████████| 3000/3000 [00:11<00:00, 261.89it/s]\n",
      "Epoch 32 - val: 100%|██████████| 750/750 [00:03<00:00, 231.42it/s]\n"
     ]
    },
    {
     "name": "stdout",
     "output_type": "stream",
     "text": [
      "Epoch 32:\n",
      "Train Loss: 0.0099, Accuracy: 0.9992\n",
      "Val Loss: 0.0961, Accuracy: 0.9727\n"
     ]
    },
    {
     "name": "stderr",
     "output_type": "stream",
     "text": [
      "Epoch 33 - train: 100%|██████████| 3000/3000 [00:18<00:00, 164.30it/s]\n",
      "Epoch 33 - val: 100%|██████████| 750/750 [00:02<00:00, 290.34it/s]\n"
     ]
    },
    {
     "name": "stdout",
     "output_type": "stream",
     "text": [
      "Epoch 33:\n",
      "Train Loss: 0.0093, Accuracy: 0.9993\n",
      "Val Loss: 0.0982, Accuracy: 0.9722\n"
     ]
    },
    {
     "name": "stderr",
     "output_type": "stream",
     "text": [
      "Epoch 34 - train: 100%|██████████| 3000/3000 [00:15<00:00, 194.08it/s]\n",
      "Epoch 34 - val: 100%|██████████| 750/750 [00:02<00:00, 312.21it/s]\n"
     ]
    },
    {
     "name": "stdout",
     "output_type": "stream",
     "text": [
      "Epoch 34:\n",
      "Train Loss: 0.0089, Accuracy: 0.9994\n",
      "Val Loss: 0.0968, Accuracy: 0.9728\n"
     ]
    },
    {
     "name": "stderr",
     "output_type": "stream",
     "text": [
      "Epoch 35 - train: 100%|██████████| 3000/3000 [00:11<00:00, 257.30it/s]\n",
      "Epoch 35 - val: 100%|██████████| 750/750 [00:01<00:00, 384.99it/s]\n"
     ]
    },
    {
     "name": "stdout",
     "output_type": "stream",
     "text": [
      "Epoch 35:\n",
      "Train Loss: 0.0083, Accuracy: 0.9995\n",
      "Val Loss: 0.0964, Accuracy: 0.9724\n"
     ]
    },
    {
     "name": "stderr",
     "output_type": "stream",
     "text": [
      "Epoch 36 - train: 100%|██████████| 3000/3000 [00:12<00:00, 245.96it/s]\n",
      "Epoch 36 - val: 100%|██████████| 750/750 [00:01<00:00, 376.53it/s]\n"
     ]
    },
    {
     "name": "stdout",
     "output_type": "stream",
     "text": [
      "Epoch 36:\n",
      "Train Loss: 0.0078, Accuracy: 0.9996\n",
      "Val Loss: 0.0968, Accuracy: 0.9731\n"
     ]
    },
    {
     "name": "stderr",
     "output_type": "stream",
     "text": [
      "Epoch 37 - train: 100%|██████████| 3000/3000 [00:10<00:00, 279.74it/s]\n",
      "Epoch 37 - val: 100%|██████████| 750/750 [00:01<00:00, 392.02it/s]\n"
     ]
    },
    {
     "name": "stdout",
     "output_type": "stream",
     "text": [
      "Epoch 37:\n",
      "Train Loss: 0.0074, Accuracy: 0.9996\n",
      "Val Loss: 0.0985, Accuracy: 0.9728\n"
     ]
    },
    {
     "name": "stderr",
     "output_type": "stream",
     "text": [
      "Epoch 38 - train: 100%|██████████| 3000/3000 [00:12<00:00, 236.62it/s]\n",
      "Epoch 38 - val: 100%|██████████| 750/750 [00:02<00:00, 317.06it/s]\n"
     ]
    },
    {
     "name": "stdout",
     "output_type": "stream",
     "text": [
      "Epoch 38:\n",
      "Train Loss: 0.0070, Accuracy: 0.9996\n",
      "Val Loss: 0.0983, Accuracy: 0.9732\n"
     ]
    },
    {
     "name": "stderr",
     "output_type": "stream",
     "text": [
      "Epoch 39 - train: 100%|██████████| 3000/3000 [00:13<00:00, 218.16it/s]\n",
      "Epoch 39 - val: 100%|██████████| 750/750 [00:02<00:00, 308.81it/s]\n"
     ]
    },
    {
     "name": "stdout",
     "output_type": "stream",
     "text": [
      "Epoch 39:\n",
      "Train Loss: 0.0067, Accuracy: 0.9998\n",
      "Val Loss: 0.0974, Accuracy: 0.9731\n"
     ]
    },
    {
     "name": "stderr",
     "output_type": "stream",
     "text": [
      "Epoch 40 - train: 100%|██████████| 3000/3000 [00:13<00:00, 216.97it/s]\n",
      "Epoch 40 - val: 100%|██████████| 750/750 [00:02<00:00, 276.94it/s]\n"
     ]
    },
    {
     "name": "stdout",
     "output_type": "stream",
     "text": [
      "Epoch 40:\n",
      "Train Loss: 0.0063, Accuracy: 0.9997\n",
      "Val Loss: 0.0980, Accuracy: 0.9737\n"
     ]
    },
    {
     "name": "stderr",
     "output_type": "stream",
     "text": [
      "Epoch 41 - train: 100%|██████████| 3000/3000 [00:12<00:00, 239.24it/s]\n",
      "Epoch 41 - val: 100%|██████████| 750/750 [00:02<00:00, 271.20it/s]\n"
     ]
    },
    {
     "name": "stdout",
     "output_type": "stream",
     "text": [
      "Epoch 41:\n",
      "Train Loss: 0.0060, Accuracy: 0.9998\n",
      "Val Loss: 0.0982, Accuracy: 0.9729\n"
     ]
    },
    {
     "name": "stderr",
     "output_type": "stream",
     "text": [
      "Epoch 42 - train: 100%|██████████| 3000/3000 [00:13<00:00, 230.59it/s]\n",
      "Epoch 42 - val: 100%|██████████| 750/750 [00:01<00:00, 383.90it/s]\n"
     ]
    },
    {
     "name": "stdout",
     "output_type": "stream",
     "text": [
      "Epoch 42:\n",
      "Train Loss: 0.0057, Accuracy: 0.9998\n",
      "Val Loss: 0.0983, Accuracy: 0.9734\n"
     ]
    },
    {
     "name": "stderr",
     "output_type": "stream",
     "text": [
      "Epoch 43 - train: 100%|██████████| 3000/3000 [00:11<00:00, 271.35it/s]\n",
      "Epoch 43 - val: 100%|██████████| 750/750 [00:01<00:00, 385.61it/s]\n"
     ]
    },
    {
     "name": "stdout",
     "output_type": "stream",
     "text": [
      "Epoch 43:\n",
      "Train Loss: 0.0055, Accuracy: 0.9998\n",
      "Val Loss: 0.0998, Accuracy: 0.9728\n"
     ]
    },
    {
     "name": "stderr",
     "output_type": "stream",
     "text": [
      "Epoch 44 - train: 100%|██████████| 3000/3000 [00:11<00:00, 261.35it/s]\n",
      "Epoch 44 - val: 100%|██████████| 750/750 [00:02<00:00, 277.05it/s]\n"
     ]
    },
    {
     "name": "stdout",
     "output_type": "stream",
     "text": [
      "Epoch 44:\n",
      "Train Loss: 0.0052, Accuracy: 0.9998\n",
      "Val Loss: 0.0994, Accuracy: 0.9732\n"
     ]
    },
    {
     "name": "stderr",
     "output_type": "stream",
     "text": [
      "Epoch 45 - train: 100%|██████████| 3000/3000 [00:15<00:00, 198.10it/s]\n",
      "Epoch 45 - val: 100%|██████████| 750/750 [00:02<00:00, 299.01it/s]\n"
     ]
    },
    {
     "name": "stdout",
     "output_type": "stream",
     "text": [
      "Epoch 45:\n",
      "Train Loss: 0.0050, Accuracy: 0.9998\n",
      "Val Loss: 0.1006, Accuracy: 0.9728\n"
     ]
    },
    {
     "name": "stderr",
     "output_type": "stream",
     "text": [
      "Epoch 46 - train: 100%|██████████| 3000/3000 [00:14<00:00, 208.67it/s]\n",
      "Epoch 46 - val: 100%|██████████| 750/750 [00:02<00:00, 268.95it/s]\n"
     ]
    },
    {
     "name": "stdout",
     "output_type": "stream",
     "text": [
      "Epoch 46:\n",
      "Train Loss: 0.0048, Accuracy: 0.9999\n",
      "Val Loss: 0.1009, Accuracy: 0.9732\n"
     ]
    },
    {
     "name": "stderr",
     "output_type": "stream",
     "text": [
      "Epoch 47 - train: 100%|██████████| 3000/3000 [00:13<00:00, 227.88it/s]\n",
      "Epoch 47 - val: 100%|██████████| 750/750 [00:02<00:00, 341.50it/s]\n"
     ]
    },
    {
     "name": "stdout",
     "output_type": "stream",
     "text": [
      "Epoch 47:\n",
      "Train Loss: 0.0046, Accuracy: 0.9999\n",
      "Val Loss: 0.0999, Accuracy: 0.9731\n"
     ]
    },
    {
     "name": "stderr",
     "output_type": "stream",
     "text": [
      "Epoch 48 - train: 100%|██████████| 3000/3000 [00:14<00:00, 210.98it/s]\n",
      "Epoch 48 - val: 100%|██████████| 750/750 [00:02<00:00, 297.87it/s]\n"
     ]
    },
    {
     "name": "stdout",
     "output_type": "stream",
     "text": [
      "Epoch 48:\n",
      "Train Loss: 0.0044, Accuracy: 0.9999\n",
      "Val Loss: 0.1011, Accuracy: 0.9725\n"
     ]
    },
    {
     "name": "stderr",
     "output_type": "stream",
     "text": [
      "Epoch 49 - train: 100%|██████████| 3000/3000 [00:13<00:00, 220.29it/s]\n",
      "Epoch 49 - val: 100%|██████████| 750/750 [00:02<00:00, 350.37it/s]\n"
     ]
    },
    {
     "name": "stdout",
     "output_type": "stream",
     "text": [
      "Epoch 49:\n",
      "Train Loss: 0.0042, Accuracy: 0.9999\n",
      "Val Loss: 0.1017, Accuracy: 0.9729\n"
     ]
    },
    {
     "name": "stderr",
     "output_type": "stream",
     "text": [
      "Epoch 50 - train: 100%|██████████| 3000/3000 [00:13<00:00, 218.35it/s]\n",
      "Epoch 50 - val: 100%|██████████| 750/750 [00:02<00:00, 329.86it/s]\n"
     ]
    },
    {
     "name": "stdout",
     "output_type": "stream",
     "text": [
      "Epoch 50:\n",
      "Train Loss: 0.0041, Accuracy: 1.0000\n",
      "Val Loss: 0.1016, Accuracy: 0.9725\n",
      "<=== TEST 1 OF 3 ===>\n"
     ]
    },
    {
     "name": "stderr",
     "output_type": "stream",
     "text": [
      "Epoch 1 - train: 100%|██████████| 3000/3000 [00:13<00:00, 220.42it/s]\n",
      "Epoch 1 - val: 100%|██████████| 750/750 [00:02<00:00, 349.50it/s]\n"
     ]
    },
    {
     "name": "stdout",
     "output_type": "stream",
     "text": [
      "Epoch 1:\n",
      "Train Loss: 0.3305, Accuracy: 0.9032\n",
      "Val Loss: 0.2023, Accuracy: 0.9438\n"
     ]
    },
    {
     "name": "stderr",
     "output_type": "stream",
     "text": [
      "Epoch 2 - train: 100%|██████████| 3000/3000 [00:12<00:00, 239.29it/s]\n",
      "Epoch 2 - val: 100%|██████████| 750/750 [00:03<00:00, 245.97it/s]\n"
     ]
    },
    {
     "name": "stdout",
     "output_type": "stream",
     "text": [
      "Epoch 2:\n",
      "Train Loss: 0.1741, Accuracy: 0.9495\n",
      "Val Loss: 0.1549, Accuracy: 0.9561\n",
      "======== Pruned weights: 19877 out of 79510 ========\n"
     ]
    },
    {
     "name": "stderr",
     "output_type": "stream",
     "text": [
      "Epoch 3 - train: 100%|██████████| 3000/3000 [00:13<00:00, 216.71it/s]\n",
      "Epoch 3 - val: 100%|██████████| 750/750 [00:02<00:00, 323.86it/s]\n"
     ]
    },
    {
     "name": "stdout",
     "output_type": "stream",
     "text": [
      "Epoch 3:\n",
      "Train Loss: 0.1565, Accuracy: 0.9561\n",
      "Val Loss: 0.1522, Accuracy: 0.9564\n"
     ]
    },
    {
     "name": "stderr",
     "output_type": "stream",
     "text": [
      "Epoch 4 - train: 100%|██████████| 3000/3000 [00:13<00:00, 214.87it/s]\n",
      "Epoch 4 - val: 100%|██████████| 750/750 [00:02<00:00, 331.08it/s]\n"
     ]
    },
    {
     "name": "stdout",
     "output_type": "stream",
     "text": [
      "Epoch 4:\n",
      "Train Loss: 0.1284, Accuracy: 0.9644\n",
      "Val Loss: 0.1349, Accuracy: 0.9597\n"
     ]
    },
    {
     "name": "stderr",
     "output_type": "stream",
     "text": [
      "Epoch 5 - train: 100%|██████████| 3000/3000 [00:13<00:00, 222.93it/s]\n",
      "Epoch 5 - val: 100%|██████████| 750/750 [00:01<00:00, 376.14it/s]\n"
     ]
    },
    {
     "name": "stdout",
     "output_type": "stream",
     "text": [
      "Epoch 5:\n",
      "Train Loss: 0.1102, Accuracy: 0.9684\n",
      "Val Loss: 0.1210, Accuracy: 0.9633\n"
     ]
    },
    {
     "name": "stderr",
     "output_type": "stream",
     "text": [
      "Epoch 6 - train: 100%|██████████| 3000/3000 [00:13<00:00, 229.44it/s]\n",
      "Epoch 6 - val: 100%|██████████| 750/750 [00:02<00:00, 349.52it/s]\n"
     ]
    },
    {
     "name": "stdout",
     "output_type": "stream",
     "text": [
      "Epoch 6:\n",
      "Train Loss: 0.0969, Accuracy: 0.9724\n",
      "Val Loss: 0.1164, Accuracy: 0.9649\n"
     ]
    },
    {
     "name": "stderr",
     "output_type": "stream",
     "text": [
      "Epoch 7 - train: 100%|██████████| 3000/3000 [00:12<00:00, 243.32it/s]\n",
      "Epoch 7 - val: 100%|██████████| 750/750 [00:02<00:00, 336.76it/s]\n"
     ]
    },
    {
     "name": "stdout",
     "output_type": "stream",
     "text": [
      "Epoch 7:\n",
      "Train Loss: 0.0863, Accuracy: 0.9752\n",
      "Val Loss: 0.1164, Accuracy: 0.9659\n"
     ]
    },
    {
     "name": "stderr",
     "output_type": "stream",
     "text": [
      "Epoch 8 - train: 100%|██████████| 3000/3000 [00:13<00:00, 218.15it/s]\n",
      "Epoch 8 - val: 100%|██████████| 750/750 [00:02<00:00, 307.15it/s]\n"
     ]
    },
    {
     "name": "stdout",
     "output_type": "stream",
     "text": [
      "Epoch 8:\n",
      "Train Loss: 0.0776, Accuracy: 0.9781\n",
      "Val Loss: 0.1092, Accuracy: 0.9679\n"
     ]
    },
    {
     "name": "stderr",
     "output_type": "stream",
     "text": [
      "Epoch 9 - train: 100%|██████████| 3000/3000 [00:13<00:00, 219.25it/s]\n",
      "Epoch 9 - val: 100%|██████████| 750/750 [00:02<00:00, 281.32it/s]\n"
     ]
    },
    {
     "name": "stdout",
     "output_type": "stream",
     "text": [
      "Epoch 9:\n",
      "Train Loss: 0.0705, Accuracy: 0.9805\n",
      "Val Loss: 0.1036, Accuracy: 0.9687\n"
     ]
    },
    {
     "name": "stderr",
     "output_type": "stream",
     "text": [
      "Epoch 10 - train: 100%|██████████| 3000/3000 [00:20<00:00, 147.62it/s]\n",
      "Epoch 10 - val: 100%|██████████| 750/750 [00:02<00:00, 371.25it/s]\n"
     ]
    },
    {
     "name": "stdout",
     "output_type": "stream",
     "text": [
      "Epoch 10:\n",
      "Train Loss: 0.0640, Accuracy: 0.9820\n",
      "Val Loss: 0.1030, Accuracy: 0.9692\n"
     ]
    },
    {
     "name": "stderr",
     "output_type": "stream",
     "text": [
      "Epoch 11 - train: 100%|██████████| 3000/3000 [00:13<00:00, 224.53it/s]\n",
      "Epoch 11 - val: 100%|██████████| 750/750 [00:02<00:00, 338.10it/s]\n"
     ]
    },
    {
     "name": "stdout",
     "output_type": "stream",
     "text": [
      "Epoch 11:\n",
      "Train Loss: 0.0591, Accuracy: 0.9841\n",
      "Val Loss: 0.0973, Accuracy: 0.9720\n"
     ]
    },
    {
     "name": "stderr",
     "output_type": "stream",
     "text": [
      "Epoch 12 - train: 100%|██████████| 3000/3000 [00:12<00:00, 240.70it/s]\n",
      "Epoch 12 - val: 100%|██████████| 750/750 [00:02<00:00, 320.26it/s]\n"
     ]
    },
    {
     "name": "stdout",
     "output_type": "stream",
     "text": [
      "Epoch 12:\n",
      "Train Loss: 0.0539, Accuracy: 0.9857\n",
      "Val Loss: 0.1017, Accuracy: 0.9692\n"
     ]
    },
    {
     "name": "stderr",
     "output_type": "stream",
     "text": [
      "Epoch 13 - train: 100%|██████████| 3000/3000 [00:12<00:00, 245.54it/s]\n",
      "Epoch 13 - val: 100%|██████████| 750/750 [00:02<00:00, 321.74it/s]\n"
     ]
    },
    {
     "name": "stdout",
     "output_type": "stream",
     "text": [
      "Epoch 13:\n",
      "Train Loss: 0.0501, Accuracy: 0.9866\n",
      "Val Loss: 0.0981, Accuracy: 0.9712\n"
     ]
    },
    {
     "name": "stderr",
     "output_type": "stream",
     "text": [
      "Epoch 14 - train: 100%|██████████| 3000/3000 [00:13<00:00, 216.53it/s]\n",
      "Epoch 14 - val: 100%|██████████| 750/750 [00:02<00:00, 335.48it/s]\n"
     ]
    },
    {
     "name": "stdout",
     "output_type": "stream",
     "text": [
      "Epoch 14:\n",
      "Train Loss: 0.0461, Accuracy: 0.9877\n",
      "Val Loss: 0.0986, Accuracy: 0.9693\n"
     ]
    },
    {
     "name": "stderr",
     "output_type": "stream",
     "text": [
      "Epoch 15 - train: 100%|██████████| 3000/3000 [00:12<00:00, 236.41it/s]\n",
      "Epoch 15 - val: 100%|██████████| 750/750 [00:02<00:00, 339.71it/s]\n"
     ]
    },
    {
     "name": "stdout",
     "output_type": "stream",
     "text": [
      "Epoch 15:\n",
      "Train Loss: 0.0424, Accuracy: 0.9892\n",
      "Val Loss: 0.0975, Accuracy: 0.9705\n"
     ]
    },
    {
     "name": "stderr",
     "output_type": "stream",
     "text": [
      "Epoch 16 - train: 100%|██████████| 3000/3000 [00:12<00:00, 235.29it/s]\n",
      "Epoch 16 - val: 100%|██████████| 750/750 [00:02<00:00, 350.10it/s]\n"
     ]
    },
    {
     "name": "stdout",
     "output_type": "stream",
     "text": [
      "Epoch 16:\n",
      "Train Loss: 0.0394, Accuracy: 0.9902\n",
      "Val Loss: 0.0964, Accuracy: 0.9714\n"
     ]
    },
    {
     "name": "stderr",
     "output_type": "stream",
     "text": [
      "Epoch 17 - train: 100%|██████████| 3000/3000 [00:13<00:00, 215.21it/s]\n",
      "Epoch 17 - val: 100%|██████████| 750/750 [00:02<00:00, 338.86it/s]\n"
     ]
    },
    {
     "name": "stdout",
     "output_type": "stream",
     "text": [
      "Epoch 17:\n",
      "Train Loss: 0.0369, Accuracy: 0.9908\n",
      "Val Loss: 0.0950, Accuracy: 0.9716\n"
     ]
    },
    {
     "name": "stderr",
     "output_type": "stream",
     "text": [
      "Epoch 18 - train: 100%|██████████| 3000/3000 [00:17<00:00, 171.65it/s]\n",
      "Epoch 18 - val: 100%|██████████| 750/750 [00:02<00:00, 334.32it/s]\n"
     ]
    },
    {
     "name": "stdout",
     "output_type": "stream",
     "text": [
      "Epoch 18:\n",
      "Train Loss: 0.0341, Accuracy: 0.9917\n",
      "Val Loss: 0.0954, Accuracy: 0.9713\n"
     ]
    },
    {
     "name": "stderr",
     "output_type": "stream",
     "text": [
      "Epoch 19 - train: 100%|██████████| 3000/3000 [00:13<00:00, 226.07it/s]\n",
      "Epoch 19 - val: 100%|██████████| 750/750 [00:02<00:00, 343.55it/s]\n"
     ]
    },
    {
     "name": "stdout",
     "output_type": "stream",
     "text": [
      "Epoch 19:\n",
      "Train Loss: 0.0319, Accuracy: 0.9923\n",
      "Val Loss: 0.0953, Accuracy: 0.9733\n"
     ]
    },
    {
     "name": "stderr",
     "output_type": "stream",
     "text": [
      "Epoch 20 - train: 100%|██████████| 3000/3000 [00:10<00:00, 293.71it/s]\n",
      "Epoch 20 - val: 100%|██████████| 750/750 [00:02<00:00, 365.38it/s]\n"
     ]
    },
    {
     "name": "stdout",
     "output_type": "stream",
     "text": [
      "Epoch 20:\n",
      "Train Loss: 0.0298, Accuracy: 0.9932\n",
      "Val Loss: 0.0953, Accuracy: 0.9720\n"
     ]
    },
    {
     "name": "stderr",
     "output_type": "stream",
     "text": [
      "Epoch 21 - train: 100%|██████████| 3000/3000 [00:11<00:00, 256.40it/s]\n",
      "Epoch 21 - val: 100%|██████████| 750/750 [00:02<00:00, 344.50it/s]\n"
     ]
    },
    {
     "name": "stdout",
     "output_type": "stream",
     "text": [
      "Epoch 21:\n",
      "Train Loss: 0.0277, Accuracy: 0.9935\n",
      "Val Loss: 0.0943, Accuracy: 0.9718\n"
     ]
    },
    {
     "name": "stderr",
     "output_type": "stream",
     "text": [
      "Epoch 22 - train: 100%|██████████| 3000/3000 [00:11<00:00, 256.40it/s]\n",
      "Epoch 22 - val: 100%|██████████| 750/750 [00:02<00:00, 315.42it/s]\n"
     ]
    },
    {
     "name": "stdout",
     "output_type": "stream",
     "text": [
      "Epoch 22:\n",
      "Train Loss: 0.0257, Accuracy: 0.9946\n",
      "Val Loss: 0.0978, Accuracy: 0.9713\n"
     ]
    },
    {
     "name": "stderr",
     "output_type": "stream",
     "text": [
      "Epoch 23 - train: 100%|██████████| 3000/3000 [00:12<00:00, 240.73it/s]\n",
      "Epoch 23 - val: 100%|██████████| 750/750 [00:02<00:00, 369.39it/s]\n"
     ]
    },
    {
     "name": "stdout",
     "output_type": "stream",
     "text": [
      "Epoch 23:\n",
      "Train Loss: 0.0240, Accuracy: 0.9949\n",
      "Val Loss: 0.0976, Accuracy: 0.9716\n"
     ]
    },
    {
     "name": "stderr",
     "output_type": "stream",
     "text": [
      "Epoch 24 - train: 100%|██████████| 3000/3000 [00:10<00:00, 287.72it/s]\n",
      "Epoch 24 - val: 100%|██████████| 750/750 [00:02<00:00, 368.14it/s]\n"
     ]
    },
    {
     "name": "stdout",
     "output_type": "stream",
     "text": [
      "Epoch 24:\n",
      "Train Loss: 0.0227, Accuracy: 0.9955\n",
      "Val Loss: 0.0952, Accuracy: 0.9729\n"
     ]
    },
    {
     "name": "stderr",
     "output_type": "stream",
     "text": [
      "Epoch 25 - train: 100%|██████████| 3000/3000 [00:11<00:00, 270.60it/s]\n",
      "Epoch 25 - val: 100%|██████████| 750/750 [00:02<00:00, 319.18it/s]\n"
     ]
    },
    {
     "name": "stdout",
     "output_type": "stream",
     "text": [
      "Epoch 25:\n",
      "Train Loss: 0.0213, Accuracy: 0.9961\n",
      "Val Loss: 0.0962, Accuracy: 0.9736\n"
     ]
    },
    {
     "name": "stderr",
     "output_type": "stream",
     "text": [
      "Epoch 26 - train: 100%|██████████| 3000/3000 [00:12<00:00, 244.77it/s]\n",
      "Epoch 26 - val: 100%|██████████| 750/750 [00:02<00:00, 334.00it/s]\n"
     ]
    },
    {
     "name": "stdout",
     "output_type": "stream",
     "text": [
      "Epoch 26:\n",
      "Train Loss: 0.0199, Accuracy: 0.9967\n",
      "Val Loss: 0.0955, Accuracy: 0.9718\n"
     ]
    },
    {
     "name": "stderr",
     "output_type": "stream",
     "text": [
      "Epoch 27 - train: 100%|██████████| 3000/3000 [00:11<00:00, 262.32it/s]\n",
      "Epoch 27 - val: 100%|██████████| 750/750 [00:02<00:00, 367.14it/s]\n"
     ]
    },
    {
     "name": "stdout",
     "output_type": "stream",
     "text": [
      "Epoch 27:\n",
      "Train Loss: 0.0188, Accuracy: 0.9966\n",
      "Val Loss: 0.0987, Accuracy: 0.9718\n"
     ]
    },
    {
     "name": "stderr",
     "output_type": "stream",
     "text": [
      "Epoch 28 - train: 100%|██████████| 3000/3000 [00:13<00:00, 219.39it/s]\n",
      "Epoch 28 - val: 100%|██████████| 750/750 [00:02<00:00, 311.02it/s]\n"
     ]
    },
    {
     "name": "stdout",
     "output_type": "stream",
     "text": [
      "Epoch 28:\n",
      "Train Loss: 0.0175, Accuracy: 0.9972\n",
      "Val Loss: 0.0973, Accuracy: 0.9732\n"
     ]
    },
    {
     "name": "stderr",
     "output_type": "stream",
     "text": [
      "Epoch 29 - train: 100%|██████████| 3000/3000 [00:13<00:00, 219.69it/s]\n",
      "Epoch 29 - val: 100%|██████████| 750/750 [00:02<00:00, 302.20it/s]\n"
     ]
    },
    {
     "name": "stdout",
     "output_type": "stream",
     "text": [
      "Epoch 29:\n",
      "Train Loss: 0.0164, Accuracy: 0.9974\n",
      "Val Loss: 0.0974, Accuracy: 0.9728\n"
     ]
    },
    {
     "name": "stderr",
     "output_type": "stream",
     "text": [
      "Epoch 30 - train: 100%|██████████| 3000/3000 [00:12<00:00, 240.14it/s]\n",
      "Epoch 30 - val: 100%|██████████| 750/750 [00:02<00:00, 331.16it/s]\n"
     ]
    },
    {
     "name": "stdout",
     "output_type": "stream",
     "text": [
      "Epoch 30:\n",
      "Train Loss: 0.0156, Accuracy: 0.9978\n",
      "Val Loss: 0.0968, Accuracy: 0.9715\n"
     ]
    },
    {
     "name": "stderr",
     "output_type": "stream",
     "text": [
      "Epoch 31 - train: 100%|██████████| 3000/3000 [00:11<00:00, 264.63it/s]\n",
      "Epoch 31 - val: 100%|██████████| 750/750 [00:02<00:00, 264.51it/s]\n"
     ]
    },
    {
     "name": "stdout",
     "output_type": "stream",
     "text": [
      "Epoch 31:\n",
      "Train Loss: 0.0147, Accuracy: 0.9979\n",
      "Val Loss: 0.0975, Accuracy: 0.9719\n"
     ]
    },
    {
     "name": "stderr",
     "output_type": "stream",
     "text": [
      "Epoch 32 - train: 100%|██████████| 3000/3000 [00:12<00:00, 231.05it/s]\n",
      "Epoch 32 - val: 100%|██████████| 750/750 [00:02<00:00, 318.06it/s]\n"
     ]
    },
    {
     "name": "stdout",
     "output_type": "stream",
     "text": [
      "Epoch 32:\n",
      "Train Loss: 0.0138, Accuracy: 0.9980\n",
      "Val Loss: 0.0985, Accuracy: 0.9726\n"
     ]
    },
    {
     "name": "stderr",
     "output_type": "stream",
     "text": [
      "Epoch 33 - train: 100%|██████████| 3000/3000 [00:13<00:00, 215.39it/s]\n",
      "Epoch 33 - val: 100%|██████████| 750/750 [00:02<00:00, 330.65it/s]\n"
     ]
    },
    {
     "name": "stdout",
     "output_type": "stream",
     "text": [
      "Epoch 33:\n",
      "Train Loss: 0.0130, Accuracy: 0.9984\n",
      "Val Loss: 0.1005, Accuracy: 0.9725\n"
     ]
    },
    {
     "name": "stderr",
     "output_type": "stream",
     "text": [
      "Epoch 34 - train: 100%|██████████| 3000/3000 [00:12<00:00, 242.84it/s]\n",
      "Epoch 34 - val: 100%|██████████| 750/750 [00:02<00:00, 285.42it/s]\n"
     ]
    },
    {
     "name": "stdout",
     "output_type": "stream",
     "text": [
      "Epoch 34:\n",
      "Train Loss: 0.0124, Accuracy: 0.9985\n",
      "Val Loss: 0.1000, Accuracy: 0.9725\n"
     ]
    },
    {
     "name": "stderr",
     "output_type": "stream",
     "text": [
      "Epoch 35 - train: 100%|██████████| 3000/3000 [00:13<00:00, 214.91it/s]\n",
      "Epoch 35 - val: 100%|██████████| 750/750 [00:02<00:00, 321.35it/s]\n"
     ]
    },
    {
     "name": "stdout",
     "output_type": "stream",
     "text": [
      "Epoch 35:\n",
      "Train Loss: 0.0117, Accuracy: 0.9987\n",
      "Val Loss: 0.0993, Accuracy: 0.9725\n"
     ]
    },
    {
     "name": "stderr",
     "output_type": "stream",
     "text": [
      "Epoch 36 - train: 100%|██████████| 3000/3000 [00:13<00:00, 221.88it/s]\n",
      "Epoch 36 - val: 100%|██████████| 750/750 [00:03<00:00, 240.16it/s]\n"
     ]
    },
    {
     "name": "stdout",
     "output_type": "stream",
     "text": [
      "Epoch 36:\n",
      "Train Loss: 0.0110, Accuracy: 0.9990\n",
      "Val Loss: 0.0988, Accuracy: 0.9733\n"
     ]
    },
    {
     "name": "stderr",
     "output_type": "stream",
     "text": [
      "Epoch 37 - train: 100%|██████████| 3000/3000 [00:14<00:00, 213.49it/s]\n",
      "Epoch 37 - val: 100%|██████████| 750/750 [00:02<00:00, 300.57it/s]\n"
     ]
    },
    {
     "name": "stdout",
     "output_type": "stream",
     "text": [
      "Epoch 37:\n",
      "Train Loss: 0.0104, Accuracy: 0.9990\n",
      "Val Loss: 0.1003, Accuracy: 0.9728\n"
     ]
    },
    {
     "name": "stderr",
     "output_type": "stream",
     "text": [
      "Epoch 38 - train: 100%|██████████| 3000/3000 [00:10<00:00, 274.65it/s]\n",
      "Epoch 38 - val: 100%|██████████| 750/750 [00:02<00:00, 357.53it/s]\n"
     ]
    },
    {
     "name": "stdout",
     "output_type": "stream",
     "text": [
      "Epoch 38:\n",
      "Train Loss: 0.0099, Accuracy: 0.9991\n",
      "Val Loss: 0.1006, Accuracy: 0.9724\n"
     ]
    },
    {
     "name": "stderr",
     "output_type": "stream",
     "text": [
      "Epoch 39 - train: 100%|██████████| 3000/3000 [00:13<00:00, 224.16it/s]\n",
      "Epoch 39 - val: 100%|██████████| 750/750 [00:02<00:00, 304.45it/s]\n"
     ]
    },
    {
     "name": "stdout",
     "output_type": "stream",
     "text": [
      "Epoch 39:\n",
      "Train Loss: 0.0094, Accuracy: 0.9992\n",
      "Val Loss: 0.1003, Accuracy: 0.9738\n"
     ]
    },
    {
     "name": "stderr",
     "output_type": "stream",
     "text": [
      "Epoch 40 - train: 100%|██████████| 3000/3000 [00:12<00:00, 234.51it/s]\n",
      "Epoch 40 - val: 100%|██████████| 750/750 [00:02<00:00, 318.85it/s]\n"
     ]
    },
    {
     "name": "stdout",
     "output_type": "stream",
     "text": [
      "Epoch 40:\n",
      "Train Loss: 0.0089, Accuracy: 0.9995\n",
      "Val Loss: 0.1014, Accuracy: 0.9731\n"
     ]
    },
    {
     "name": "stderr",
     "output_type": "stream",
     "text": [
      "Epoch 41 - train: 100%|██████████| 3000/3000 [00:12<00:00, 249.53it/s]\n",
      "Epoch 41 - val: 100%|██████████| 750/750 [00:02<00:00, 312.95it/s]\n"
     ]
    },
    {
     "name": "stdout",
     "output_type": "stream",
     "text": [
      "Epoch 41:\n",
      "Train Loss: 0.0084, Accuracy: 0.9995\n",
      "Val Loss: 0.1020, Accuracy: 0.9732\n"
     ]
    },
    {
     "name": "stderr",
     "output_type": "stream",
     "text": [
      "Epoch 42 - train: 100%|██████████| 3000/3000 [00:13<00:00, 222.36it/s]\n",
      "Epoch 42 - val: 100%|██████████| 750/750 [00:02<00:00, 323.31it/s]\n"
     ]
    },
    {
     "name": "stdout",
     "output_type": "stream",
     "text": [
      "Epoch 42:\n",
      "Train Loss: 0.0081, Accuracy: 0.9995\n",
      "Val Loss: 0.1007, Accuracy: 0.9732\n"
     ]
    },
    {
     "name": "stderr",
     "output_type": "stream",
     "text": [
      "Epoch 43 - train: 100%|██████████| 3000/3000 [00:12<00:00, 232.46it/s]\n",
      "Epoch 43 - val: 100%|██████████| 750/750 [00:02<00:00, 290.68it/s]\n"
     ]
    },
    {
     "name": "stdout",
     "output_type": "stream",
     "text": [
      "Epoch 43:\n",
      "Train Loss: 0.0078, Accuracy: 0.9997\n",
      "Val Loss: 0.1038, Accuracy: 0.9728\n"
     ]
    },
    {
     "name": "stderr",
     "output_type": "stream",
     "text": [
      "Epoch 44 - train: 100%|██████████| 3000/3000 [00:13<00:00, 218.53it/s]\n",
      "Epoch 44 - val: 100%|██████████| 750/750 [00:02<00:00, 284.71it/s]\n"
     ]
    },
    {
     "name": "stdout",
     "output_type": "stream",
     "text": [
      "Epoch 44:\n",
      "Train Loss: 0.0074, Accuracy: 0.9997\n",
      "Val Loss: 0.1032, Accuracy: 0.9729\n"
     ]
    },
    {
     "name": "stderr",
     "output_type": "stream",
     "text": [
      "Epoch 45 - train: 100%|██████████| 3000/3000 [00:12<00:00, 231.36it/s]\n",
      "Epoch 45 - val: 100%|██████████| 750/750 [00:02<00:00, 290.86it/s]\n"
     ]
    },
    {
     "name": "stdout",
     "output_type": "stream",
     "text": [
      "Epoch 45:\n",
      "Train Loss: 0.0071, Accuracy: 0.9998\n",
      "Val Loss: 0.1045, Accuracy: 0.9728\n"
     ]
    },
    {
     "name": "stderr",
     "output_type": "stream",
     "text": [
      "Epoch 46 - train: 100%|██████████| 3000/3000 [00:13<00:00, 225.55it/s]\n",
      "Epoch 46 - val: 100%|██████████| 750/750 [00:03<00:00, 210.14it/s]\n"
     ]
    },
    {
     "name": "stdout",
     "output_type": "stream",
     "text": [
      "Epoch 46:\n",
      "Train Loss: 0.0068, Accuracy: 0.9998\n",
      "Val Loss: 0.1039, Accuracy: 0.9733\n"
     ]
    },
    {
     "name": "stderr",
     "output_type": "stream",
     "text": [
      "Epoch 47 - train: 100%|██████████| 3000/3000 [00:13<00:00, 225.57it/s]\n",
      "Epoch 47 - val: 100%|██████████| 750/750 [00:02<00:00, 308.69it/s]\n"
     ]
    },
    {
     "name": "stdout",
     "output_type": "stream",
     "text": [
      "Epoch 47:\n",
      "Train Loss: 0.0065, Accuracy: 0.9997\n",
      "Val Loss: 0.1037, Accuracy: 0.9729\n"
     ]
    },
    {
     "name": "stderr",
     "output_type": "stream",
     "text": [
      "Epoch 48 - train: 100%|██████████| 3000/3000 [00:12<00:00, 240.79it/s]\n",
      "Epoch 48 - val: 100%|██████████| 750/750 [00:02<00:00, 353.62it/s]\n"
     ]
    },
    {
     "name": "stdout",
     "output_type": "stream",
     "text": [
      "Epoch 48:\n",
      "Train Loss: 0.0062, Accuracy: 0.9998\n",
      "Val Loss: 0.1047, Accuracy: 0.9725\n"
     ]
    },
    {
     "name": "stderr",
     "output_type": "stream",
     "text": [
      "Epoch 49 - train: 100%|██████████| 3000/3000 [00:11<00:00, 250.05it/s]\n",
      "Epoch 49 - val: 100%|██████████| 750/750 [00:02<00:00, 365.77it/s]\n"
     ]
    },
    {
     "name": "stdout",
     "output_type": "stream",
     "text": [
      "Epoch 49:\n",
      "Train Loss: 0.0060, Accuracy: 0.9998\n",
      "Val Loss: 0.1052, Accuracy: 0.9728\n"
     ]
    },
    {
     "name": "stderr",
     "output_type": "stream",
     "text": [
      "Epoch 50 - train: 100%|██████████| 3000/3000 [00:12<00:00, 243.53it/s]\n",
      "Epoch 50 - val: 100%|██████████| 750/750 [00:02<00:00, 318.01it/s]\n"
     ]
    },
    {
     "name": "stdout",
     "output_type": "stream",
     "text": [
      "Epoch 50:\n",
      "Train Loss: 0.0057, Accuracy: 0.9999\n",
      "Val Loss: 0.1058, Accuracy: 0.9726\n",
      "<=== TEST 2 OF 3 ===>\n"
     ]
    },
    {
     "name": "stderr",
     "output_type": "stream",
     "text": [
      "Epoch 1 - train: 100%|██████████| 3000/3000 [00:13<00:00, 222.64it/s]\n",
      "Epoch 1 - val: 100%|██████████| 750/750 [00:02<00:00, 290.97it/s]\n"
     ]
    },
    {
     "name": "stdout",
     "output_type": "stream",
     "text": [
      "Epoch 1:\n",
      "Train Loss: 0.3305, Accuracy: 0.9032\n",
      "Val Loss: 0.2023, Accuracy: 0.9438\n"
     ]
    },
    {
     "name": "stderr",
     "output_type": "stream",
     "text": [
      "Epoch 2 - train: 100%|██████████| 3000/3000 [00:12<00:00, 243.82it/s]\n",
      "Epoch 2 - val: 100%|██████████| 750/750 [00:02<00:00, 326.65it/s]\n"
     ]
    },
    {
     "name": "stdout",
     "output_type": "stream",
     "text": [
      "Epoch 2:\n",
      "Train Loss: 0.1741, Accuracy: 0.9495\n",
      "Val Loss: 0.1549, Accuracy: 0.9561\n"
     ]
    },
    {
     "name": "stderr",
     "output_type": "stream",
     "text": [
      "Epoch 3 - train: 100%|██████████| 3000/3000 [00:13<00:00, 225.06it/s]\n",
      "Epoch 3 - val: 100%|██████████| 750/750 [00:02<00:00, 295.15it/s]\n"
     ]
    },
    {
     "name": "stdout",
     "output_type": "stream",
     "text": [
      "Epoch 3:\n",
      "Train Loss: 0.1311, Accuracy: 0.9624\n",
      "Val Loss: 0.1393, Accuracy: 0.9589\n"
     ]
    },
    {
     "name": "stderr",
     "output_type": "stream",
     "text": [
      "Epoch 4 - train: 100%|██████████| 3000/3000 [00:15<00:00, 197.80it/s]\n",
      "Epoch 4 - val: 100%|██████████| 750/750 [00:02<00:00, 320.98it/s]\n"
     ]
    },
    {
     "name": "stdout",
     "output_type": "stream",
     "text": [
      "Epoch 4:\n",
      "Train Loss: 0.1067, Accuracy: 0.9699\n",
      "Val Loss: 0.1230, Accuracy: 0.9638\n"
     ]
    },
    {
     "name": "stderr",
     "output_type": "stream",
     "text": [
      "Epoch 5 - train: 100%|██████████| 3000/3000 [00:15<00:00, 199.78it/s]\n",
      "Epoch 5 - val: 100%|██████████| 750/750 [00:02<00:00, 304.46it/s]\n"
     ]
    },
    {
     "name": "stdout",
     "output_type": "stream",
     "text": [
      "Epoch 5:\n",
      "Train Loss: 0.0900, Accuracy: 0.9740\n",
      "Val Loss: 0.1108, Accuracy: 0.9653\n"
     ]
    },
    {
     "name": "stderr",
     "output_type": "stream",
     "text": [
      "Epoch 6 - train: 100%|██████████| 3000/3000 [00:13<00:00, 223.42it/s]\n",
      "Epoch 6 - val: 100%|██████████| 750/750 [00:02<00:00, 325.63it/s]\n"
     ]
    },
    {
     "name": "stdout",
     "output_type": "stream",
     "text": [
      "Epoch 6:\n",
      "Train Loss: 0.0776, Accuracy: 0.9781\n",
      "Val Loss: 0.1076, Accuracy: 0.9677\n"
     ]
    },
    {
     "name": "stderr",
     "output_type": "stream",
     "text": [
      "Epoch 7 - train: 100%|██████████| 3000/3000 [00:12<00:00, 231.17it/s]\n",
      "Epoch 7 - val: 100%|██████████| 750/750 [00:02<00:00, 315.21it/s]\n"
     ]
    },
    {
     "name": "stdout",
     "output_type": "stream",
     "text": [
      "Epoch 7:\n",
      "Train Loss: 0.0679, Accuracy: 0.9806\n",
      "Val Loss: 0.1067, Accuracy: 0.9678\n"
     ]
    },
    {
     "name": "stderr",
     "output_type": "stream",
     "text": [
      "Epoch 8 - train: 100%|██████████| 3000/3000 [00:17<00:00, 170.48it/s]\n",
      "Epoch 8 - val: 100%|██████████| 750/750 [00:03<00:00, 216.56it/s]\n"
     ]
    },
    {
     "name": "stdout",
     "output_type": "stream",
     "text": [
      "Epoch 8:\n",
      "Train Loss: 0.0600, Accuracy: 0.9830\n",
      "Val Loss: 0.1026, Accuracy: 0.9689\n",
      "======== Pruned weights: 19877 out of 79510 ========\n"
     ]
    },
    {
     "name": "stderr",
     "output_type": "stream",
     "text": [
      "Epoch 9 - train: 100%|██████████| 3000/3000 [00:13<00:00, 230.39it/s]\n",
      "Epoch 9 - val: 100%|██████████| 750/750 [00:02<00:00, 361.90it/s]\n"
     ]
    },
    {
     "name": "stdout",
     "output_type": "stream",
     "text": [
      "Epoch 9:\n",
      "Train Loss: 0.0827, Accuracy: 0.9772\n",
      "Val Loss: 0.1076, Accuracy: 0.9666\n"
     ]
    },
    {
     "name": "stderr",
     "output_type": "stream",
     "text": [
      "Epoch 10 - train: 100%|██████████| 3000/3000 [00:11<00:00, 251.77it/s]\n",
      "Epoch 10 - val: 100%|██████████| 750/750 [00:02<00:00, 293.28it/s]\n"
     ]
    },
    {
     "name": "stdout",
     "output_type": "stream",
     "text": [
      "Epoch 10:\n",
      "Train Loss: 0.0709, Accuracy: 0.9801\n",
      "Val Loss: 0.1057, Accuracy: 0.9690\n"
     ]
    },
    {
     "name": "stderr",
     "output_type": "stream",
     "text": [
      "Epoch 11 - train: 100%|██████████| 3000/3000 [00:11<00:00, 250.12it/s]\n",
      "Epoch 11 - val: 100%|██████████| 750/750 [00:02<00:00, 324.68it/s]\n"
     ]
    },
    {
     "name": "stdout",
     "output_type": "stream",
     "text": [
      "Epoch 11:\n",
      "Train Loss: 0.0633, Accuracy: 0.9824\n",
      "Val Loss: 0.1016, Accuracy: 0.9700\n"
     ]
    },
    {
     "name": "stderr",
     "output_type": "stream",
     "text": [
      "Epoch 12 - train: 100%|██████████| 3000/3000 [00:15<00:00, 197.78it/s]\n",
      "Epoch 12 - val: 100%|██████████| 750/750 [00:02<00:00, 268.95it/s]\n"
     ]
    },
    {
     "name": "stdout",
     "output_type": "stream",
     "text": [
      "Epoch 12:\n",
      "Train Loss: 0.0569, Accuracy: 0.9844\n",
      "Val Loss: 0.1055, Accuracy: 0.9684\n"
     ]
    },
    {
     "name": "stderr",
     "output_type": "stream",
     "text": [
      "Epoch 13 - train: 100%|██████████| 3000/3000 [00:19<00:00, 153.53it/s]\n",
      "Epoch 13 - val: 100%|██████████| 750/750 [00:03<00:00, 235.54it/s]\n"
     ]
    },
    {
     "name": "stdout",
     "output_type": "stream",
     "text": [
      "Epoch 13:\n",
      "Train Loss: 0.0522, Accuracy: 0.9854\n",
      "Val Loss: 0.0984, Accuracy: 0.9710\n"
     ]
    },
    {
     "name": "stderr",
     "output_type": "stream",
     "text": [
      "Epoch 14 - train: 100%|██████████| 3000/3000 [00:15<00:00, 198.48it/s]\n",
      "Epoch 14 - val: 100%|██████████| 750/750 [00:02<00:00, 284.28it/s]\n"
     ]
    },
    {
     "name": "stdout",
     "output_type": "stream",
     "text": [
      "Epoch 14:\n",
      "Train Loss: 0.0469, Accuracy: 0.9875\n",
      "Val Loss: 0.1000, Accuracy: 0.9707\n"
     ]
    },
    {
     "name": "stderr",
     "output_type": "stream",
     "text": [
      "Epoch 15 - train: 100%|██████████| 3000/3000 [00:15<00:00, 194.51it/s]\n",
      "Epoch 15 - val: 100%|██████████| 750/750 [00:02<00:00, 328.36it/s]\n"
     ]
    },
    {
     "name": "stdout",
     "output_type": "stream",
     "text": [
      "Epoch 15:\n",
      "Train Loss: 0.0434, Accuracy: 0.9883\n",
      "Val Loss: 0.0980, Accuracy: 0.9713\n"
     ]
    },
    {
     "name": "stderr",
     "output_type": "stream",
     "text": [
      "Epoch 16 - train: 100%|██████████| 3000/3000 [00:15<00:00, 188.29it/s]\n",
      "Epoch 16 - val: 100%|██████████| 750/750 [00:02<00:00, 319.50it/s]\n"
     ]
    },
    {
     "name": "stdout",
     "output_type": "stream",
     "text": [
      "Epoch 16:\n",
      "Train Loss: 0.0396, Accuracy: 0.9897\n",
      "Val Loss: 0.0952, Accuracy: 0.9717\n"
     ]
    },
    {
     "name": "stderr",
     "output_type": "stream",
     "text": [
      "Epoch 17 - train: 100%|██████████| 3000/3000 [00:16<00:00, 183.56it/s]\n",
      "Epoch 17 - val: 100%|██████████| 750/750 [00:02<00:00, 280.41it/s]\n"
     ]
    },
    {
     "name": "stdout",
     "output_type": "stream",
     "text": [
      "Epoch 17:\n",
      "Train Loss: 0.0369, Accuracy: 0.9906\n",
      "Val Loss: 0.0966, Accuracy: 0.9721\n"
     ]
    },
    {
     "name": "stderr",
     "output_type": "stream",
     "text": [
      "Epoch 18 - train: 100%|██████████| 3000/3000 [00:15<00:00, 194.63it/s]\n",
      "Epoch 18 - val: 100%|██████████| 750/750 [00:02<00:00, 313.51it/s]\n"
     ]
    },
    {
     "name": "stdout",
     "output_type": "stream",
     "text": [
      "Epoch 18:\n",
      "Train Loss: 0.0338, Accuracy: 0.9919\n",
      "Val Loss: 0.0968, Accuracy: 0.9717\n"
     ]
    },
    {
     "name": "stderr",
     "output_type": "stream",
     "text": [
      "Epoch 19 - train: 100%|██████████| 3000/3000 [00:17<00:00, 169.55it/s]\n",
      "Epoch 19 - val: 100%|██████████| 750/750 [00:02<00:00, 309.34it/s]\n"
     ]
    },
    {
     "name": "stdout",
     "output_type": "stream",
     "text": [
      "Epoch 19:\n",
      "Train Loss: 0.0312, Accuracy: 0.9924\n",
      "Val Loss: 0.0965, Accuracy: 0.9716\n"
     ]
    },
    {
     "name": "stderr",
     "output_type": "stream",
     "text": [
      "Epoch 20 - train: 100%|██████████| 3000/3000 [00:12<00:00, 244.55it/s]\n",
      "Epoch 20 - val: 100%|██████████| 750/750 [00:02<00:00, 250.79it/s]\n"
     ]
    },
    {
     "name": "stdout",
     "output_type": "stream",
     "text": [
      "Epoch 20:\n",
      "Train Loss: 0.0289, Accuracy: 0.9934\n",
      "Val Loss: 0.0973, Accuracy: 0.9714\n"
     ]
    },
    {
     "name": "stderr",
     "output_type": "stream",
     "text": [
      "Epoch 21 - train: 100%|██████████| 3000/3000 [00:14<00:00, 208.34it/s]\n",
      "Epoch 21 - val: 100%|██████████| 750/750 [00:02<00:00, 323.12it/s]\n"
     ]
    },
    {
     "name": "stdout",
     "output_type": "stream",
     "text": [
      "Epoch 21:\n",
      "Train Loss: 0.0265, Accuracy: 0.9943\n",
      "Val Loss: 0.0968, Accuracy: 0.9731\n"
     ]
    },
    {
     "name": "stderr",
     "output_type": "stream",
     "text": [
      "Epoch 22 - train: 100%|██████████| 3000/3000 [00:13<00:00, 216.85it/s]\n",
      "Epoch 22 - val: 100%|██████████| 750/750 [00:02<00:00, 298.91it/s]\n"
     ]
    },
    {
     "name": "stdout",
     "output_type": "stream",
     "text": [
      "Epoch 22:\n",
      "Train Loss: 0.0246, Accuracy: 0.9948\n",
      "Val Loss: 0.0977, Accuracy: 0.9728\n"
     ]
    },
    {
     "name": "stderr",
     "output_type": "stream",
     "text": [
      "Epoch 23 - train: 100%|██████████| 3000/3000 [00:12<00:00, 237.45it/s]\n",
      "Epoch 23 - val: 100%|██████████| 750/750 [00:02<00:00, 316.64it/s]\n"
     ]
    },
    {
     "name": "stdout",
     "output_type": "stream",
     "text": [
      "Epoch 23:\n",
      "Train Loss: 0.0230, Accuracy: 0.9952\n",
      "Val Loss: 0.1005, Accuracy: 0.9718\n"
     ]
    },
    {
     "name": "stderr",
     "output_type": "stream",
     "text": [
      "Epoch 24 - train: 100%|██████████| 3000/3000 [00:12<00:00, 241.73it/s]\n",
      "Epoch 24 - val: 100%|██████████| 750/750 [00:02<00:00, 364.30it/s]\n"
     ]
    },
    {
     "name": "stdout",
     "output_type": "stream",
     "text": [
      "Epoch 24:\n",
      "Train Loss: 0.0212, Accuracy: 0.9962\n",
      "Val Loss: 0.0965, Accuracy: 0.9725\n"
     ]
    },
    {
     "name": "stderr",
     "output_type": "stream",
     "text": [
      "Epoch 25 - train: 100%|██████████| 3000/3000 [00:11<00:00, 266.50it/s]\n",
      "Epoch 25 - val: 100%|██████████| 750/750 [00:02<00:00, 302.54it/s]\n"
     ]
    },
    {
     "name": "stdout",
     "output_type": "stream",
     "text": [
      "Epoch 25:\n",
      "Train Loss: 0.0201, Accuracy: 0.9961\n",
      "Val Loss: 0.0979, Accuracy: 0.9728\n"
     ]
    },
    {
     "name": "stderr",
     "output_type": "stream",
     "text": [
      "Epoch 26 - train: 100%|██████████| 3000/3000 [00:11<00:00, 261.50it/s]\n",
      "Epoch 26 - val: 100%|██████████| 750/750 [00:02<00:00, 344.26it/s]\n"
     ]
    },
    {
     "name": "stdout",
     "output_type": "stream",
     "text": [
      "Epoch 26:\n",
      "Train Loss: 0.0188, Accuracy: 0.9966\n",
      "Val Loss: 0.0960, Accuracy: 0.9730\n"
     ]
    },
    {
     "name": "stderr",
     "output_type": "stream",
     "text": [
      "Epoch 27 - train: 100%|██████████| 3000/3000 [00:17<00:00, 168.45it/s]\n",
      "Epoch 27 - val: 100%|██████████| 750/750 [00:05<00:00, 141.57it/s]\n"
     ]
    },
    {
     "name": "stdout",
     "output_type": "stream",
     "text": [
      "Epoch 27:\n",
      "Train Loss: 0.0173, Accuracy: 0.9974\n",
      "Val Loss: 0.1010, Accuracy: 0.9712\n"
     ]
    },
    {
     "name": "stderr",
     "output_type": "stream",
     "text": [
      "Epoch 28 - train: 100%|██████████| 3000/3000 [00:26<00:00, 112.01it/s]\n",
      "Epoch 28 - val: 100%|██████████| 750/750 [00:03<00:00, 201.40it/s]\n"
     ]
    },
    {
     "name": "stdout",
     "output_type": "stream",
     "text": [
      "Epoch 28:\n",
      "Train Loss: 0.0162, Accuracy: 0.9974\n",
      "Val Loss: 0.0964, Accuracy: 0.9735\n"
     ]
    },
    {
     "name": "stderr",
     "output_type": "stream",
     "text": [
      "Epoch 29 - train: 100%|██████████| 3000/3000 [00:19<00:00, 150.85it/s]\n",
      "Epoch 29 - val: 100%|██████████| 750/750 [00:02<00:00, 257.08it/s]\n"
     ]
    },
    {
     "name": "stdout",
     "output_type": "stream",
     "text": [
      "Epoch 29:\n",
      "Train Loss: 0.0153, Accuracy: 0.9978\n",
      "Val Loss: 0.0972, Accuracy: 0.9729\n"
     ]
    },
    {
     "name": "stderr",
     "output_type": "stream",
     "text": [
      "Epoch 30 - train: 100%|██████████| 3000/3000 [00:15<00:00, 192.79it/s]\n",
      "Epoch 30 - val: 100%|██████████| 750/750 [00:02<00:00, 347.28it/s]\n"
     ]
    },
    {
     "name": "stdout",
     "output_type": "stream",
     "text": [
      "Epoch 30:\n",
      "Train Loss: 0.0141, Accuracy: 0.9980\n",
      "Val Loss: 0.0982, Accuracy: 0.9735\n"
     ]
    },
    {
     "name": "stderr",
     "output_type": "stream",
     "text": [
      "Epoch 31 - train: 100%|██████████| 3000/3000 [00:16<00:00, 178.96it/s]\n",
      "Epoch 31 - val: 100%|██████████| 750/750 [00:02<00:00, 342.13it/s]\n"
     ]
    },
    {
     "name": "stdout",
     "output_type": "stream",
     "text": [
      "Epoch 31:\n",
      "Train Loss: 0.0133, Accuracy: 0.9984\n",
      "Val Loss: 0.0981, Accuracy: 0.9733\n"
     ]
    },
    {
     "name": "stderr",
     "output_type": "stream",
     "text": [
      "Epoch 32 - train: 100%|██████████| 3000/3000 [00:20<00:00, 149.10it/s]\n",
      "Epoch 32 - val: 100%|██████████| 750/750 [00:02<00:00, 324.51it/s]\n"
     ]
    },
    {
     "name": "stdout",
     "output_type": "stream",
     "text": [
      "Epoch 32:\n",
      "Train Loss: 0.0125, Accuracy: 0.9985\n",
      "Val Loss: 0.0987, Accuracy: 0.9731\n"
     ]
    },
    {
     "name": "stderr",
     "output_type": "stream",
     "text": [
      "Epoch 33 - train: 100%|██████████| 3000/3000 [00:13<00:00, 215.30it/s]\n",
      "Epoch 33 - val: 100%|██████████| 750/750 [00:02<00:00, 333.71it/s]\n"
     ]
    },
    {
     "name": "stdout",
     "output_type": "stream",
     "text": [
      "Epoch 33:\n",
      "Train Loss: 0.0118, Accuracy: 0.9988\n",
      "Val Loss: 0.1003, Accuracy: 0.9724\n"
     ]
    },
    {
     "name": "stderr",
     "output_type": "stream",
     "text": [
      "Epoch 34 - train: 100%|██████████| 3000/3000 [00:13<00:00, 227.43it/s]\n",
      "Epoch 34 - val: 100%|██████████| 750/750 [00:03<00:00, 209.01it/s]\n"
     ]
    },
    {
     "name": "stdout",
     "output_type": "stream",
     "text": [
      "Epoch 34:\n",
      "Train Loss: 0.0112, Accuracy: 0.9986\n",
      "Val Loss: 0.1015, Accuracy: 0.9723\n"
     ]
    },
    {
     "name": "stderr",
     "output_type": "stream",
     "text": [
      "Epoch 35 - train: 100%|██████████| 3000/3000 [00:17<00:00, 167.48it/s]\n",
      "Epoch 35 - val: 100%|██████████| 750/750 [00:02<00:00, 336.70it/s]\n"
     ]
    },
    {
     "name": "stdout",
     "output_type": "stream",
     "text": [
      "Epoch 35:\n",
      "Train Loss: 0.0106, Accuracy: 0.9988\n",
      "Val Loss: 0.0995, Accuracy: 0.9733\n"
     ]
    },
    {
     "name": "stderr",
     "output_type": "stream",
     "text": [
      "Epoch 36 - train: 100%|██████████| 3000/3000 [00:11<00:00, 250.30it/s]\n",
      "Epoch 36 - val: 100%|██████████| 750/750 [00:02<00:00, 346.04it/s]\n"
     ]
    },
    {
     "name": "stdout",
     "output_type": "stream",
     "text": [
      "Epoch 36:\n",
      "Train Loss: 0.0100, Accuracy: 0.9991\n",
      "Val Loss: 0.0997, Accuracy: 0.9739\n"
     ]
    },
    {
     "name": "stderr",
     "output_type": "stream",
     "text": [
      "Epoch 37 - train: 100%|██████████| 3000/3000 [00:14<00:00, 202.75it/s]\n",
      "Epoch 37 - val: 100%|██████████| 750/750 [00:02<00:00, 281.17it/s]\n"
     ]
    },
    {
     "name": "stdout",
     "output_type": "stream",
     "text": [
      "Epoch 37:\n",
      "Train Loss: 0.0093, Accuracy: 0.9992\n",
      "Val Loss: 0.1007, Accuracy: 0.9736\n"
     ]
    },
    {
     "name": "stderr",
     "output_type": "stream",
     "text": [
      "Epoch 38 - train: 100%|██████████| 3000/3000 [00:13<00:00, 223.50it/s]\n",
      "Epoch 38 - val: 100%|██████████| 750/750 [00:03<00:00, 223.65it/s]\n"
     ]
    },
    {
     "name": "stdout",
     "output_type": "stream",
     "text": [
      "Epoch 38:\n",
      "Train Loss: 0.0089, Accuracy: 0.9992\n",
      "Val Loss: 0.1004, Accuracy: 0.9727\n"
     ]
    },
    {
     "name": "stderr",
     "output_type": "stream",
     "text": [
      "Epoch 39 - train: 100%|██████████| 3000/3000 [00:13<00:00, 225.80it/s]\n",
      "Epoch 39 - val: 100%|██████████| 750/750 [00:03<00:00, 213.82it/s]\n"
     ]
    },
    {
     "name": "stdout",
     "output_type": "stream",
     "text": [
      "Epoch 39:\n",
      "Train Loss: 0.0085, Accuracy: 0.9994\n",
      "Val Loss: 0.1013, Accuracy: 0.9735\n"
     ]
    },
    {
     "name": "stderr",
     "output_type": "stream",
     "text": [
      "Epoch 40 - train: 100%|██████████| 3000/3000 [00:17<00:00, 168.85it/s]\n",
      "Epoch 40 - val: 100%|██████████| 750/750 [00:03<00:00, 212.85it/s]\n"
     ]
    },
    {
     "name": "stdout",
     "output_type": "stream",
     "text": [
      "Epoch 40:\n",
      "Train Loss: 0.0080, Accuracy: 0.9994\n",
      "Val Loss: 0.1018, Accuracy: 0.9742\n"
     ]
    },
    {
     "name": "stderr",
     "output_type": "stream",
     "text": [
      "Epoch 41 - train: 100%|██████████| 3000/3000 [00:17<00:00, 168.06it/s]\n",
      "Epoch 41 - val: 100%|██████████| 750/750 [00:02<00:00, 315.91it/s]\n"
     ]
    },
    {
     "name": "stdout",
     "output_type": "stream",
     "text": [
      "Epoch 41:\n",
      "Train Loss: 0.0076, Accuracy: 0.9996\n",
      "Val Loss: 0.1014, Accuracy: 0.9735\n"
     ]
    },
    {
     "name": "stderr",
     "output_type": "stream",
     "text": [
      "Epoch 42 - train: 100%|██████████| 3000/3000 [00:11<00:00, 267.00it/s]\n",
      "Epoch 42 - val: 100%|██████████| 750/750 [00:02<00:00, 289.46it/s]\n"
     ]
    },
    {
     "name": "stdout",
     "output_type": "stream",
     "text": [
      "Epoch 42:\n",
      "Train Loss: 0.0073, Accuracy: 0.9995\n",
      "Val Loss: 0.1021, Accuracy: 0.9738\n"
     ]
    },
    {
     "name": "stderr",
     "output_type": "stream",
     "text": [
      "Epoch 43 - train: 100%|██████████| 3000/3000 [00:16<00:00, 182.78it/s]\n",
      "Epoch 43 - val: 100%|██████████| 750/750 [00:02<00:00, 328.28it/s]\n"
     ]
    },
    {
     "name": "stdout",
     "output_type": "stream",
     "text": [
      "Epoch 43:\n",
      "Train Loss: 0.0070, Accuracy: 0.9995\n",
      "Val Loss: 0.1037, Accuracy: 0.9729\n"
     ]
    },
    {
     "name": "stderr",
     "output_type": "stream",
     "text": [
      "Epoch 44 - train: 100%|██████████| 3000/3000 [00:12<00:00, 242.41it/s]\n",
      "Epoch 44 - val: 100%|██████████| 750/750 [00:02<00:00, 319.24it/s]\n"
     ]
    },
    {
     "name": "stdout",
     "output_type": "stream",
     "text": [
      "Epoch 44:\n",
      "Train Loss: 0.0067, Accuracy: 0.9995\n",
      "Val Loss: 0.1031, Accuracy: 0.9743\n"
     ]
    },
    {
     "name": "stderr",
     "output_type": "stream",
     "text": [
      "Epoch 45 - train: 100%|██████████| 3000/3000 [00:13<00:00, 223.81it/s]\n",
      "Epoch 45 - val: 100%|██████████| 750/750 [00:02<00:00, 281.90it/s]\n"
     ]
    },
    {
     "name": "stdout",
     "output_type": "stream",
     "text": [
      "Epoch 45:\n",
      "Train Loss: 0.0064, Accuracy: 0.9996\n",
      "Val Loss: 0.1037, Accuracy: 0.9729\n"
     ]
    },
    {
     "name": "stderr",
     "output_type": "stream",
     "text": [
      "Epoch 46 - train: 100%|██████████| 3000/3000 [00:14<00:00, 212.94it/s]\n",
      "Epoch 46 - val: 100%|██████████| 750/750 [00:02<00:00, 301.98it/s]\n"
     ]
    },
    {
     "name": "stdout",
     "output_type": "stream",
     "text": [
      "Epoch 46:\n",
      "Train Loss: 0.0061, Accuracy: 0.9997\n",
      "Val Loss: 0.1039, Accuracy: 0.9728\n"
     ]
    },
    {
     "name": "stderr",
     "output_type": "stream",
     "text": [
      "Epoch 47 - train: 100%|██████████| 3000/3000 [00:10<00:00, 273.16it/s]\n",
      "Epoch 47 - val: 100%|██████████| 750/750 [00:01<00:00, 378.71it/s]\n"
     ]
    },
    {
     "name": "stdout",
     "output_type": "stream",
     "text": [
      "Epoch 47:\n",
      "Train Loss: 0.0059, Accuracy: 0.9996\n",
      "Val Loss: 0.1032, Accuracy: 0.9732\n"
     ]
    },
    {
     "name": "stderr",
     "output_type": "stream",
     "text": [
      "Epoch 48 - train: 100%|██████████| 3000/3000 [00:13<00:00, 221.77it/s]\n",
      "Epoch 48 - val: 100%|██████████| 750/750 [00:02<00:00, 318.54it/s]\n"
     ]
    },
    {
     "name": "stdout",
     "output_type": "stream",
     "text": [
      "Epoch 48:\n",
      "Train Loss: 0.0056, Accuracy: 0.9998\n",
      "Val Loss: 0.1040, Accuracy: 0.9741\n"
     ]
    },
    {
     "name": "stderr",
     "output_type": "stream",
     "text": [
      "Epoch 49 - train: 100%|██████████| 3000/3000 [00:13<00:00, 220.23it/s]\n",
      "Epoch 49 - val: 100%|██████████| 750/750 [00:02<00:00, 310.58it/s]\n"
     ]
    },
    {
     "name": "stdout",
     "output_type": "stream",
     "text": [
      "Epoch 49:\n",
      "Train Loss: 0.0054, Accuracy: 0.9998\n",
      "Val Loss: 0.1062, Accuracy: 0.9739\n"
     ]
    },
    {
     "name": "stderr",
     "output_type": "stream",
     "text": [
      "Epoch 50 - train: 100%|██████████| 3000/3000 [00:14<00:00, 205.07it/s]\n",
      "Epoch 50 - val: 100%|██████████| 750/750 [00:02<00:00, 364.00it/s]\n"
     ]
    },
    {
     "name": "stdout",
     "output_type": "stream",
     "text": [
      "Epoch 50:\n",
      "Train Loss: 0.0052, Accuracy: 0.9999\n",
      "Val Loss: 0.1048, Accuracy: 0.9740\n",
      "<=== TEST 3 OF 3 ===>\n"
     ]
    },
    {
     "name": "stderr",
     "output_type": "stream",
     "text": [
      "Epoch 1 - train: 100%|██████████| 3000/3000 [00:11<00:00, 263.63it/s]\n",
      "Epoch 1 - val: 100%|██████████| 750/750 [00:02<00:00, 278.34it/s]\n"
     ]
    },
    {
     "name": "stdout",
     "output_type": "stream",
     "text": [
      "Epoch 1:\n",
      "Train Loss: 0.3305, Accuracy: 0.9032\n",
      "Val Loss: 0.2023, Accuracy: 0.9438\n"
     ]
    },
    {
     "name": "stderr",
     "output_type": "stream",
     "text": [
      "Epoch 2 - train: 100%|██████████| 3000/3000 [00:13<00:00, 223.01it/s]\n",
      "Epoch 2 - val: 100%|██████████| 750/750 [00:01<00:00, 380.82it/s]\n"
     ]
    },
    {
     "name": "stdout",
     "output_type": "stream",
     "text": [
      "Epoch 2:\n",
      "Train Loss: 0.1741, Accuracy: 0.9495\n",
      "Val Loss: 0.1549, Accuracy: 0.9561\n"
     ]
    },
    {
     "name": "stderr",
     "output_type": "stream",
     "text": [
      "Epoch 3 - train: 100%|██████████| 3000/3000 [00:11<00:00, 267.95it/s]\n",
      "Epoch 3 - val: 100%|██████████| 750/750 [00:02<00:00, 290.63it/s]\n"
     ]
    },
    {
     "name": "stdout",
     "output_type": "stream",
     "text": [
      "Epoch 3:\n",
      "Train Loss: 0.1311, Accuracy: 0.9624\n",
      "Val Loss: 0.1393, Accuracy: 0.9589\n"
     ]
    },
    {
     "name": "stderr",
     "output_type": "stream",
     "text": [
      "Epoch 4 - train: 100%|██████████| 3000/3000 [00:11<00:00, 259.22it/s]\n",
      "Epoch 4 - val: 100%|██████████| 750/750 [00:02<00:00, 352.88it/s]\n"
     ]
    },
    {
     "name": "stdout",
     "output_type": "stream",
     "text": [
      "Epoch 4:\n",
      "Train Loss: 0.1067, Accuracy: 0.9699\n",
      "Val Loss: 0.1230, Accuracy: 0.9638\n"
     ]
    },
    {
     "name": "stderr",
     "output_type": "stream",
     "text": [
      "Epoch 5 - train: 100%|██████████| 3000/3000 [00:10<00:00, 280.54it/s]\n",
      "Epoch 5 - val: 100%|██████████| 750/750 [00:01<00:00, 401.71it/s]\n"
     ]
    },
    {
     "name": "stdout",
     "output_type": "stream",
     "text": [
      "Epoch 5:\n",
      "Train Loss: 0.0900, Accuracy: 0.9740\n",
      "Val Loss: 0.1108, Accuracy: 0.9653\n"
     ]
    },
    {
     "name": "stderr",
     "output_type": "stream",
     "text": [
      "Epoch 6 - train: 100%|██████████| 3000/3000 [00:12<00:00, 239.67it/s]\n",
      "Epoch 6 - val: 100%|██████████| 750/750 [00:02<00:00, 296.94it/s]\n"
     ]
    },
    {
     "name": "stdout",
     "output_type": "stream",
     "text": [
      "Epoch 6:\n",
      "Train Loss: 0.0776, Accuracy: 0.9781\n",
      "Val Loss: 0.1076, Accuracy: 0.9677\n"
     ]
    },
    {
     "name": "stderr",
     "output_type": "stream",
     "text": [
      "Epoch 7 - train: 100%|██████████| 3000/3000 [00:11<00:00, 269.08it/s]\n",
      "Epoch 7 - val: 100%|██████████| 750/750 [00:02<00:00, 311.91it/s]\n"
     ]
    },
    {
     "name": "stdout",
     "output_type": "stream",
     "text": [
      "Epoch 7:\n",
      "Train Loss: 0.0679, Accuracy: 0.9806\n",
      "Val Loss: 0.1067, Accuracy: 0.9678\n"
     ]
    },
    {
     "name": "stderr",
     "output_type": "stream",
     "text": [
      "Epoch 8 - train: 100%|██████████| 3000/3000 [00:17<00:00, 170.77it/s]\n",
      "Epoch 8 - val: 100%|██████████| 750/750 [00:03<00:00, 193.15it/s]\n"
     ]
    },
    {
     "name": "stdout",
     "output_type": "stream",
     "text": [
      "Epoch 8:\n",
      "Train Loss: 0.0600, Accuracy: 0.9830\n",
      "Val Loss: 0.1026, Accuracy: 0.9689\n"
     ]
    },
    {
     "name": "stderr",
     "output_type": "stream",
     "text": [
      "Epoch 9 - train: 100%|██████████| 3000/3000 [00:19<00:00, 157.02it/s]\n",
      "Epoch 9 - val: 100%|██████████| 750/750 [00:01<00:00, 429.53it/s]\n"
     ]
    },
    {
     "name": "stdout",
     "output_type": "stream",
     "text": [
      "Epoch 9:\n",
      "Train Loss: 0.0532, Accuracy: 0.9858\n",
      "Val Loss: 0.0973, Accuracy: 0.9708\n"
     ]
    },
    {
     "name": "stderr",
     "output_type": "stream",
     "text": [
      "Epoch 10 - train: 100%|██████████| 3000/3000 [00:10<00:00, 289.01it/s]\n",
      "Epoch 10 - val: 100%|██████████| 750/750 [00:01<00:00, 447.02it/s]\n"
     ]
    },
    {
     "name": "stdout",
     "output_type": "stream",
     "text": [
      "Epoch 10:\n",
      "Train Loss: 0.0475, Accuracy: 0.9871\n",
      "Val Loss: 0.0952, Accuracy: 0.9725\n",
      "======== Pruned weights: 19877 out of 79510 ========\n"
     ]
    },
    {
     "name": "stderr",
     "output_type": "stream",
     "text": [
      "Epoch 11 - train: 100%|██████████| 3000/3000 [00:10<00:00, 297.04it/s]\n",
      "Epoch 11 - val: 100%|██████████| 750/750 [00:01<00:00, 425.30it/s]\n"
     ]
    },
    {
     "name": "stdout",
     "output_type": "stream",
     "text": [
      "Epoch 11:\n",
      "Train Loss: 0.0781, Accuracy: 0.9780\n",
      "Val Loss: 0.1059, Accuracy: 0.9686\n"
     ]
    },
    {
     "name": "stderr",
     "output_type": "stream",
     "text": [
      "Epoch 12 - train: 100%|██████████| 3000/3000 [00:11<00:00, 257.83it/s]\n",
      "Epoch 12 - val: 100%|██████████| 750/750 [00:02<00:00, 361.48it/s]\n"
     ]
    },
    {
     "name": "stdout",
     "output_type": "stream",
     "text": [
      "Epoch 12:\n",
      "Train Loss: 0.0667, Accuracy: 0.9819\n",
      "Val Loss: 0.1079, Accuracy: 0.9662\n"
     ]
    },
    {
     "name": "stderr",
     "output_type": "stream",
     "text": [
      "Epoch 13 - train: 100%|██████████| 3000/3000 [00:10<00:00, 283.00it/s]\n",
      "Epoch 13 - val: 100%|██████████| 750/750 [00:02<00:00, 334.52it/s]\n"
     ]
    },
    {
     "name": "stdout",
     "output_type": "stream",
     "text": [
      "Epoch 13:\n",
      "Train Loss: 0.0603, Accuracy: 0.9831\n",
      "Val Loss: 0.0998, Accuracy: 0.9717\n"
     ]
    },
    {
     "name": "stderr",
     "output_type": "stream",
     "text": [
      "Epoch 14 - train: 100%|██████████| 3000/3000 [00:10<00:00, 285.46it/s]\n",
      "Epoch 14 - val: 100%|██████████| 750/750 [00:01<00:00, 412.00it/s]\n"
     ]
    },
    {
     "name": "stdout",
     "output_type": "stream",
     "text": [
      "Epoch 14:\n",
      "Train Loss: 0.0539, Accuracy: 0.9855\n",
      "Val Loss: 0.1018, Accuracy: 0.9698\n"
     ]
    },
    {
     "name": "stderr",
     "output_type": "stream",
     "text": [
      "Epoch 15 - train: 100%|██████████| 3000/3000 [00:11<00:00, 261.35it/s]\n",
      "Epoch 15 - val: 100%|██████████| 750/750 [00:01<00:00, 424.83it/s]\n"
     ]
    },
    {
     "name": "stdout",
     "output_type": "stream",
     "text": [
      "Epoch 15:\n",
      "Train Loss: 0.0488, Accuracy: 0.9871\n",
      "Val Loss: 0.1004, Accuracy: 0.9698\n"
     ]
    },
    {
     "name": "stderr",
     "output_type": "stream",
     "text": [
      "Epoch 16 - train: 100%|██████████| 3000/3000 [00:11<00:00, 265.18it/s]\n",
      "Epoch 16 - val: 100%|██████████| 750/750 [00:01<00:00, 418.87it/s]\n"
     ]
    },
    {
     "name": "stdout",
     "output_type": "stream",
     "text": [
      "Epoch 16:\n",
      "Train Loss: 0.0446, Accuracy: 0.9882\n",
      "Val Loss: 0.0964, Accuracy: 0.9696\n"
     ]
    },
    {
     "name": "stderr",
     "output_type": "stream",
     "text": [
      "Epoch 17 - train: 100%|██████████| 3000/3000 [00:10<00:00, 280.27it/s]\n",
      "Epoch 17 - val: 100%|██████████| 750/750 [00:01<00:00, 400.99it/s]\n"
     ]
    },
    {
     "name": "stdout",
     "output_type": "stream",
     "text": [
      "Epoch 17:\n",
      "Train Loss: 0.0414, Accuracy: 0.9892\n",
      "Val Loss: 0.0980, Accuracy: 0.9704\n"
     ]
    },
    {
     "name": "stderr",
     "output_type": "stream",
     "text": [
      "Epoch 18 - train: 100%|██████████| 3000/3000 [00:10<00:00, 279.97it/s]\n",
      "Epoch 18 - val: 100%|██████████| 750/750 [00:01<00:00, 421.15it/s]\n"
     ]
    },
    {
     "name": "stdout",
     "output_type": "stream",
     "text": [
      "Epoch 18:\n",
      "Train Loss: 0.0378, Accuracy: 0.9904\n",
      "Val Loss: 0.0970, Accuracy: 0.9708\n"
     ]
    },
    {
     "name": "stderr",
     "output_type": "stream",
     "text": [
      "Epoch 19 - train: 100%|██████████| 3000/3000 [00:09<00:00, 327.37it/s]\n",
      "Epoch 19 - val: 100%|██████████| 750/750 [00:01<00:00, 438.73it/s]\n"
     ]
    },
    {
     "name": "stdout",
     "output_type": "stream",
     "text": [
      "Epoch 19:\n",
      "Train Loss: 0.0350, Accuracy: 0.9914\n",
      "Val Loss: 0.0982, Accuracy: 0.9707\n"
     ]
    },
    {
     "name": "stderr",
     "output_type": "stream",
     "text": [
      "Epoch 20 - train: 100%|██████████| 3000/3000 [00:10<00:00, 286.88it/s]\n",
      "Epoch 20 - val: 100%|██████████| 750/750 [00:01<00:00, 419.82it/s]\n"
     ]
    },
    {
     "name": "stdout",
     "output_type": "stream",
     "text": [
      "Epoch 20:\n",
      "Train Loss: 0.0323, Accuracy: 0.9922\n",
      "Val Loss: 0.0961, Accuracy: 0.9728\n"
     ]
    },
    {
     "name": "stderr",
     "output_type": "stream",
     "text": [
      "Epoch 21 - train: 100%|██████████| 3000/3000 [00:09<00:00, 304.04it/s]\n",
      "Epoch 21 - val: 100%|██████████| 750/750 [00:02<00:00, 358.38it/s]\n"
     ]
    },
    {
     "name": "stdout",
     "output_type": "stream",
     "text": [
      "Epoch 21:\n",
      "Train Loss: 0.0298, Accuracy: 0.9932\n",
      "Val Loss: 0.0941, Accuracy: 0.9715\n"
     ]
    },
    {
     "name": "stderr",
     "output_type": "stream",
     "text": [
      "Epoch 22 - train: 100%|██████████| 3000/3000 [00:10<00:00, 276.55it/s]\n",
      "Epoch 22 - val: 100%|██████████| 750/750 [00:02<00:00, 373.38it/s]\n"
     ]
    },
    {
     "name": "stdout",
     "output_type": "stream",
     "text": [
      "Epoch 22:\n",
      "Train Loss: 0.0273, Accuracy: 0.9941\n",
      "Val Loss: 0.0986, Accuracy: 0.9704\n"
     ]
    },
    {
     "name": "stderr",
     "output_type": "stream",
     "text": [
      "Epoch 23 - train: 100%|██████████| 3000/3000 [00:10<00:00, 294.77it/s]\n",
      "Epoch 23 - val: 100%|██████████| 750/750 [00:02<00:00, 356.56it/s]\n"
     ]
    },
    {
     "name": "stdout",
     "output_type": "stream",
     "text": [
      "Epoch 23:\n",
      "Train Loss: 0.0257, Accuracy: 0.9944\n",
      "Val Loss: 0.0962, Accuracy: 0.9716\n"
     ]
    },
    {
     "name": "stderr",
     "output_type": "stream",
     "text": [
      "Epoch 24 - train: 100%|██████████| 3000/3000 [00:10<00:00, 278.47it/s]\n",
      "Epoch 24 - val: 100%|██████████| 750/750 [00:02<00:00, 335.27it/s]\n"
     ]
    },
    {
     "name": "stdout",
     "output_type": "stream",
     "text": [
      "Epoch 24:\n",
      "Train Loss: 0.0238, Accuracy: 0.9952\n",
      "Val Loss: 0.0955, Accuracy: 0.9721\n"
     ]
    },
    {
     "name": "stderr",
     "output_type": "stream",
     "text": [
      "Epoch 25 - train: 100%|██████████| 3000/3000 [00:10<00:00, 276.05it/s]\n",
      "Epoch 25 - val: 100%|██████████| 750/750 [00:01<00:00, 407.17it/s]\n"
     ]
    },
    {
     "name": "stdout",
     "output_type": "stream",
     "text": [
      "Epoch 25:\n",
      "Train Loss: 0.0223, Accuracy: 0.9956\n",
      "Val Loss: 0.0941, Accuracy: 0.9732\n"
     ]
    },
    {
     "name": "stderr",
     "output_type": "stream",
     "text": [
      "Epoch 26 - train: 100%|██████████| 3000/3000 [00:11<00:00, 271.80it/s]\n",
      "Epoch 26 - val: 100%|██████████| 750/750 [00:01<00:00, 397.44it/s]\n"
     ]
    },
    {
     "name": "stdout",
     "output_type": "stream",
     "text": [
      "Epoch 26:\n",
      "Train Loss: 0.0207, Accuracy: 0.9964\n",
      "Val Loss: 0.0932, Accuracy: 0.9730\n"
     ]
    },
    {
     "name": "stderr",
     "output_type": "stream",
     "text": [
      "Epoch 27 - train: 100%|██████████| 3000/3000 [00:11<00:00, 264.86it/s]\n",
      "Epoch 27 - val: 100%|██████████| 750/750 [00:02<00:00, 314.40it/s]\n"
     ]
    },
    {
     "name": "stdout",
     "output_type": "stream",
     "text": [
      "Epoch 27:\n",
      "Train Loss: 0.0192, Accuracy: 0.9969\n",
      "Val Loss: 0.0991, Accuracy: 0.9712\n"
     ]
    },
    {
     "name": "stderr",
     "output_type": "stream",
     "text": [
      "Epoch 28 - train: 100%|██████████| 3000/3000 [00:10<00:00, 299.32it/s]\n",
      "Epoch 28 - val: 100%|██████████| 750/750 [00:01<00:00, 433.93it/s]\n"
     ]
    },
    {
     "name": "stdout",
     "output_type": "stream",
     "text": [
      "Epoch 28:\n",
      "Train Loss: 0.0179, Accuracy: 0.9971\n",
      "Val Loss: 0.0942, Accuracy: 0.9733\n"
     ]
    },
    {
     "name": "stderr",
     "output_type": "stream",
     "text": [
      "Epoch 29 - train: 100%|██████████| 3000/3000 [00:12<00:00, 237.68it/s]\n",
      "Epoch 29 - val: 100%|██████████| 750/750 [00:02<00:00, 337.80it/s]\n"
     ]
    },
    {
     "name": "stdout",
     "output_type": "stream",
     "text": [
      "Epoch 29:\n",
      "Train Loss: 0.0169, Accuracy: 0.9973\n",
      "Val Loss: 0.0944, Accuracy: 0.9732\n"
     ]
    },
    {
     "name": "stderr",
     "output_type": "stream",
     "text": [
      "Epoch 30 - train: 100%|██████████| 3000/3000 [00:11<00:00, 257.26it/s]\n",
      "Epoch 30 - val: 100%|██████████| 750/750 [00:02<00:00, 340.12it/s]\n"
     ]
    },
    {
     "name": "stdout",
     "output_type": "stream",
     "text": [
      "Epoch 30:\n",
      "Train Loss: 0.0157, Accuracy: 0.9975\n",
      "Val Loss: 0.0946, Accuracy: 0.9736\n"
     ]
    },
    {
     "name": "stderr",
     "output_type": "stream",
     "text": [
      "Epoch 31 - train: 100%|██████████| 3000/3000 [00:13<00:00, 214.51it/s]\n",
      "Epoch 31 - val: 100%|██████████| 750/750 [00:01<00:00, 378.66it/s]\n"
     ]
    },
    {
     "name": "stdout",
     "output_type": "stream",
     "text": [
      "Epoch 31:\n",
      "Train Loss: 0.0146, Accuracy: 0.9979\n",
      "Val Loss: 0.0955, Accuracy: 0.9730\n"
     ]
    },
    {
     "name": "stderr",
     "output_type": "stream",
     "text": [
      "Epoch 32 - train: 100%|██████████| 3000/3000 [00:13<00:00, 226.91it/s]\n",
      "Epoch 32 - val: 100%|██████████| 750/750 [00:02<00:00, 317.02it/s]\n"
     ]
    },
    {
     "name": "stdout",
     "output_type": "stream",
     "text": [
      "Epoch 32:\n",
      "Train Loss: 0.0139, Accuracy: 0.9981\n",
      "Val Loss: 0.0943, Accuracy: 0.9738\n"
     ]
    },
    {
     "name": "stderr",
     "output_type": "stream",
     "text": [
      "Epoch 33 - train: 100%|██████████| 3000/3000 [00:12<00:00, 245.29it/s]\n",
      "Epoch 33 - val: 100%|██████████| 750/750 [00:02<00:00, 320.57it/s]\n"
     ]
    },
    {
     "name": "stdout",
     "output_type": "stream",
     "text": [
      "Epoch 33:\n",
      "Train Loss: 0.0129, Accuracy: 0.9984\n",
      "Val Loss: 0.0968, Accuracy: 0.9731\n"
     ]
    },
    {
     "name": "stderr",
     "output_type": "stream",
     "text": [
      "Epoch 34 - train: 100%|██████████| 3000/3000 [00:10<00:00, 276.09it/s]\n",
      "Epoch 34 - val: 100%|██████████| 750/750 [00:01<00:00, 385.33it/s]\n"
     ]
    },
    {
     "name": "stdout",
     "output_type": "stream",
     "text": [
      "Epoch 34:\n",
      "Train Loss: 0.0122, Accuracy: 0.9986\n",
      "Val Loss: 0.0983, Accuracy: 0.9722\n"
     ]
    },
    {
     "name": "stderr",
     "output_type": "stream",
     "text": [
      "Epoch 35 - train: 100%|██████████| 3000/3000 [00:11<00:00, 272.17it/s]\n",
      "Epoch 35 - val: 100%|██████████| 750/750 [00:01<00:00, 429.43it/s]\n"
     ]
    },
    {
     "name": "stdout",
     "output_type": "stream",
     "text": [
      "Epoch 35:\n",
      "Train Loss: 0.0115, Accuracy: 0.9988\n",
      "Val Loss: 0.0952, Accuracy: 0.9741\n"
     ]
    },
    {
     "name": "stderr",
     "output_type": "stream",
     "text": [
      "Epoch 36 - train: 100%|██████████| 3000/3000 [00:10<00:00, 276.52it/s]\n",
      "Epoch 36 - val: 100%|██████████| 750/750 [00:01<00:00, 390.12it/s]\n"
     ]
    },
    {
     "name": "stdout",
     "output_type": "stream",
     "text": [
      "Epoch 36:\n",
      "Train Loss: 0.0108, Accuracy: 0.9991\n",
      "Val Loss: 0.0958, Accuracy: 0.9746\n"
     ]
    },
    {
     "name": "stderr",
     "output_type": "stream",
     "text": [
      "Epoch 37 - train: 100%|██████████| 3000/3000 [00:10<00:00, 280.26it/s]\n",
      "Epoch 37 - val: 100%|██████████| 750/750 [00:02<00:00, 349.07it/s]\n"
     ]
    },
    {
     "name": "stdout",
     "output_type": "stream",
     "text": [
      "Epoch 37:\n",
      "Train Loss: 0.0101, Accuracy: 0.9990\n",
      "Val Loss: 0.0974, Accuracy: 0.9732\n"
     ]
    },
    {
     "name": "stderr",
     "output_type": "stream",
     "text": [
      "Epoch 38 - train: 100%|██████████| 3000/3000 [00:11<00:00, 265.12it/s]\n",
      "Epoch 38 - val: 100%|██████████| 750/750 [00:01<00:00, 420.86it/s]\n"
     ]
    },
    {
     "name": "stdout",
     "output_type": "stream",
     "text": [
      "Epoch 38:\n",
      "Train Loss: 0.0096, Accuracy: 0.9993\n",
      "Val Loss: 0.0963, Accuracy: 0.9737\n"
     ]
    },
    {
     "name": "stderr",
     "output_type": "stream",
     "text": [
      "Epoch 39 - train: 100%|██████████| 3000/3000 [00:10<00:00, 278.22it/s]\n",
      "Epoch 39 - val: 100%|██████████| 750/750 [00:01<00:00, 383.84it/s]\n"
     ]
    },
    {
     "name": "stdout",
     "output_type": "stream",
     "text": [
      "Epoch 39:\n",
      "Train Loss: 0.0091, Accuracy: 0.9994\n",
      "Val Loss: 0.0962, Accuracy: 0.9742\n"
     ]
    },
    {
     "name": "stderr",
     "output_type": "stream",
     "text": [
      "Epoch 40 - train: 100%|██████████| 3000/3000 [00:11<00:00, 254.58it/s]\n",
      "Epoch 40 - val: 100%|██████████| 750/750 [00:02<00:00, 367.89it/s]\n"
     ]
    },
    {
     "name": "stdout",
     "output_type": "stream",
     "text": [
      "Epoch 40:\n",
      "Train Loss: 0.0086, Accuracy: 0.9994\n",
      "Val Loss: 0.0964, Accuracy: 0.9733\n"
     ]
    },
    {
     "name": "stderr",
     "output_type": "stream",
     "text": [
      "Epoch 41 - train: 100%|██████████| 3000/3000 [00:10<00:00, 282.80it/s]\n",
      "Epoch 41 - val: 100%|██████████| 750/750 [00:01<00:00, 441.75it/s]\n"
     ]
    },
    {
     "name": "stdout",
     "output_type": "stream",
     "text": [
      "Epoch 41:\n",
      "Train Loss: 0.0082, Accuracy: 0.9995\n",
      "Val Loss: 0.0977, Accuracy: 0.9735\n"
     ]
    },
    {
     "name": "stderr",
     "output_type": "stream",
     "text": [
      "Epoch 42 - train: 100%|██████████| 3000/3000 [00:14<00:00, 208.80it/s]\n",
      "Epoch 42 - val: 100%|██████████| 750/750 [00:02<00:00, 293.28it/s]\n"
     ]
    },
    {
     "name": "stdout",
     "output_type": "stream",
     "text": [
      "Epoch 42:\n",
      "Train Loss: 0.0078, Accuracy: 0.9996\n",
      "Val Loss: 0.0965, Accuracy: 0.9738\n"
     ]
    },
    {
     "name": "stderr",
     "output_type": "stream",
     "text": [
      "Epoch 43 - train: 100%|██████████| 3000/3000 [00:14<00:00, 206.52it/s]\n",
      "Epoch 43 - val: 100%|██████████| 750/750 [00:02<00:00, 368.06it/s]\n"
     ]
    },
    {
     "name": "stdout",
     "output_type": "stream",
     "text": [
      "Epoch 43:\n",
      "Train Loss: 0.0075, Accuracy: 0.9996\n",
      "Val Loss: 0.0983, Accuracy: 0.9744\n"
     ]
    },
    {
     "name": "stderr",
     "output_type": "stream",
     "text": [
      "Epoch 44 - train: 100%|██████████| 3000/3000 [00:11<00:00, 253.81it/s]\n",
      "Epoch 44 - val: 100%|██████████| 750/750 [00:02<00:00, 330.81it/s]\n"
     ]
    },
    {
     "name": "stdout",
     "output_type": "stream",
     "text": [
      "Epoch 44:\n",
      "Train Loss: 0.0071, Accuracy: 0.9996\n",
      "Val Loss: 0.0978, Accuracy: 0.9740\n"
     ]
    },
    {
     "name": "stderr",
     "output_type": "stream",
     "text": [
      "Epoch 45 - train: 100%|██████████| 3000/3000 [00:14<00:00, 202.22it/s]\n",
      "Epoch 45 - val: 100%|██████████| 750/750 [00:01<00:00, 377.55it/s]\n"
     ]
    },
    {
     "name": "stdout",
     "output_type": "stream",
     "text": [
      "Epoch 45:\n",
      "Train Loss: 0.0068, Accuracy: 0.9997\n",
      "Val Loss: 0.0992, Accuracy: 0.9738\n"
     ]
    },
    {
     "name": "stderr",
     "output_type": "stream",
     "text": [
      "Epoch 46 - train: 100%|██████████| 3000/3000 [00:15<00:00, 193.31it/s]\n",
      "Epoch 46 - val: 100%|██████████| 750/750 [00:02<00:00, 361.58it/s]\n"
     ]
    },
    {
     "name": "stdout",
     "output_type": "stream",
     "text": [
      "Epoch 46:\n",
      "Train Loss: 0.0065, Accuracy: 0.9997\n",
      "Val Loss: 0.0993, Accuracy: 0.9738\n"
     ]
    },
    {
     "name": "stderr",
     "output_type": "stream",
     "text": [
      "Epoch 47 - train: 100%|██████████| 3000/3000 [00:12<00:00, 237.76it/s]\n",
      "Epoch 47 - val: 100%|██████████| 750/750 [00:02<00:00, 264.79it/s]\n"
     ]
    },
    {
     "name": "stdout",
     "output_type": "stream",
     "text": [
      "Epoch 47:\n",
      "Train Loss: 0.0062, Accuracy: 0.9998\n",
      "Val Loss: 0.0985, Accuracy: 0.9740\n"
     ]
    },
    {
     "name": "stderr",
     "output_type": "stream",
     "text": [
      "Epoch 48 - train: 100%|██████████| 3000/3000 [00:15<00:00, 190.21it/s]\n",
      "Epoch 48 - val: 100%|██████████| 750/750 [00:02<00:00, 342.80it/s]\n"
     ]
    },
    {
     "name": "stdout",
     "output_type": "stream",
     "text": [
      "Epoch 48:\n",
      "Train Loss: 0.0059, Accuracy: 0.9998\n",
      "Val Loss: 0.0994, Accuracy: 0.9741\n"
     ]
    },
    {
     "name": "stderr",
     "output_type": "stream",
     "text": [
      "Epoch 49 - train: 100%|██████████| 3000/3000 [00:13<00:00, 218.62it/s]\n",
      "Epoch 49 - val: 100%|██████████| 750/750 [00:02<00:00, 277.52it/s]\n"
     ]
    },
    {
     "name": "stdout",
     "output_type": "stream",
     "text": [
      "Epoch 49:\n",
      "Train Loss: 0.0057, Accuracy: 0.9998\n",
      "Val Loss: 0.1002, Accuracy: 0.9732\n"
     ]
    },
    {
     "name": "stderr",
     "output_type": "stream",
     "text": [
      "Epoch 50 - train: 100%|██████████| 3000/3000 [00:15<00:00, 189.58it/s]\n",
      "Epoch 50 - val: 100%|██████████| 750/750 [00:02<00:00, 353.42it/s]\n"
     ]
    },
    {
     "name": "stdout",
     "output_type": "stream",
     "text": [
      "Epoch 50:\n",
      "Train Loss: 0.0054, Accuracy: 0.9999\n",
      "Val Loss: 0.1017, Accuracy: 0.9732\n",
      "<=== TEST 1 OF 3 ===>\n"
     ]
    },
    {
     "name": "stderr",
     "output_type": "stream",
     "text": [
      "Epoch 1 - train: 100%|██████████| 3000/3000 [00:12<00:00, 247.53it/s]\n",
      "Epoch 1 - val: 100%|██████████| 750/750 [00:01<00:00, 388.14it/s]\n"
     ]
    },
    {
     "name": "stdout",
     "output_type": "stream",
     "text": [
      "Epoch 1:\n",
      "Train Loss: 0.3305, Accuracy: 0.9032\n",
      "Val Loss: 0.2023, Accuracy: 0.9438\n"
     ]
    },
    {
     "name": "stderr",
     "output_type": "stream",
     "text": [
      "Epoch 2 - train: 100%|██████████| 3000/3000 [00:10<00:00, 286.26it/s]\n",
      "Epoch 2 - val: 100%|██████████| 750/750 [00:01<00:00, 395.79it/s]\n"
     ]
    },
    {
     "name": "stdout",
     "output_type": "stream",
     "text": [
      "Epoch 2:\n",
      "Train Loss: 0.1741, Accuracy: 0.9495\n",
      "Val Loss: 0.1549, Accuracy: 0.9561\n",
      "======== Pruned weights: 71559 out of 79510 ========\n"
     ]
    },
    {
     "name": "stderr",
     "output_type": "stream",
     "text": [
      "Epoch 3 - train: 100%|██████████| 3000/3000 [00:11<00:00, 259.72it/s]\n",
      "Epoch 3 - val: 100%|██████████| 750/750 [00:01<00:00, 389.00it/s]\n"
     ]
    },
    {
     "name": "stdout",
     "output_type": "stream",
     "text": [
      "Epoch 3:\n",
      "Train Loss: 0.2561, Accuracy: 0.9266\n",
      "Val Loss: 0.1870, Accuracy: 0.9473\n"
     ]
    },
    {
     "name": "stderr",
     "output_type": "stream",
     "text": [
      "Epoch 4 - train: 100%|██████████| 3000/3000 [00:10<00:00, 274.69it/s]\n",
      "Epoch 4 - val: 100%|██████████| 750/750 [00:01<00:00, 430.71it/s]\n"
     ]
    },
    {
     "name": "stdout",
     "output_type": "stream",
     "text": [
      "Epoch 4:\n",
      "Train Loss: 0.2291, Accuracy: 0.9337\n",
      "Val Loss: 0.1741, Accuracy: 0.9501\n"
     ]
    },
    {
     "name": "stderr",
     "output_type": "stream",
     "text": [
      "Epoch 5 - train: 100%|██████████| 3000/3000 [00:10<00:00, 285.66it/s]\n",
      "Epoch 5 - val: 100%|██████████| 750/750 [00:01<00:00, 427.29it/s]\n"
     ]
    },
    {
     "name": "stdout",
     "output_type": "stream",
     "text": [
      "Epoch 5:\n",
      "Train Loss: 0.2116, Accuracy: 0.9390\n",
      "Val Loss: 0.1648, Accuracy: 0.9513\n"
     ]
    },
    {
     "name": "stderr",
     "output_type": "stream",
     "text": [
      "Epoch 6 - train: 100%|██████████| 3000/3000 [00:08<00:00, 345.96it/s]\n",
      "Epoch 6 - val: 100%|██████████| 750/750 [00:01<00:00, 440.77it/s]\n"
     ]
    },
    {
     "name": "stdout",
     "output_type": "stream",
     "text": [
      "Epoch 6:\n",
      "Train Loss: 0.1987, Accuracy: 0.9426\n",
      "Val Loss: 0.1653, Accuracy: 0.9515\n"
     ]
    },
    {
     "name": "stderr",
     "output_type": "stream",
     "text": [
      "Epoch 7 - train: 100%|██████████| 3000/3000 [00:09<00:00, 320.72it/s]\n",
      "Epoch 7 - val: 100%|██████████| 750/750 [00:01<00:00, 447.49it/s]\n"
     ]
    },
    {
     "name": "stdout",
     "output_type": "stream",
     "text": [
      "Epoch 7:\n",
      "Train Loss: 0.1889, Accuracy: 0.9454\n",
      "Val Loss: 0.1628, Accuracy: 0.9520\n"
     ]
    },
    {
     "name": "stderr",
     "output_type": "stream",
     "text": [
      "Epoch 8 - train: 100%|██████████| 3000/3000 [00:10<00:00, 297.93it/s]\n",
      "Epoch 8 - val: 100%|██████████| 750/750 [00:01<00:00, 432.66it/s]\n"
     ]
    },
    {
     "name": "stdout",
     "output_type": "stream",
     "text": [
      "Epoch 8:\n",
      "Train Loss: 0.1810, Accuracy: 0.9475\n",
      "Val Loss: 0.1582, Accuracy: 0.9536\n"
     ]
    },
    {
     "name": "stderr",
     "output_type": "stream",
     "text": [
      "Epoch 9 - train: 100%|██████████| 3000/3000 [00:10<00:00, 291.23it/s]\n",
      "Epoch 9 - val: 100%|██████████| 750/750 [00:01<00:00, 404.31it/s]\n"
     ]
    },
    {
     "name": "stdout",
     "output_type": "stream",
     "text": [
      "Epoch 9:\n",
      "Train Loss: 0.1746, Accuracy: 0.9487\n",
      "Val Loss: 0.1573, Accuracy: 0.9523\n"
     ]
    },
    {
     "name": "stderr",
     "output_type": "stream",
     "text": [
      "Epoch 10 - train: 100%|██████████| 3000/3000 [00:11<00:00, 256.30it/s]\n",
      "Epoch 10 - val: 100%|██████████| 750/750 [00:01<00:00, 407.36it/s]\n"
     ]
    },
    {
     "name": "stdout",
     "output_type": "stream",
     "text": [
      "Epoch 10:\n",
      "Train Loss: 0.1680, Accuracy: 0.9510\n",
      "Val Loss: 0.1567, Accuracy: 0.9521\n"
     ]
    },
    {
     "name": "stderr",
     "output_type": "stream",
     "text": [
      "Epoch 11 - train: 100%|██████████| 3000/3000 [00:11<00:00, 264.02it/s]\n",
      "Epoch 11 - val: 100%|██████████| 750/750 [00:01<00:00, 432.12it/s]\n"
     ]
    },
    {
     "name": "stdout",
     "output_type": "stream",
     "text": [
      "Epoch 11:\n",
      "Train Loss: 0.1634, Accuracy: 0.9529\n",
      "Val Loss: 0.1515, Accuracy: 0.9549\n"
     ]
    },
    {
     "name": "stderr",
     "output_type": "stream",
     "text": [
      "Epoch 12 - train: 100%|██████████| 3000/3000 [00:10<00:00, 273.94it/s]\n",
      "Epoch 12 - val: 100%|██████████| 750/750 [00:02<00:00, 345.26it/s]\n"
     ]
    },
    {
     "name": "stdout",
     "output_type": "stream",
     "text": [
      "Epoch 12:\n",
      "Train Loss: 0.1583, Accuracy: 0.9542\n",
      "Val Loss: 0.1605, Accuracy: 0.9516\n"
     ]
    },
    {
     "name": "stderr",
     "output_type": "stream",
     "text": [
      "Epoch 13 - train: 100%|██████████| 3000/3000 [00:10<00:00, 294.81it/s]\n",
      "Epoch 13 - val: 100%|██████████| 750/750 [00:01<00:00, 426.21it/s]\n"
     ]
    },
    {
     "name": "stdout",
     "output_type": "stream",
     "text": [
      "Epoch 13:\n",
      "Train Loss: 0.1548, Accuracy: 0.9549\n",
      "Val Loss: 0.1488, Accuracy: 0.9551\n"
     ]
    },
    {
     "name": "stderr",
     "output_type": "stream",
     "text": [
      "Epoch 14 - train: 100%|██████████| 3000/3000 [00:11<00:00, 271.26it/s]\n",
      "Epoch 14 - val: 100%|██████████| 750/750 [00:02<00:00, 347.59it/s]\n"
     ]
    },
    {
     "name": "stdout",
     "output_type": "stream",
     "text": [
      "Epoch 14:\n",
      "Train Loss: 0.1507, Accuracy: 0.9560\n",
      "Val Loss: 0.1602, Accuracy: 0.9516\n"
     ]
    },
    {
     "name": "stderr",
     "output_type": "stream",
     "text": [
      "Epoch 15 - train: 100%|██████████| 3000/3000 [00:09<00:00, 324.56it/s]\n",
      "Epoch 15 - val: 100%|██████████| 750/750 [00:01<00:00, 435.46it/s]\n"
     ]
    },
    {
     "name": "stdout",
     "output_type": "stream",
     "text": [
      "Epoch 15:\n",
      "Train Loss: 0.1470, Accuracy: 0.9579\n",
      "Val Loss: 0.1470, Accuracy: 0.9559\n"
     ]
    },
    {
     "name": "stderr",
     "output_type": "stream",
     "text": [
      "Epoch 16 - train: 100%|██████████| 3000/3000 [00:10<00:00, 274.63it/s]\n",
      "Epoch 16 - val: 100%|██████████| 750/750 [00:01<00:00, 416.56it/s]\n"
     ]
    },
    {
     "name": "stdout",
     "output_type": "stream",
     "text": [
      "Epoch 16:\n",
      "Train Loss: 0.1449, Accuracy: 0.9577\n",
      "Val Loss: 0.1472, Accuracy: 0.9573\n"
     ]
    },
    {
     "name": "stderr",
     "output_type": "stream",
     "text": [
      "Epoch 17 - train: 100%|██████████| 3000/3000 [00:08<00:00, 340.15it/s]\n",
      "Epoch 17 - val: 100%|██████████| 750/750 [00:01<00:00, 428.04it/s]\n"
     ]
    },
    {
     "name": "stdout",
     "output_type": "stream",
     "text": [
      "Epoch 17:\n",
      "Train Loss: 0.1421, Accuracy: 0.9585\n",
      "Val Loss: 0.1493, Accuracy: 0.9557\n"
     ]
    },
    {
     "name": "stderr",
     "output_type": "stream",
     "text": [
      "Epoch 18 - train: 100%|██████████| 3000/3000 [00:09<00:00, 316.41it/s]\n",
      "Epoch 18 - val: 100%|██████████| 750/750 [00:01<00:00, 467.08it/s]\n"
     ]
    },
    {
     "name": "stdout",
     "output_type": "stream",
     "text": [
      "Epoch 18:\n",
      "Train Loss: 0.1390, Accuracy: 0.9596\n",
      "Val Loss: 0.1475, Accuracy: 0.9566\n"
     ]
    },
    {
     "name": "stderr",
     "output_type": "stream",
     "text": [
      "Epoch 19 - train: 100%|██████████| 3000/3000 [00:08<00:00, 342.79it/s]\n",
      "Epoch 19 - val: 100%|██████████| 750/750 [00:01<00:00, 467.40it/s]\n"
     ]
    },
    {
     "name": "stdout",
     "output_type": "stream",
     "text": [
      "Epoch 19:\n",
      "Train Loss: 0.1370, Accuracy: 0.9600\n",
      "Val Loss: 0.1433, Accuracy: 0.9575\n"
     ]
    },
    {
     "name": "stderr",
     "output_type": "stream",
     "text": [
      "Epoch 20 - train: 100%|██████████| 3000/3000 [00:09<00:00, 317.43it/s]\n",
      "Epoch 20 - val: 100%|██████████| 750/750 [00:01<00:00, 439.97it/s]\n"
     ]
    },
    {
     "name": "stdout",
     "output_type": "stream",
     "text": [
      "Epoch 20:\n",
      "Train Loss: 0.1347, Accuracy: 0.9609\n",
      "Val Loss: 0.1405, Accuracy: 0.9597\n"
     ]
    },
    {
     "name": "stderr",
     "output_type": "stream",
     "text": [
      "Epoch 21 - train: 100%|██████████| 3000/3000 [00:18<00:00, 162.43it/s]\n",
      "Epoch 21 - val: 100%|██████████| 750/750 [00:02<00:00, 277.37it/s]\n"
     ]
    },
    {
     "name": "stdout",
     "output_type": "stream",
     "text": [
      "Epoch 21:\n",
      "Train Loss: 0.1320, Accuracy: 0.9614\n",
      "Val Loss: 0.1416, Accuracy: 0.9567\n"
     ]
    },
    {
     "name": "stderr",
     "output_type": "stream",
     "text": [
      "Epoch 22 - train: 100%|██████████| 3000/3000 [00:10<00:00, 285.67it/s]\n",
      "Epoch 22 - val: 100%|██████████| 750/750 [00:01<00:00, 435.28it/s]\n"
     ]
    },
    {
     "name": "stdout",
     "output_type": "stream",
     "text": [
      "Epoch 22:\n",
      "Train Loss: 0.1303, Accuracy: 0.9615\n",
      "Val Loss: 0.1448, Accuracy: 0.9573\n"
     ]
    },
    {
     "name": "stderr",
     "output_type": "stream",
     "text": [
      "Epoch 23 - train: 100%|██████████| 3000/3000 [00:09<00:00, 324.05it/s]\n",
      "Epoch 23 - val: 100%|██████████| 750/750 [00:01<00:00, 443.67it/s]\n"
     ]
    },
    {
     "name": "stdout",
     "output_type": "stream",
     "text": [
      "Epoch 23:\n",
      "Train Loss: 0.1282, Accuracy: 0.9627\n",
      "Val Loss: 0.1488, Accuracy: 0.9553\n"
     ]
    },
    {
     "name": "stderr",
     "output_type": "stream",
     "text": [
      "Epoch 24 - train: 100%|██████████| 3000/3000 [00:11<00:00, 250.81it/s]\n",
      "Epoch 24 - val: 100%|██████████| 750/750 [00:02<00:00, 360.13it/s]\n"
     ]
    },
    {
     "name": "stdout",
     "output_type": "stream",
     "text": [
      "Epoch 24:\n",
      "Train Loss: 0.1266, Accuracy: 0.9626\n",
      "Val Loss: 0.1414, Accuracy: 0.9576\n"
     ]
    },
    {
     "name": "stderr",
     "output_type": "stream",
     "text": [
      "Epoch 25 - train: 100%|██████████| 3000/3000 [00:12<00:00, 243.03it/s]\n",
      "Epoch 25 - val: 100%|██████████| 750/750 [00:02<00:00, 338.96it/s]\n"
     ]
    },
    {
     "name": "stdout",
     "output_type": "stream",
     "text": [
      "Epoch 25:\n",
      "Train Loss: 0.1256, Accuracy: 0.9630\n",
      "Val Loss: 0.1391, Accuracy: 0.9588\n"
     ]
    },
    {
     "name": "stderr",
     "output_type": "stream",
     "text": [
      "Epoch 26 - train: 100%|██████████| 3000/3000 [00:11<00:00, 258.53it/s]\n",
      "Epoch 26 - val: 100%|██████████| 750/750 [00:01<00:00, 411.15it/s]\n"
     ]
    },
    {
     "name": "stdout",
     "output_type": "stream",
     "text": [
      "Epoch 26:\n",
      "Train Loss: 0.1228, Accuracy: 0.9639\n",
      "Val Loss: 0.1431, Accuracy: 0.9573\n"
     ]
    },
    {
     "name": "stderr",
     "output_type": "stream",
     "text": [
      "Epoch 27 - train: 100%|██████████| 3000/3000 [00:11<00:00, 259.07it/s]\n",
      "Epoch 27 - val: 100%|██████████| 750/750 [00:02<00:00, 278.32it/s]\n"
     ]
    },
    {
     "name": "stdout",
     "output_type": "stream",
     "text": [
      "Epoch 27:\n",
      "Train Loss: 0.1211, Accuracy: 0.9650\n",
      "Val Loss: 0.1480, Accuracy: 0.9561\n"
     ]
    },
    {
     "name": "stderr",
     "output_type": "stream",
     "text": [
      "Epoch 28 - train: 100%|██████████| 3000/3000 [00:13<00:00, 226.39it/s]\n",
      "Epoch 28 - val: 100%|██████████| 750/750 [00:02<00:00, 336.24it/s]\n"
     ]
    },
    {
     "name": "stdout",
     "output_type": "stream",
     "text": [
      "Epoch 28:\n",
      "Train Loss: 0.1200, Accuracy: 0.9643\n",
      "Val Loss: 0.1429, Accuracy: 0.9571\n"
     ]
    },
    {
     "name": "stderr",
     "output_type": "stream",
     "text": [
      "Epoch 29 - train: 100%|██████████| 3000/3000 [00:13<00:00, 218.17it/s]\n",
      "Epoch 29 - val: 100%|██████████| 750/750 [00:02<00:00, 273.37it/s]\n"
     ]
    },
    {
     "name": "stdout",
     "output_type": "stream",
     "text": [
      "Epoch 29:\n",
      "Train Loss: 0.1190, Accuracy: 0.9653\n",
      "Val Loss: 0.1433, Accuracy: 0.9585\n"
     ]
    },
    {
     "name": "stderr",
     "output_type": "stream",
     "text": [
      "Epoch 30 - train: 100%|██████████| 3000/3000 [00:14<00:00, 203.21it/s]\n",
      "Epoch 30 - val: 100%|██████████| 750/750 [00:01<00:00, 430.99it/s]\n"
     ]
    },
    {
     "name": "stdout",
     "output_type": "stream",
     "text": [
      "Epoch 30:\n",
      "Train Loss: 0.1167, Accuracy: 0.9665\n",
      "Val Loss: 0.1425, Accuracy: 0.9583\n"
     ]
    },
    {
     "name": "stderr",
     "output_type": "stream",
     "text": [
      "Epoch 31 - train: 100%|██████████| 3000/3000 [00:09<00:00, 312.41it/s]\n",
      "Epoch 31 - val: 100%|██████████| 750/750 [00:02<00:00, 366.32it/s]\n"
     ]
    },
    {
     "name": "stdout",
     "output_type": "stream",
     "text": [
      "Epoch 31:\n",
      "Train Loss: 0.1157, Accuracy: 0.9655\n",
      "Val Loss: 0.1412, Accuracy: 0.9585\n"
     ]
    },
    {
     "name": "stderr",
     "output_type": "stream",
     "text": [
      "Epoch 32 - train: 100%|██████████| 3000/3000 [00:14<00:00, 200.94it/s]\n",
      "Epoch 32 - val: 100%|██████████| 750/750 [00:02<00:00, 371.14it/s]\n"
     ]
    },
    {
     "name": "stdout",
     "output_type": "stream",
     "text": [
      "Epoch 32:\n",
      "Train Loss: 0.1147, Accuracy: 0.9666\n",
      "Val Loss: 0.1416, Accuracy: 0.9578\n"
     ]
    },
    {
     "name": "stderr",
     "output_type": "stream",
     "text": [
      "Epoch 33 - train: 100%|██████████| 3000/3000 [00:10<00:00, 276.12it/s]\n",
      "Epoch 33 - val: 100%|██████████| 750/750 [00:02<00:00, 323.69it/s]\n"
     ]
    },
    {
     "name": "stdout",
     "output_type": "stream",
     "text": [
      "Epoch 33:\n",
      "Train Loss: 0.1128, Accuracy: 0.9669\n",
      "Val Loss: 0.1474, Accuracy: 0.9577\n"
     ]
    },
    {
     "name": "stderr",
     "output_type": "stream",
     "text": [
      "Epoch 34 - train: 100%|██████████| 3000/3000 [00:11<00:00, 254.73it/s]\n",
      "Epoch 34 - val: 100%|██████████| 750/750 [00:02<00:00, 342.64it/s]\n"
     ]
    },
    {
     "name": "stdout",
     "output_type": "stream",
     "text": [
      "Epoch 34:\n",
      "Train Loss: 0.1119, Accuracy: 0.9670\n",
      "Val Loss: 0.1429, Accuracy: 0.9587\n"
     ]
    },
    {
     "name": "stderr",
     "output_type": "stream",
     "text": [
      "Epoch 35 - train: 100%|██████████| 3000/3000 [00:12<00:00, 230.86it/s]\n",
      "Epoch 35 - val: 100%|██████████| 750/750 [00:01<00:00, 447.62it/s]\n"
     ]
    },
    {
     "name": "stdout",
     "output_type": "stream",
     "text": [
      "Epoch 35:\n",
      "Train Loss: 0.1102, Accuracy: 0.9675\n",
      "Val Loss: 0.1405, Accuracy: 0.9604\n"
     ]
    },
    {
     "name": "stderr",
     "output_type": "stream",
     "text": [
      "Epoch 36 - train: 100%|██████████| 3000/3000 [00:15<00:00, 199.48it/s]\n",
      "Epoch 36 - val: 100%|██████████| 750/750 [00:01<00:00, 441.07it/s]\n"
     ]
    },
    {
     "name": "stdout",
     "output_type": "stream",
     "text": [
      "Epoch 36:\n",
      "Train Loss: 0.1100, Accuracy: 0.9673\n",
      "Val Loss: 0.1396, Accuracy: 0.9592\n"
     ]
    },
    {
     "name": "stderr",
     "output_type": "stream",
     "text": [
      "Epoch 37 - train: 100%|██████████| 3000/3000 [00:09<00:00, 308.43it/s]\n",
      "Epoch 37 - val: 100%|██████████| 750/750 [00:02<00:00, 366.00it/s]\n"
     ]
    },
    {
     "name": "stdout",
     "output_type": "stream",
     "text": [
      "Epoch 37:\n",
      "Train Loss: 0.1077, Accuracy: 0.9688\n",
      "Val Loss: 0.1428, Accuracy: 0.9583\n"
     ]
    },
    {
     "name": "stderr",
     "output_type": "stream",
     "text": [
      "Epoch 38 - train: 100%|██████████| 3000/3000 [00:14<00:00, 201.84it/s]\n",
      "Epoch 38 - val: 100%|██████████| 750/750 [00:02<00:00, 256.78it/s]\n"
     ]
    },
    {
     "name": "stdout",
     "output_type": "stream",
     "text": [
      "Epoch 38:\n",
      "Train Loss: 0.1074, Accuracy: 0.9684\n",
      "Val Loss: 0.1468, Accuracy: 0.9567\n"
     ]
    },
    {
     "name": "stderr",
     "output_type": "stream",
     "text": [
      "Epoch 39 - train: 100%|██████████| 3000/3000 [00:13<00:00, 218.38it/s]\n",
      "Epoch 39 - val: 100%|██████████| 750/750 [00:02<00:00, 320.48it/s]\n"
     ]
    },
    {
     "name": "stdout",
     "output_type": "stream",
     "text": [
      "Epoch 39:\n",
      "Train Loss: 0.1054, Accuracy: 0.9690\n",
      "Val Loss: 0.1443, Accuracy: 0.9576\n"
     ]
    },
    {
     "name": "stderr",
     "output_type": "stream",
     "text": [
      "Epoch 40 - train: 100%|██████████| 3000/3000 [00:14<00:00, 212.30it/s]\n",
      "Epoch 40 - val: 100%|██████████| 750/750 [00:02<00:00, 347.02it/s]\n"
     ]
    },
    {
     "name": "stdout",
     "output_type": "stream",
     "text": [
      "Epoch 40:\n",
      "Train Loss: 0.1054, Accuracy: 0.9679\n",
      "Val Loss: 0.1404, Accuracy: 0.9587\n"
     ]
    },
    {
     "name": "stderr",
     "output_type": "stream",
     "text": [
      "Epoch 41 - train: 100%|██████████| 3000/3000 [00:14<00:00, 200.30it/s]\n",
      "Epoch 41 - val: 100%|██████████| 750/750 [00:02<00:00, 304.02it/s]\n"
     ]
    },
    {
     "name": "stdout",
     "output_type": "stream",
     "text": [
      "Epoch 41:\n",
      "Train Loss: 0.1031, Accuracy: 0.9695\n",
      "Val Loss: 0.1409, Accuracy: 0.9591\n"
     ]
    },
    {
     "name": "stderr",
     "output_type": "stream",
     "text": [
      "Epoch 42 - train: 100%|██████████| 3000/3000 [00:12<00:00, 241.81it/s]\n",
      "Epoch 42 - val: 100%|██████████| 750/750 [00:02<00:00, 366.03it/s]\n"
     ]
    },
    {
     "name": "stdout",
     "output_type": "stream",
     "text": [
      "Epoch 42:\n",
      "Train Loss: 0.1025, Accuracy: 0.9693\n",
      "Val Loss: 0.1439, Accuracy: 0.9576\n"
     ]
    },
    {
     "name": "stderr",
     "output_type": "stream",
     "text": [
      "Epoch 43 - train: 100%|██████████| 3000/3000 [00:12<00:00, 246.92it/s]\n",
      "Epoch 43 - val: 100%|██████████| 750/750 [00:02<00:00, 327.75it/s]\n"
     ]
    },
    {
     "name": "stdout",
     "output_type": "stream",
     "text": [
      "Epoch 43:\n",
      "Train Loss: 0.1026, Accuracy: 0.9693\n",
      "Val Loss: 0.1447, Accuracy: 0.9572\n"
     ]
    },
    {
     "name": "stderr",
     "output_type": "stream",
     "text": [
      "Epoch 44 - train: 100%|██████████| 3000/3000 [00:11<00:00, 255.72it/s]\n",
      "Epoch 44 - val: 100%|██████████| 750/750 [00:02<00:00, 312.46it/s]\n"
     ]
    },
    {
     "name": "stdout",
     "output_type": "stream",
     "text": [
      "Epoch 44:\n",
      "Train Loss: 0.1012, Accuracy: 0.9687\n",
      "Val Loss: 0.1417, Accuracy: 0.9590\n"
     ]
    },
    {
     "name": "stderr",
     "output_type": "stream",
     "text": [
      "Epoch 45 - train: 100%|██████████| 3000/3000 [00:11<00:00, 250.53it/s]\n",
      "Epoch 45 - val: 100%|██████████| 750/750 [00:02<00:00, 341.33it/s]\n"
     ]
    },
    {
     "name": "stdout",
     "output_type": "stream",
     "text": [
      "Epoch 45:\n",
      "Train Loss: 0.1001, Accuracy: 0.9696\n",
      "Val Loss: 0.1415, Accuracy: 0.9589\n"
     ]
    },
    {
     "name": "stderr",
     "output_type": "stream",
     "text": [
      "Epoch 46 - train: 100%|██████████| 3000/3000 [00:16<00:00, 177.63it/s]\n",
      "Epoch 46 - val: 100%|██████████| 750/750 [00:02<00:00, 293.92it/s]\n"
     ]
    },
    {
     "name": "stdout",
     "output_type": "stream",
     "text": [
      "Epoch 46:\n",
      "Train Loss: 0.0992, Accuracy: 0.9701\n",
      "Val Loss: 0.1417, Accuracy: 0.9597\n"
     ]
    },
    {
     "name": "stderr",
     "output_type": "stream",
     "text": [
      "Epoch 47 - train: 100%|██████████| 3000/3000 [00:13<00:00, 216.92it/s]\n",
      "Epoch 47 - val: 100%|██████████| 750/750 [00:02<00:00, 360.99it/s]\n"
     ]
    },
    {
     "name": "stdout",
     "output_type": "stream",
     "text": [
      "Epoch 47:\n",
      "Train Loss: 0.0985, Accuracy: 0.9703\n",
      "Val Loss: 0.1411, Accuracy: 0.9593\n"
     ]
    },
    {
     "name": "stderr",
     "output_type": "stream",
     "text": [
      "Epoch 48 - train: 100%|██████████| 3000/3000 [00:16<00:00, 186.09it/s]\n",
      "Epoch 48 - val: 100%|██████████| 750/750 [00:03<00:00, 226.32it/s]\n"
     ]
    },
    {
     "name": "stdout",
     "output_type": "stream",
     "text": [
      "Epoch 48:\n",
      "Train Loss: 0.0974, Accuracy: 0.9711\n",
      "Val Loss: 0.1422, Accuracy: 0.9583\n"
     ]
    },
    {
     "name": "stderr",
     "output_type": "stream",
     "text": [
      "Epoch 49 - train: 100%|██████████| 3000/3000 [00:16<00:00, 187.19it/s]\n",
      "Epoch 49 - val: 100%|██████████| 750/750 [00:02<00:00, 268.36it/s]\n"
     ]
    },
    {
     "name": "stdout",
     "output_type": "stream",
     "text": [
      "Epoch 49:\n",
      "Train Loss: 0.0975, Accuracy: 0.9707\n",
      "Val Loss: 0.1423, Accuracy: 0.9592\n"
     ]
    },
    {
     "name": "stderr",
     "output_type": "stream",
     "text": [
      "Epoch 50 - train: 100%|██████████| 3000/3000 [00:15<00:00, 191.01it/s]\n",
      "Epoch 50 - val: 100%|██████████| 750/750 [00:02<00:00, 347.36it/s]\n"
     ]
    },
    {
     "name": "stdout",
     "output_type": "stream",
     "text": [
      "Epoch 50:\n",
      "Train Loss: 0.0966, Accuracy: 0.9712\n",
      "Val Loss: 0.1445, Accuracy: 0.9595\n",
      "<=== TEST 2 OF 3 ===>\n"
     ]
    },
    {
     "name": "stderr",
     "output_type": "stream",
     "text": [
      "Epoch 1 - train: 100%|██████████| 3000/3000 [00:15<00:00, 188.58it/s]\n",
      "Epoch 1 - val: 100%|██████████| 750/750 [00:03<00:00, 205.57it/s]\n"
     ]
    },
    {
     "name": "stdout",
     "output_type": "stream",
     "text": [
      "Epoch 1:\n",
      "Train Loss: 0.3305, Accuracy: 0.9032\n",
      "Val Loss: 0.2023, Accuracy: 0.9438\n"
     ]
    },
    {
     "name": "stderr",
     "output_type": "stream",
     "text": [
      "Epoch 2 - train: 100%|██████████| 3000/3000 [00:11<00:00, 260.72it/s]\n",
      "Epoch 2 - val: 100%|██████████| 750/750 [00:01<00:00, 394.16it/s]\n"
     ]
    },
    {
     "name": "stdout",
     "output_type": "stream",
     "text": [
      "Epoch 2:\n",
      "Train Loss: 0.1741, Accuracy: 0.9495\n",
      "Val Loss: 0.1549, Accuracy: 0.9561\n"
     ]
    },
    {
     "name": "stderr",
     "output_type": "stream",
     "text": [
      "Epoch 3 - train: 100%|██████████| 3000/3000 [00:11<00:00, 258.70it/s]\n",
      "Epoch 3 - val: 100%|██████████| 750/750 [00:01<00:00, 380.67it/s]\n"
     ]
    },
    {
     "name": "stdout",
     "output_type": "stream",
     "text": [
      "Epoch 3:\n",
      "Train Loss: 0.1311, Accuracy: 0.9624\n",
      "Val Loss: 0.1393, Accuracy: 0.9589\n"
     ]
    },
    {
     "name": "stderr",
     "output_type": "stream",
     "text": [
      "Epoch 4 - train: 100%|██████████| 3000/3000 [00:14<00:00, 202.87it/s]\n",
      "Epoch 4 - val: 100%|██████████| 750/750 [00:01<00:00, 380.01it/s]\n"
     ]
    },
    {
     "name": "stdout",
     "output_type": "stream",
     "text": [
      "Epoch 4:\n",
      "Train Loss: 0.1067, Accuracy: 0.9699\n",
      "Val Loss: 0.1230, Accuracy: 0.9638\n"
     ]
    },
    {
     "name": "stderr",
     "output_type": "stream",
     "text": [
      "Epoch 5 - train: 100%|██████████| 3000/3000 [00:10<00:00, 273.26it/s]\n",
      "Epoch 5 - val: 100%|██████████| 750/750 [00:01<00:00, 378.58it/s]\n"
     ]
    },
    {
     "name": "stdout",
     "output_type": "stream",
     "text": [
      "Epoch 5:\n",
      "Train Loss: 0.0900, Accuracy: 0.9740\n",
      "Val Loss: 0.1108, Accuracy: 0.9653\n"
     ]
    },
    {
     "name": "stderr",
     "output_type": "stream",
     "text": [
      "Epoch 6 - train: 100%|██████████| 3000/3000 [00:12<00:00, 249.67it/s]\n",
      "Epoch 6 - val: 100%|██████████| 750/750 [00:01<00:00, 410.34it/s]\n"
     ]
    },
    {
     "name": "stdout",
     "output_type": "stream",
     "text": [
      "Epoch 6:\n",
      "Train Loss: 0.0776, Accuracy: 0.9781\n",
      "Val Loss: 0.1076, Accuracy: 0.9677\n"
     ]
    },
    {
     "name": "stderr",
     "output_type": "stream",
     "text": [
      "Epoch 7 - train: 100%|██████████| 3000/3000 [00:10<00:00, 276.61it/s]\n",
      "Epoch 7 - val: 100%|██████████| 750/750 [00:01<00:00, 427.00it/s]\n"
     ]
    },
    {
     "name": "stdout",
     "output_type": "stream",
     "text": [
      "Epoch 7:\n",
      "Train Loss: 0.0679, Accuracy: 0.9806\n",
      "Val Loss: 0.1067, Accuracy: 0.9678\n"
     ]
    },
    {
     "name": "stderr",
     "output_type": "stream",
     "text": [
      "Epoch 8 - train: 100%|██████████| 3000/3000 [00:10<00:00, 278.34it/s]\n",
      "Epoch 8 - val: 100%|██████████| 750/750 [00:01<00:00, 429.17it/s]\n"
     ]
    },
    {
     "name": "stdout",
     "output_type": "stream",
     "text": [
      "Epoch 8:\n",
      "Train Loss: 0.0600, Accuracy: 0.9830\n",
      "Val Loss: 0.1026, Accuracy: 0.9689\n",
      "======== Pruned weights: 71559 out of 79510 ========\n"
     ]
    },
    {
     "name": "stderr",
     "output_type": "stream",
     "text": [
      "Epoch 9 - train: 100%|██████████| 3000/3000 [00:12<00:00, 240.55it/s]\n",
      "Epoch 9 - val: 100%|██████████| 750/750 [00:02<00:00, 321.09it/s]\n"
     ]
    },
    {
     "name": "stdout",
     "output_type": "stream",
     "text": [
      "Epoch 9:\n",
      "Train Loss: 0.2219, Accuracy: 0.9363\n",
      "Val Loss: 0.1586, Accuracy: 0.9549\n"
     ]
    },
    {
     "name": "stderr",
     "output_type": "stream",
     "text": [
      "Epoch 10 - train: 100%|██████████| 3000/3000 [00:20<00:00, 148.21it/s]\n",
      "Epoch 10 - val: 100%|██████████| 750/750 [00:03<00:00, 206.01it/s]\n"
     ]
    },
    {
     "name": "stdout",
     "output_type": "stream",
     "text": [
      "Epoch 10:\n",
      "Train Loss: 0.2023, Accuracy: 0.9419\n",
      "Val Loss: 0.1632, Accuracy: 0.9532\n"
     ]
    },
    {
     "name": "stderr",
     "output_type": "stream",
     "text": [
      "Epoch 11 - train: 100%|██████████| 3000/3000 [00:18<00:00, 161.58it/s]\n",
      "Epoch 11 - val: 100%|██████████| 750/750 [00:04<00:00, 171.22it/s]\n"
     ]
    },
    {
     "name": "stdout",
     "output_type": "stream",
     "text": [
      "Epoch 11:\n",
      "Train Loss: 0.1897, Accuracy: 0.9460\n",
      "Val Loss: 0.1537, Accuracy: 0.9552\n"
     ]
    },
    {
     "name": "stderr",
     "output_type": "stream",
     "text": [
      "Epoch 12 - train: 100%|██████████| 3000/3000 [00:11<00:00, 268.37it/s]\n",
      "Epoch 12 - val: 100%|██████████| 750/750 [00:02<00:00, 268.36it/s]\n"
     ]
    },
    {
     "name": "stdout",
     "output_type": "stream",
     "text": [
      "Epoch 12:\n",
      "Train Loss: 0.1778, Accuracy: 0.9484\n",
      "Val Loss: 0.1578, Accuracy: 0.9547\n"
     ]
    },
    {
     "name": "stderr",
     "output_type": "stream",
     "text": [
      "Epoch 13 - train: 100%|██████████| 3000/3000 [00:15<00:00, 188.64it/s]\n",
      "Epoch 13 - val: 100%|██████████| 750/750 [00:02<00:00, 273.95it/s]\n"
     ]
    },
    {
     "name": "stdout",
     "output_type": "stream",
     "text": [
      "Epoch 13:\n",
      "Train Loss: 0.1691, Accuracy: 0.9513\n",
      "Val Loss: 0.1498, Accuracy: 0.9570\n"
     ]
    },
    {
     "name": "stderr",
     "output_type": "stream",
     "text": [
      "Epoch 14 - train: 100%|██████████| 3000/3000 [00:13<00:00, 221.89it/s]\n",
      "Epoch 14 - val: 100%|██████████| 750/750 [00:01<00:00, 400.96it/s]\n"
     ]
    },
    {
     "name": "stdout",
     "output_type": "stream",
     "text": [
      "Epoch 14:\n",
      "Train Loss: 0.1616, Accuracy: 0.9532\n",
      "Val Loss: 0.1508, Accuracy: 0.9566\n"
     ]
    },
    {
     "name": "stderr",
     "output_type": "stream",
     "text": [
      "Epoch 15 - train: 100%|██████████| 3000/3000 [00:11<00:00, 250.61it/s]\n",
      "Epoch 15 - val: 100%|██████████| 750/750 [00:02<00:00, 338.48it/s]\n"
     ]
    },
    {
     "name": "stdout",
     "output_type": "stream",
     "text": [
      "Epoch 15:\n",
      "Train Loss: 0.1554, Accuracy: 0.9542\n",
      "Val Loss: 0.1482, Accuracy: 0.9573\n"
     ]
    },
    {
     "name": "stderr",
     "output_type": "stream",
     "text": [
      "Epoch 16 - train: 100%|██████████| 3000/3000 [00:10<00:00, 291.74it/s]\n",
      "Epoch 16 - val: 100%|██████████| 750/750 [00:01<00:00, 377.13it/s]\n"
     ]
    },
    {
     "name": "stdout",
     "output_type": "stream",
     "text": [
      "Epoch 16:\n",
      "Train Loss: 0.1506, Accuracy: 0.9566\n",
      "Val Loss: 0.1477, Accuracy: 0.9565\n"
     ]
    },
    {
     "name": "stderr",
     "output_type": "stream",
     "text": [
      "Epoch 17 - train: 100%|██████████| 3000/3000 [00:09<00:00, 300.40it/s]\n",
      "Epoch 17 - val: 100%|██████████| 750/750 [00:02<00:00, 345.50it/s]\n"
     ]
    },
    {
     "name": "stdout",
     "output_type": "stream",
     "text": [
      "Epoch 17:\n",
      "Train Loss: 0.1459, Accuracy: 0.9580\n",
      "Val Loss: 0.1466, Accuracy: 0.9589\n"
     ]
    },
    {
     "name": "stderr",
     "output_type": "stream",
     "text": [
      "Epoch 18 - train: 100%|██████████| 3000/3000 [00:11<00:00, 258.38it/s]\n",
      "Epoch 18 - val: 100%|██████████| 750/750 [00:02<00:00, 319.74it/s]\n"
     ]
    },
    {
     "name": "stdout",
     "output_type": "stream",
     "text": [
      "Epoch 18:\n",
      "Train Loss: 0.1412, Accuracy: 0.9591\n",
      "Val Loss: 0.1428, Accuracy: 0.9592\n"
     ]
    },
    {
     "name": "stderr",
     "output_type": "stream",
     "text": [
      "Epoch 19 - train: 100%|██████████| 3000/3000 [00:14<00:00, 206.43it/s]\n",
      "Epoch 19 - val: 100%|██████████| 750/750 [00:02<00:00, 357.51it/s]\n"
     ]
    },
    {
     "name": "stdout",
     "output_type": "stream",
     "text": [
      "Epoch 19:\n",
      "Train Loss: 0.1380, Accuracy: 0.9595\n",
      "Val Loss: 0.1471, Accuracy: 0.9567\n"
     ]
    },
    {
     "name": "stderr",
     "output_type": "stream",
     "text": [
      "Epoch 20 - train: 100%|██████████| 3000/3000 [00:17<00:00, 169.35it/s]\n",
      "Epoch 20 - val: 100%|██████████| 750/750 [00:02<00:00, 258.37it/s]\n"
     ]
    },
    {
     "name": "stdout",
     "output_type": "stream",
     "text": [
      "Epoch 20:\n",
      "Train Loss: 0.1352, Accuracy: 0.9596\n",
      "Val Loss: 0.1421, Accuracy: 0.9583\n"
     ]
    },
    {
     "name": "stderr",
     "output_type": "stream",
     "text": [
      "Epoch 21 - train: 100%|██████████| 3000/3000 [00:14<00:00, 200.38it/s]\n",
      "Epoch 21 - val: 100%|██████████| 750/750 [00:02<00:00, 356.95it/s]\n"
     ]
    },
    {
     "name": "stdout",
     "output_type": "stream",
     "text": [
      "Epoch 21:\n",
      "Train Loss: 0.1312, Accuracy: 0.9609\n",
      "Val Loss: 0.1418, Accuracy: 0.9601\n"
     ]
    },
    {
     "name": "stderr",
     "output_type": "stream",
     "text": [
      "Epoch 22 - train: 100%|██████████| 3000/3000 [00:12<00:00, 249.03it/s]\n",
      "Epoch 22 - val: 100%|██████████| 750/750 [00:02<00:00, 355.00it/s]\n"
     ]
    },
    {
     "name": "stdout",
     "output_type": "stream",
     "text": [
      "Epoch 22:\n",
      "Train Loss: 0.1281, Accuracy: 0.9619\n",
      "Val Loss: 0.1391, Accuracy: 0.9597\n"
     ]
    },
    {
     "name": "stderr",
     "output_type": "stream",
     "text": [
      "Epoch 23 - train: 100%|██████████| 3000/3000 [00:17<00:00, 167.45it/s]\n",
      "Epoch 23 - val: 100%|██████████| 750/750 [00:02<00:00, 290.07it/s]\n"
     ]
    },
    {
     "name": "stdout",
     "output_type": "stream",
     "text": [
      "Epoch 23:\n",
      "Train Loss: 0.1258, Accuracy: 0.9630\n",
      "Val Loss: 0.1454, Accuracy: 0.9589\n"
     ]
    },
    {
     "name": "stderr",
     "output_type": "stream",
     "text": [
      "Epoch 24 - train: 100%|██████████| 3000/3000 [00:11<00:00, 251.14it/s]\n",
      "Epoch 24 - val: 100%|██████████| 750/750 [00:01<00:00, 379.27it/s]\n"
     ]
    },
    {
     "name": "stdout",
     "output_type": "stream",
     "text": [
      "Epoch 24:\n",
      "Train Loss: 0.1230, Accuracy: 0.9643\n",
      "Val Loss: 0.1400, Accuracy: 0.9588\n"
     ]
    },
    {
     "name": "stderr",
     "output_type": "stream",
     "text": [
      "Epoch 25 - train: 100%|██████████| 3000/3000 [00:11<00:00, 254.27it/s]\n",
      "Epoch 25 - val: 100%|██████████| 750/750 [00:01<00:00, 384.05it/s]\n"
     ]
    },
    {
     "name": "stdout",
     "output_type": "stream",
     "text": [
      "Epoch 25:\n",
      "Train Loss: 0.1214, Accuracy: 0.9640\n",
      "Val Loss: 0.1377, Accuracy: 0.9607\n"
     ]
    },
    {
     "name": "stderr",
     "output_type": "stream",
     "text": [
      "Epoch 26 - train: 100%|██████████| 3000/3000 [00:11<00:00, 251.99it/s]\n",
      "Epoch 26 - val: 100%|██████████| 750/750 [00:02<00:00, 349.85it/s]\n"
     ]
    },
    {
     "name": "stdout",
     "output_type": "stream",
     "text": [
      "Epoch 26:\n",
      "Train Loss: 0.1180, Accuracy: 0.9649\n",
      "Val Loss: 0.1378, Accuracy: 0.9592\n"
     ]
    },
    {
     "name": "stderr",
     "output_type": "stream",
     "text": [
      "Epoch 27 - train: 100%|██████████| 3000/3000 [00:16<00:00, 176.74it/s]\n",
      "Epoch 27 - val: 100%|██████████| 750/750 [00:03<00:00, 244.02it/s]\n"
     ]
    },
    {
     "name": "stdout",
     "output_type": "stream",
     "text": [
      "Epoch 27:\n",
      "Train Loss: 0.1173, Accuracy: 0.9651\n",
      "Val Loss: 0.1427, Accuracy: 0.9579\n"
     ]
    },
    {
     "name": "stderr",
     "output_type": "stream",
     "text": [
      "Epoch 28 - train: 100%|██████████| 3000/3000 [00:14<00:00, 203.62it/s]\n",
      "Epoch 28 - val: 100%|██████████| 750/750 [00:02<00:00, 284.55it/s]\n"
     ]
    },
    {
     "name": "stdout",
     "output_type": "stream",
     "text": [
      "Epoch 28:\n",
      "Train Loss: 0.1146, Accuracy: 0.9657\n",
      "Val Loss: 0.1372, Accuracy: 0.9600\n"
     ]
    },
    {
     "name": "stderr",
     "output_type": "stream",
     "text": [
      "Epoch 29 - train: 100%|██████████| 3000/3000 [00:11<00:00, 251.22it/s]\n",
      "Epoch 29 - val: 100%|██████████| 750/750 [00:02<00:00, 345.37it/s]\n"
     ]
    },
    {
     "name": "stdout",
     "output_type": "stream",
     "text": [
      "Epoch 29:\n",
      "Train Loss: 0.1132, Accuracy: 0.9649\n",
      "Val Loss: 0.1380, Accuracy: 0.9587\n"
     ]
    },
    {
     "name": "stderr",
     "output_type": "stream",
     "text": [
      "Epoch 30 - train: 100%|██████████| 3000/3000 [00:14<00:00, 203.72it/s]\n",
      "Epoch 30 - val: 100%|██████████| 750/750 [00:02<00:00, 267.10it/s]\n"
     ]
    },
    {
     "name": "stdout",
     "output_type": "stream",
     "text": [
      "Epoch 30:\n",
      "Train Loss: 0.1110, Accuracy: 0.9670\n",
      "Val Loss: 0.1402, Accuracy: 0.9597\n"
     ]
    },
    {
     "name": "stderr",
     "output_type": "stream",
     "text": [
      "Epoch 31 - train: 100%|██████████| 3000/3000 [00:13<00:00, 224.56it/s]\n",
      "Epoch 31 - val: 100%|██████████| 750/750 [00:01<00:00, 386.37it/s]\n"
     ]
    },
    {
     "name": "stdout",
     "output_type": "stream",
     "text": [
      "Epoch 31:\n",
      "Train Loss: 0.1102, Accuracy: 0.9678\n",
      "Val Loss: 0.1346, Accuracy: 0.9590\n"
     ]
    },
    {
     "name": "stderr",
     "output_type": "stream",
     "text": [
      "Epoch 32 - train: 100%|██████████| 3000/3000 [00:13<00:00, 225.39it/s]\n",
      "Epoch 32 - val: 100%|██████████| 750/750 [00:02<00:00, 321.36it/s]\n"
     ]
    },
    {
     "name": "stdout",
     "output_type": "stream",
     "text": [
      "Epoch 32:\n",
      "Train Loss: 0.1082, Accuracy: 0.9677\n",
      "Val Loss: 0.1384, Accuracy: 0.9603\n"
     ]
    },
    {
     "name": "stderr",
     "output_type": "stream",
     "text": [
      "Epoch 33 - train: 100%|██████████| 3000/3000 [00:11<00:00, 256.15it/s]\n",
      "Epoch 33 - val: 100%|██████████| 750/750 [00:02<00:00, 339.08it/s]\n"
     ]
    },
    {
     "name": "stdout",
     "output_type": "stream",
     "text": [
      "Epoch 33:\n",
      "Train Loss: 0.1064, Accuracy: 0.9684\n",
      "Val Loss: 0.1461, Accuracy: 0.9587\n"
     ]
    },
    {
     "name": "stderr",
     "output_type": "stream",
     "text": [
      "Epoch 34 - train: 100%|██████████| 3000/3000 [00:17<00:00, 175.93it/s]\n",
      "Epoch 34 - val: 100%|██████████| 750/750 [00:02<00:00, 259.42it/s]\n"
     ]
    },
    {
     "name": "stdout",
     "output_type": "stream",
     "text": [
      "Epoch 34:\n",
      "Train Loss: 0.1044, Accuracy: 0.9684\n",
      "Val Loss: 0.1429, Accuracy: 0.9577\n"
     ]
    },
    {
     "name": "stderr",
     "output_type": "stream",
     "text": [
      "Epoch 35 - train: 100%|██████████| 3000/3000 [00:17<00:00, 169.40it/s]\n",
      "Epoch 35 - val: 100%|██████████| 750/750 [00:03<00:00, 232.51it/s]\n"
     ]
    },
    {
     "name": "stdout",
     "output_type": "stream",
     "text": [
      "Epoch 35:\n",
      "Train Loss: 0.1039, Accuracy: 0.9687\n",
      "Val Loss: 0.1349, Accuracy: 0.9606\n"
     ]
    },
    {
     "name": "stderr",
     "output_type": "stream",
     "text": [
      "Epoch 36 - train: 100%|██████████| 3000/3000 [00:14<00:00, 201.97it/s]\n",
      "Epoch 36 - val: 100%|██████████| 750/750 [00:02<00:00, 345.99it/s]\n"
     ]
    },
    {
     "name": "stdout",
     "output_type": "stream",
     "text": [
      "Epoch 36:\n",
      "Train Loss: 0.1027, Accuracy: 0.9694\n",
      "Val Loss: 0.1422, Accuracy: 0.9590\n"
     ]
    },
    {
     "name": "stderr",
     "output_type": "stream",
     "text": [
      "Epoch 37 - train: 100%|██████████| 3000/3000 [00:14<00:00, 201.82it/s]\n",
      "Epoch 37 - val: 100%|██████████| 750/750 [00:02<00:00, 290.94it/s]\n"
     ]
    },
    {
     "name": "stdout",
     "output_type": "stream",
     "text": [
      "Epoch 37:\n",
      "Train Loss: 0.1010, Accuracy: 0.9697\n",
      "Val Loss: 0.1393, Accuracy: 0.9598\n"
     ]
    },
    {
     "name": "stderr",
     "output_type": "stream",
     "text": [
      "Epoch 38 - train: 100%|██████████| 3000/3000 [00:14<00:00, 200.20it/s]\n",
      "Epoch 38 - val: 100%|██████████| 750/750 [00:02<00:00, 338.29it/s]\n"
     ]
    },
    {
     "name": "stdout",
     "output_type": "stream",
     "text": [
      "Epoch 38:\n",
      "Train Loss: 0.0998, Accuracy: 0.9698\n",
      "Val Loss: 0.1448, Accuracy: 0.9575\n"
     ]
    },
    {
     "name": "stderr",
     "output_type": "stream",
     "text": [
      "Epoch 39 - train: 100%|██████████| 3000/3000 [00:14<00:00, 200.61it/s]\n",
      "Epoch 39 - val: 100%|██████████| 750/750 [00:02<00:00, 285.75it/s]\n"
     ]
    },
    {
     "name": "stdout",
     "output_type": "stream",
     "text": [
      "Epoch 39:\n",
      "Train Loss: 0.0978, Accuracy: 0.9704\n",
      "Val Loss: 0.1355, Accuracy: 0.9606\n"
     ]
    },
    {
     "name": "stderr",
     "output_type": "stream",
     "text": [
      "Epoch 40 - train: 100%|██████████| 3000/3000 [00:15<00:00, 199.88it/s]\n",
      "Epoch 40 - val: 100%|██████████| 750/750 [00:02<00:00, 327.78it/s]\n"
     ]
    },
    {
     "name": "stdout",
     "output_type": "stream",
     "text": [
      "Epoch 40:\n",
      "Train Loss: 0.0970, Accuracy: 0.9712\n",
      "Val Loss: 0.1361, Accuracy: 0.9616\n"
     ]
    },
    {
     "name": "stderr",
     "output_type": "stream",
     "text": [
      "Epoch 41 - train: 100%|██████████| 3000/3000 [00:12<00:00, 240.74it/s]\n",
      "Epoch 41 - val: 100%|██████████| 750/750 [00:02<00:00, 302.26it/s]\n"
     ]
    },
    {
     "name": "stdout",
     "output_type": "stream",
     "text": [
      "Epoch 41:\n",
      "Train Loss: 0.0951, Accuracy: 0.9706\n",
      "Val Loss: 0.1375, Accuracy: 0.9613\n"
     ]
    },
    {
     "name": "stderr",
     "output_type": "stream",
     "text": [
      "Epoch 42 - train: 100%|██████████| 3000/3000 [00:12<00:00, 247.08it/s]\n",
      "Epoch 42 - val: 100%|██████████| 750/750 [00:02<00:00, 339.35it/s]\n"
     ]
    },
    {
     "name": "stdout",
     "output_type": "stream",
     "text": [
      "Epoch 42:\n",
      "Train Loss: 0.0948, Accuracy: 0.9715\n",
      "Val Loss: 0.1409, Accuracy: 0.9600\n"
     ]
    },
    {
     "name": "stderr",
     "output_type": "stream",
     "text": [
      "Epoch 43 - train: 100%|██████████| 3000/3000 [00:13<00:00, 219.39it/s]\n",
      "Epoch 43 - val: 100%|██████████| 750/750 [00:02<00:00, 324.89it/s]\n"
     ]
    },
    {
     "name": "stdout",
     "output_type": "stream",
     "text": [
      "Epoch 43:\n",
      "Train Loss: 0.0943, Accuracy: 0.9710\n",
      "Val Loss: 0.1394, Accuracy: 0.9601\n"
     ]
    },
    {
     "name": "stderr",
     "output_type": "stream",
     "text": [
      "Epoch 44 - train: 100%|██████████| 3000/3000 [00:11<00:00, 263.81it/s]\n",
      "Epoch 44 - val: 100%|██████████| 750/750 [00:01<00:00, 393.79it/s]\n"
     ]
    },
    {
     "name": "stdout",
     "output_type": "stream",
     "text": [
      "Epoch 44:\n",
      "Train Loss: 0.0926, Accuracy: 0.9725\n",
      "Val Loss: 0.1496, Accuracy: 0.9577\n"
     ]
    },
    {
     "name": "stderr",
     "output_type": "stream",
     "text": [
      "Epoch 45 - train: 100%|██████████| 3000/3000 [00:12<00:00, 248.09it/s]\n",
      "Epoch 45 - val: 100%|██████████| 750/750 [00:02<00:00, 354.44it/s]\n"
     ]
    },
    {
     "name": "stdout",
     "output_type": "stream",
     "text": [
      "Epoch 45:\n",
      "Train Loss: 0.0921, Accuracy: 0.9721\n",
      "Val Loss: 0.1427, Accuracy: 0.9595\n"
     ]
    },
    {
     "name": "stderr",
     "output_type": "stream",
     "text": [
      "Epoch 46 - train: 100%|██████████| 3000/3000 [00:18<00:00, 160.06it/s]\n",
      "Epoch 46 - val: 100%|██████████| 750/750 [00:02<00:00, 271.84it/s]\n"
     ]
    },
    {
     "name": "stdout",
     "output_type": "stream",
     "text": [
      "Epoch 46:\n",
      "Train Loss: 0.0915, Accuracy: 0.9717\n",
      "Val Loss: 0.1421, Accuracy: 0.9603\n"
     ]
    },
    {
     "name": "stderr",
     "output_type": "stream",
     "text": [
      "Epoch 47 - train: 100%|██████████| 3000/3000 [00:13<00:00, 221.24it/s]\n",
      "Epoch 47 - val: 100%|██████████| 750/750 [00:02<00:00, 334.51it/s]\n"
     ]
    },
    {
     "name": "stdout",
     "output_type": "stream",
     "text": [
      "Epoch 47:\n",
      "Train Loss: 0.0902, Accuracy: 0.9722\n",
      "Val Loss: 0.1415, Accuracy: 0.9596\n"
     ]
    },
    {
     "name": "stderr",
     "output_type": "stream",
     "text": [
      "Epoch 48 - train: 100%|██████████| 3000/3000 [00:12<00:00, 248.82it/s]\n",
      "Epoch 48 - val: 100%|██████████| 750/750 [00:02<00:00, 341.14it/s]\n"
     ]
    },
    {
     "name": "stdout",
     "output_type": "stream",
     "text": [
      "Epoch 48:\n",
      "Train Loss: 0.0883, Accuracy: 0.9733\n",
      "Val Loss: 0.1452, Accuracy: 0.9592\n"
     ]
    },
    {
     "name": "stderr",
     "output_type": "stream",
     "text": [
      "Epoch 49 - train: 100%|██████████| 3000/3000 [00:15<00:00, 188.93it/s]\n",
      "Epoch 49 - val: 100%|██████████| 750/750 [00:02<00:00, 271.35it/s]\n"
     ]
    },
    {
     "name": "stdout",
     "output_type": "stream",
     "text": [
      "Epoch 49:\n",
      "Train Loss: 0.0879, Accuracy: 0.9727\n",
      "Val Loss: 0.1398, Accuracy: 0.9603\n"
     ]
    },
    {
     "name": "stderr",
     "output_type": "stream",
     "text": [
      "Epoch 50 - train: 100%|██████████| 3000/3000 [00:12<00:00, 247.91it/s]\n",
      "Epoch 50 - val: 100%|██████████| 750/750 [00:02<00:00, 349.87it/s]\n"
     ]
    },
    {
     "name": "stdout",
     "output_type": "stream",
     "text": [
      "Epoch 50:\n",
      "Train Loss: 0.0873, Accuracy: 0.9733\n",
      "Val Loss: 0.1428, Accuracy: 0.9598\n",
      "<=== TEST 3 OF 3 ===>\n"
     ]
    },
    {
     "name": "stderr",
     "output_type": "stream",
     "text": [
      "Epoch 1 - train: 100%|██████████| 3000/3000 [00:15<00:00, 187.69it/s]\n",
      "Epoch 1 - val: 100%|██████████| 750/750 [00:02<00:00, 354.75it/s]\n"
     ]
    },
    {
     "name": "stdout",
     "output_type": "stream",
     "text": [
      "Epoch 1:\n",
      "Train Loss: 0.3305, Accuracy: 0.9032\n",
      "Val Loss: 0.2023, Accuracy: 0.9438\n"
     ]
    },
    {
     "name": "stderr",
     "output_type": "stream",
     "text": [
      "Epoch 2 - train: 100%|██████████| 3000/3000 [00:13<00:00, 220.68it/s]\n",
      "Epoch 2 - val: 100%|██████████| 750/750 [00:02<00:00, 308.86it/s]\n"
     ]
    },
    {
     "name": "stdout",
     "output_type": "stream",
     "text": [
      "Epoch 2:\n",
      "Train Loss: 0.1741, Accuracy: 0.9495\n",
      "Val Loss: 0.1549, Accuracy: 0.9561\n"
     ]
    },
    {
     "name": "stderr",
     "output_type": "stream",
     "text": [
      "Epoch 3 - train: 100%|██████████| 3000/3000 [00:13<00:00, 219.17it/s]\n",
      "Epoch 3 - val: 100%|██████████| 750/750 [00:02<00:00, 362.09it/s]\n"
     ]
    },
    {
     "name": "stdout",
     "output_type": "stream",
     "text": [
      "Epoch 3:\n",
      "Train Loss: 0.1311, Accuracy: 0.9624\n",
      "Val Loss: 0.1393, Accuracy: 0.9589\n"
     ]
    },
    {
     "name": "stderr",
     "output_type": "stream",
     "text": [
      "Epoch 4 - train: 100%|██████████| 3000/3000 [00:13<00:00, 215.63it/s]\n",
      "Epoch 4 - val: 100%|██████████| 750/750 [00:02<00:00, 296.70it/s]\n"
     ]
    },
    {
     "name": "stdout",
     "output_type": "stream",
     "text": [
      "Epoch 4:\n",
      "Train Loss: 0.1067, Accuracy: 0.9699\n",
      "Val Loss: 0.1230, Accuracy: 0.9638\n"
     ]
    },
    {
     "name": "stderr",
     "output_type": "stream",
     "text": [
      "Epoch 5 - train: 100%|██████████| 3000/3000 [00:15<00:00, 191.68it/s]\n",
      "Epoch 5 - val: 100%|██████████| 750/750 [00:02<00:00, 313.26it/s]\n"
     ]
    },
    {
     "name": "stdout",
     "output_type": "stream",
     "text": [
      "Epoch 5:\n",
      "Train Loss: 0.0900, Accuracy: 0.9740\n",
      "Val Loss: 0.1108, Accuracy: 0.9653\n"
     ]
    },
    {
     "name": "stderr",
     "output_type": "stream",
     "text": [
      "Epoch 6 - train: 100%|██████████| 3000/3000 [00:16<00:00, 185.97it/s]\n",
      "Epoch 6 - val: 100%|██████████| 750/750 [00:02<00:00, 320.62it/s]\n"
     ]
    },
    {
     "name": "stdout",
     "output_type": "stream",
     "text": [
      "Epoch 6:\n",
      "Train Loss: 0.0776, Accuracy: 0.9781\n",
      "Val Loss: 0.1076, Accuracy: 0.9677\n"
     ]
    },
    {
     "name": "stderr",
     "output_type": "stream",
     "text": [
      "Epoch 7 - train: 100%|██████████| 3000/3000 [00:14<00:00, 207.51it/s]\n",
      "Epoch 7 - val: 100%|██████████| 750/750 [00:02<00:00, 328.30it/s]\n"
     ]
    },
    {
     "name": "stdout",
     "output_type": "stream",
     "text": [
      "Epoch 7:\n",
      "Train Loss: 0.0679, Accuracy: 0.9806\n",
      "Val Loss: 0.1067, Accuracy: 0.9678\n"
     ]
    },
    {
     "name": "stderr",
     "output_type": "stream",
     "text": [
      "Epoch 8 - train: 100%|██████████| 3000/3000 [00:14<00:00, 214.27it/s]\n",
      "Epoch 8 - val: 100%|██████████| 750/750 [00:01<00:00, 376.24it/s]\n"
     ]
    },
    {
     "name": "stdout",
     "output_type": "stream",
     "text": [
      "Epoch 8:\n",
      "Train Loss: 0.0600, Accuracy: 0.9830\n",
      "Val Loss: 0.1026, Accuracy: 0.9689\n"
     ]
    },
    {
     "name": "stderr",
     "output_type": "stream",
     "text": [
      "Epoch 9 - train: 100%|██████████| 3000/3000 [00:11<00:00, 252.93it/s]\n",
      "Epoch 9 - val: 100%|██████████| 750/750 [00:02<00:00, 315.53it/s]\n"
     ]
    },
    {
     "name": "stdout",
     "output_type": "stream",
     "text": [
      "Epoch 9:\n",
      "Train Loss: 0.0532, Accuracy: 0.9858\n",
      "Val Loss: 0.0973, Accuracy: 0.9708\n"
     ]
    },
    {
     "name": "stderr",
     "output_type": "stream",
     "text": [
      "Epoch 10 - train: 100%|██████████| 3000/3000 [00:12<00:00, 238.14it/s]\n",
      "Epoch 10 - val: 100%|██████████| 750/750 [00:02<00:00, 266.76it/s]\n"
     ]
    },
    {
     "name": "stdout",
     "output_type": "stream",
     "text": [
      "Epoch 10:\n",
      "Train Loss: 0.0475, Accuracy: 0.9871\n",
      "Val Loss: 0.0952, Accuracy: 0.9725\n",
      "======== Pruned weights: 71559 out of 79510 ========\n"
     ]
    },
    {
     "name": "stderr",
     "output_type": "stream",
     "text": [
      "Epoch 11 - train: 100%|██████████| 3000/3000 [00:17<00:00, 175.35it/s]\n",
      "Epoch 11 - val: 100%|██████████| 750/750 [00:02<00:00, 270.26it/s]\n"
     ]
    },
    {
     "name": "stdout",
     "output_type": "stream",
     "text": [
      "Epoch 11:\n",
      "Train Loss: 0.2331, Accuracy: 0.9331\n",
      "Val Loss: 0.1665, Accuracy: 0.9524\n"
     ]
    },
    {
     "name": "stderr",
     "output_type": "stream",
     "text": [
      "Epoch 12 - train: 100%|██████████| 3000/3000 [00:17<00:00, 176.19it/s]\n",
      "Epoch 12 - val: 100%|██████████| 750/750 [00:02<00:00, 288.03it/s]\n"
     ]
    },
    {
     "name": "stdout",
     "output_type": "stream",
     "text": [
      "Epoch 12:\n",
      "Train Loss: 0.2150, Accuracy: 0.9388\n",
      "Val Loss: 0.1690, Accuracy: 0.9499\n"
     ]
    },
    {
     "name": "stderr",
     "output_type": "stream",
     "text": [
      "Epoch 13 - train: 100%|██████████| 3000/3000 [00:15<00:00, 193.95it/s]\n",
      "Epoch 13 - val: 100%|██████████| 750/750 [00:03<00:00, 244.27it/s]\n"
     ]
    },
    {
     "name": "stdout",
     "output_type": "stream",
     "text": [
      "Epoch 13:\n",
      "Train Loss: 0.2035, Accuracy: 0.9409\n",
      "Val Loss: 0.1571, Accuracy: 0.9547\n"
     ]
    },
    {
     "name": "stderr",
     "output_type": "stream",
     "text": [
      "Epoch 14 - train: 100%|██████████| 3000/3000 [00:16<00:00, 185.00it/s]\n",
      "Epoch 14 - val: 100%|██████████| 750/750 [00:03<00:00, 242.74it/s]\n"
     ]
    },
    {
     "name": "stdout",
     "output_type": "stream",
     "text": [
      "Epoch 14:\n",
      "Train Loss: 0.1951, Accuracy: 0.9430\n",
      "Val Loss: 0.1607, Accuracy: 0.9529\n"
     ]
    },
    {
     "name": "stderr",
     "output_type": "stream",
     "text": [
      "Epoch 15 - train: 100%|██████████| 3000/3000 [00:16<00:00, 178.77it/s]\n",
      "Epoch 15 - val: 100%|██████████| 750/750 [00:02<00:00, 259.52it/s]\n"
     ]
    },
    {
     "name": "stdout",
     "output_type": "stream",
     "text": [
      "Epoch 15:\n",
      "Train Loss: 0.1865, Accuracy: 0.9460\n",
      "Val Loss: 0.1541, Accuracy: 0.9553\n"
     ]
    },
    {
     "name": "stderr",
     "output_type": "stream",
     "text": [
      "Epoch 16 - train: 100%|██████████| 3000/3000 [00:14<00:00, 200.85it/s]\n",
      "Epoch 16 - val: 100%|██████████| 750/750 [00:02<00:00, 358.13it/s]\n"
     ]
    },
    {
     "name": "stdout",
     "output_type": "stream",
     "text": [
      "Epoch 16:\n",
      "Train Loss: 0.1796, Accuracy: 0.9472\n",
      "Val Loss: 0.1564, Accuracy: 0.9551\n"
     ]
    },
    {
     "name": "stderr",
     "output_type": "stream",
     "text": [
      "Epoch 17 - train: 100%|██████████| 3000/3000 [00:14<00:00, 205.55it/s]\n",
      "Epoch 17 - val: 100%|██████████| 750/750 [00:03<00:00, 246.33it/s]\n"
     ]
    },
    {
     "name": "stdout",
     "output_type": "stream",
     "text": [
      "Epoch 17:\n",
      "Train Loss: 0.1759, Accuracy: 0.9485\n",
      "Val Loss: 0.1508, Accuracy: 0.9561\n"
     ]
    },
    {
     "name": "stderr",
     "output_type": "stream",
     "text": [
      "Epoch 18 - train: 100%|██████████| 3000/3000 [00:11<00:00, 267.98it/s]\n",
      "Epoch 18 - val: 100%|██████████| 750/750 [00:02<00:00, 357.46it/s]\n"
     ]
    },
    {
     "name": "stdout",
     "output_type": "stream",
     "text": [
      "Epoch 18:\n",
      "Train Loss: 0.1707, Accuracy: 0.9502\n",
      "Val Loss: 0.1532, Accuracy: 0.9546\n"
     ]
    },
    {
     "name": "stderr",
     "output_type": "stream",
     "text": [
      "Epoch 19 - train: 100%|██████████| 3000/3000 [00:13<00:00, 221.50it/s]\n",
      "Epoch 19 - val: 100%|██████████| 750/750 [00:02<00:00, 292.08it/s]\n"
     ]
    },
    {
     "name": "stdout",
     "output_type": "stream",
     "text": [
      "Epoch 19:\n",
      "Train Loss: 0.1674, Accuracy: 0.9509\n",
      "Val Loss: 0.1499, Accuracy: 0.9562\n"
     ]
    },
    {
     "name": "stderr",
     "output_type": "stream",
     "text": [
      "Epoch 20 - train: 100%|██████████| 3000/3000 [00:15<00:00, 195.38it/s]\n",
      "Epoch 20 - val: 100%|██████████| 750/750 [00:02<00:00, 302.78it/s]\n"
     ]
    },
    {
     "name": "stdout",
     "output_type": "stream",
     "text": [
      "Epoch 20:\n",
      "Train Loss: 0.1633, Accuracy: 0.9525\n",
      "Val Loss: 0.1483, Accuracy: 0.9567\n"
     ]
    },
    {
     "name": "stderr",
     "output_type": "stream",
     "text": [
      "Epoch 21 - train: 100%|██████████| 3000/3000 [00:13<00:00, 228.34it/s]\n",
      "Epoch 21 - val: 100%|██████████| 750/750 [00:02<00:00, 342.73it/s]\n"
     ]
    },
    {
     "name": "stdout",
     "output_type": "stream",
     "text": [
      "Epoch 21:\n",
      "Train Loss: 0.1597, Accuracy: 0.9528\n",
      "Val Loss: 0.1525, Accuracy: 0.9563\n"
     ]
    },
    {
     "name": "stderr",
     "output_type": "stream",
     "text": [
      "Epoch 22 - train: 100%|██████████| 3000/3000 [00:14<00:00, 210.56it/s]\n",
      "Epoch 22 - val: 100%|██████████| 750/750 [00:02<00:00, 265.12it/s]\n"
     ]
    },
    {
     "name": "stdout",
     "output_type": "stream",
     "text": [
      "Epoch 22:\n",
      "Train Loss: 0.1572, Accuracy: 0.9527\n",
      "Val Loss: 0.1510, Accuracy: 0.9563\n"
     ]
    },
    {
     "name": "stderr",
     "output_type": "stream",
     "text": [
      "Epoch 23 - train: 100%|██████████| 3000/3000 [00:13<00:00, 214.45it/s]\n",
      "Epoch 23 - val: 100%|██████████| 750/750 [00:02<00:00, 369.64it/s]\n"
     ]
    },
    {
     "name": "stdout",
     "output_type": "stream",
     "text": [
      "Epoch 23:\n",
      "Train Loss: 0.1543, Accuracy: 0.9542\n",
      "Val Loss: 0.1504, Accuracy: 0.9556\n"
     ]
    },
    {
     "name": "stderr",
     "output_type": "stream",
     "text": [
      "Epoch 24 - train: 100%|██████████| 3000/3000 [00:11<00:00, 251.58it/s]\n",
      "Epoch 24 - val: 100%|██████████| 750/750 [00:01<00:00, 375.71it/s]\n"
     ]
    },
    {
     "name": "stdout",
     "output_type": "stream",
     "text": [
      "Epoch 24:\n",
      "Train Loss: 0.1510, Accuracy: 0.9555\n",
      "Val Loss: 0.1513, Accuracy: 0.9567\n"
     ]
    },
    {
     "name": "stderr",
     "output_type": "stream",
     "text": [
      "Epoch 25 - train: 100%|██████████| 3000/3000 [00:14<00:00, 205.29it/s]\n",
      "Epoch 25 - val: 100%|██████████| 750/750 [00:02<00:00, 274.34it/s]\n"
     ]
    },
    {
     "name": "stdout",
     "output_type": "stream",
     "text": [
      "Epoch 25:\n",
      "Train Loss: 0.1506, Accuracy: 0.9554\n",
      "Val Loss: 0.1425, Accuracy: 0.9585\n"
     ]
    },
    {
     "name": "stderr",
     "output_type": "stream",
     "text": [
      "Epoch 26 - train: 100%|██████████| 3000/3000 [00:13<00:00, 225.75it/s]\n",
      "Epoch 26 - val: 100%|██████████| 750/750 [00:02<00:00, 304.28it/s]\n"
     ]
    },
    {
     "name": "stdout",
     "output_type": "stream",
     "text": [
      "Epoch 26:\n",
      "Train Loss: 0.1470, Accuracy: 0.9567\n",
      "Val Loss: 0.1454, Accuracy: 0.9578\n"
     ]
    },
    {
     "name": "stderr",
     "output_type": "stream",
     "text": [
      "Epoch 27 - train: 100%|██████████| 3000/3000 [00:12<00:00, 244.96it/s]\n",
      "Epoch 27 - val: 100%|██████████| 750/750 [00:02<00:00, 338.87it/s]\n"
     ]
    },
    {
     "name": "stdout",
     "output_type": "stream",
     "text": [
      "Epoch 27:\n",
      "Train Loss: 0.1461, Accuracy: 0.9569\n",
      "Val Loss: 0.1484, Accuracy: 0.9589\n"
     ]
    },
    {
     "name": "stderr",
     "output_type": "stream",
     "text": [
      "Epoch 28 - train: 100%|██████████| 3000/3000 [00:11<00:00, 258.27it/s]\n",
      "Epoch 28 - val: 100%|██████████| 750/750 [00:02<00:00, 334.84it/s]\n"
     ]
    },
    {
     "name": "stdout",
     "output_type": "stream",
     "text": [
      "Epoch 28:\n",
      "Train Loss: 0.1429, Accuracy: 0.9579\n",
      "Val Loss: 0.1485, Accuracy: 0.9581\n"
     ]
    },
    {
     "name": "stderr",
     "output_type": "stream",
     "text": [
      "Epoch 29 - train: 100%|██████████| 3000/3000 [00:16<00:00, 187.10it/s]\n",
      "Epoch 29 - val: 100%|██████████| 750/750 [00:03<00:00, 243.62it/s]\n"
     ]
    },
    {
     "name": "stdout",
     "output_type": "stream",
     "text": [
      "Epoch 29:\n",
      "Train Loss: 0.1424, Accuracy: 0.9576\n",
      "Val Loss: 0.1439, Accuracy: 0.9598\n"
     ]
    },
    {
     "name": "stderr",
     "output_type": "stream",
     "text": [
      "Epoch 30 - train: 100%|██████████| 3000/3000 [00:13<00:00, 227.81it/s]\n",
      "Epoch 30 - val: 100%|██████████| 750/750 [00:01<00:00, 381.09it/s]\n"
     ]
    },
    {
     "name": "stdout",
     "output_type": "stream",
     "text": [
      "Epoch 30:\n",
      "Train Loss: 0.1405, Accuracy: 0.9585\n",
      "Val Loss: 0.1483, Accuracy: 0.9570\n"
     ]
    },
    {
     "name": "stderr",
     "output_type": "stream",
     "text": [
      "Epoch 31 - train: 100%|██████████| 3000/3000 [00:15<00:00, 190.49it/s]\n",
      "Epoch 31 - val: 100%|██████████| 750/750 [00:02<00:00, 301.48it/s]\n"
     ]
    },
    {
     "name": "stdout",
     "output_type": "stream",
     "text": [
      "Epoch 31:\n",
      "Train Loss: 0.1382, Accuracy: 0.9594\n",
      "Val Loss: 0.1424, Accuracy: 0.9597\n"
     ]
    },
    {
     "name": "stderr",
     "output_type": "stream",
     "text": [
      "Epoch 32 - train: 100%|██████████| 3000/3000 [00:18<00:00, 160.39it/s]\n",
      "Epoch 32 - val: 100%|██████████| 750/750 [00:02<00:00, 348.73it/s]\n"
     ]
    },
    {
     "name": "stdout",
     "output_type": "stream",
     "text": [
      "Epoch 32:\n",
      "Train Loss: 0.1358, Accuracy: 0.9599\n",
      "Val Loss: 0.1425, Accuracy: 0.9606\n"
     ]
    },
    {
     "name": "stderr",
     "output_type": "stream",
     "text": [
      "Epoch 33 - train: 100%|██████████| 3000/3000 [00:15<00:00, 193.76it/s]\n",
      "Epoch 33 - val: 100%|██████████| 750/750 [00:02<00:00, 352.80it/s]\n"
     ]
    },
    {
     "name": "stdout",
     "output_type": "stream",
     "text": [
      "Epoch 33:\n",
      "Train Loss: 0.1346, Accuracy: 0.9590\n",
      "Val Loss: 0.1530, Accuracy: 0.9566\n"
     ]
    },
    {
     "name": "stderr",
     "output_type": "stream",
     "text": [
      "Epoch 34 - train: 100%|██████████| 3000/3000 [00:14<00:00, 210.27it/s]\n",
      "Epoch 34 - val: 100%|██████████| 750/750 [00:02<00:00, 272.44it/s]\n"
     ]
    },
    {
     "name": "stdout",
     "output_type": "stream",
     "text": [
      "Epoch 34:\n",
      "Train Loss: 0.1334, Accuracy: 0.9603\n",
      "Val Loss: 0.1460, Accuracy: 0.9585\n"
     ]
    },
    {
     "name": "stderr",
     "output_type": "stream",
     "text": [
      "Epoch 35 - train: 100%|██████████| 3000/3000 [00:10<00:00, 278.26it/s]\n",
      "Epoch 35 - val: 100%|██████████| 750/750 [00:02<00:00, 354.04it/s]\n"
     ]
    },
    {
     "name": "stdout",
     "output_type": "stream",
     "text": [
      "Epoch 35:\n",
      "Train Loss: 0.1327, Accuracy: 0.9605\n",
      "Val Loss: 0.1475, Accuracy: 0.9585\n"
     ]
    },
    {
     "name": "stderr",
     "output_type": "stream",
     "text": [
      "Epoch 36 - train: 100%|██████████| 3000/3000 [00:11<00:00, 257.19it/s]\n",
      "Epoch 36 - val: 100%|██████████| 750/750 [00:02<00:00, 302.95it/s]\n"
     ]
    },
    {
     "name": "stdout",
     "output_type": "stream",
     "text": [
      "Epoch 36:\n",
      "Train Loss: 0.1326, Accuracy: 0.9606\n",
      "Val Loss: 0.1437, Accuracy: 0.9597\n"
     ]
    },
    {
     "name": "stderr",
     "output_type": "stream",
     "text": [
      "Epoch 37 - train: 100%|██████████| 3000/3000 [00:15<00:00, 194.49it/s]\n",
      "Epoch 37 - val: 100%|██████████| 750/750 [00:02<00:00, 270.32it/s]\n"
     ]
    },
    {
     "name": "stdout",
     "output_type": "stream",
     "text": [
      "Epoch 37:\n",
      "Train Loss: 0.1313, Accuracy: 0.9605\n",
      "Val Loss: 0.1477, Accuracy: 0.9577\n"
     ]
    },
    {
     "name": "stderr",
     "output_type": "stream",
     "text": [
      "Epoch 38 - train: 100%|██████████| 3000/3000 [00:13<00:00, 220.64it/s]\n",
      "Epoch 38 - val: 100%|██████████| 750/750 [00:02<00:00, 288.38it/s]\n"
     ]
    },
    {
     "name": "stdout",
     "output_type": "stream",
     "text": [
      "Epoch 38:\n",
      "Train Loss: 0.1297, Accuracy: 0.9609\n",
      "Val Loss: 0.1465, Accuracy: 0.9593\n"
     ]
    },
    {
     "name": "stderr",
     "output_type": "stream",
     "text": [
      "Epoch 39 - train: 100%|██████████| 3000/3000 [00:17<00:00, 170.85it/s]\n",
      "Epoch 39 - val: 100%|██████████| 750/750 [00:03<00:00, 234.52it/s]\n"
     ]
    },
    {
     "name": "stdout",
     "output_type": "stream",
     "text": [
      "Epoch 39:\n",
      "Train Loss: 0.1272, Accuracy: 0.9621\n",
      "Val Loss: 0.1467, Accuracy: 0.9602\n"
     ]
    },
    {
     "name": "stderr",
     "output_type": "stream",
     "text": [
      "Epoch 40 - train: 100%|██████████| 3000/3000 [00:16<00:00, 181.52it/s]\n",
      "Epoch 40 - val: 100%|██████████| 750/750 [00:02<00:00, 291.32it/s]\n"
     ]
    },
    {
     "name": "stdout",
     "output_type": "stream",
     "text": [
      "Epoch 40:\n",
      "Train Loss: 0.1270, Accuracy: 0.9620\n",
      "Val Loss: 0.1438, Accuracy: 0.9604\n"
     ]
    },
    {
     "name": "stderr",
     "output_type": "stream",
     "text": [
      "Epoch 41 - train: 100%|██████████| 3000/3000 [00:13<00:00, 222.57it/s]\n",
      "Epoch 41 - val: 100%|██████████| 750/750 [00:03<00:00, 232.95it/s]\n"
     ]
    },
    {
     "name": "stdout",
     "output_type": "stream",
     "text": [
      "Epoch 41:\n",
      "Train Loss: 0.1258, Accuracy: 0.9619\n",
      "Val Loss: 0.1493, Accuracy: 0.9591\n"
     ]
    },
    {
     "name": "stderr",
     "output_type": "stream",
     "text": [
      "Epoch 42 - train: 100%|██████████| 3000/3000 [00:19<00:00, 154.57it/s]\n",
      "Epoch 42 - val: 100%|██████████| 750/750 [00:03<00:00, 222.88it/s]\n"
     ]
    },
    {
     "name": "stdout",
     "output_type": "stream",
     "text": [
      "Epoch 42:\n",
      "Train Loss: 0.1248, Accuracy: 0.9621\n",
      "Val Loss: 0.1457, Accuracy: 0.9597\n"
     ]
    },
    {
     "name": "stderr",
     "output_type": "stream",
     "text": [
      "Epoch 43 - train: 100%|██████████| 3000/3000 [00:17<00:00, 167.66it/s]\n",
      "Epoch 43 - val: 100%|██████████| 750/750 [00:02<00:00, 319.13it/s]\n"
     ]
    },
    {
     "name": "stdout",
     "output_type": "stream",
     "text": [
      "Epoch 43:\n",
      "Train Loss: 0.1248, Accuracy: 0.9624\n",
      "Val Loss: 0.1488, Accuracy: 0.9565\n"
     ]
    },
    {
     "name": "stderr",
     "output_type": "stream",
     "text": [
      "Epoch 44 - train: 100%|██████████| 3000/3000 [00:17<00:00, 167.97it/s]\n",
      "Epoch 44 - val: 100%|██████████| 750/750 [00:02<00:00, 295.09it/s]\n"
     ]
    },
    {
     "name": "stdout",
     "output_type": "stream",
     "text": [
      "Epoch 44:\n",
      "Train Loss: 0.1231, Accuracy: 0.9629\n",
      "Val Loss: 0.1536, Accuracy: 0.9567\n"
     ]
    },
    {
     "name": "stderr",
     "output_type": "stream",
     "text": [
      "Epoch 45 - train: 100%|██████████| 3000/3000 [00:13<00:00, 216.38it/s]\n",
      "Epoch 45 - val: 100%|██████████| 750/750 [00:02<00:00, 304.50it/s]\n"
     ]
    },
    {
     "name": "stdout",
     "output_type": "stream",
     "text": [
      "Epoch 45:\n",
      "Train Loss: 0.1220, Accuracy: 0.9634\n",
      "Val Loss: 0.1539, Accuracy: 0.9562\n"
     ]
    },
    {
     "name": "stderr",
     "output_type": "stream",
     "text": [
      "Epoch 46 - train: 100%|██████████| 3000/3000 [00:16<00:00, 181.47it/s]\n",
      "Epoch 46 - val: 100%|██████████| 750/750 [00:03<00:00, 220.65it/s]\n"
     ]
    },
    {
     "name": "stdout",
     "output_type": "stream",
     "text": [
      "Epoch 46:\n",
      "Train Loss: 0.1218, Accuracy: 0.9629\n",
      "Val Loss: 0.1469, Accuracy: 0.9587\n"
     ]
    },
    {
     "name": "stderr",
     "output_type": "stream",
     "text": [
      "Epoch 47 - train: 100%|██████████| 3000/3000 [00:16<00:00, 180.27it/s]\n",
      "Epoch 47 - val: 100%|██████████| 750/750 [00:03<00:00, 230.88it/s]\n"
     ]
    },
    {
     "name": "stdout",
     "output_type": "stream",
     "text": [
      "Epoch 47:\n",
      "Train Loss: 0.1215, Accuracy: 0.9634\n",
      "Val Loss: 0.1450, Accuracy: 0.9597\n"
     ]
    },
    {
     "name": "stderr",
     "output_type": "stream",
     "text": [
      "Epoch 48 - train: 100%|██████████| 3000/3000 [00:16<00:00, 181.50it/s]\n",
      "Epoch 48 - val: 100%|██████████| 750/750 [00:03<00:00, 239.61it/s]\n"
     ]
    },
    {
     "name": "stdout",
     "output_type": "stream",
     "text": [
      "Epoch 48:\n",
      "Train Loss: 0.1192, Accuracy: 0.9646\n",
      "Val Loss: 0.1481, Accuracy: 0.9603\n"
     ]
    },
    {
     "name": "stderr",
     "output_type": "stream",
     "text": [
      "Epoch 49 - train: 100%|██████████| 3000/3000 [00:13<00:00, 227.40it/s]\n",
      "Epoch 49 - val: 100%|██████████| 750/750 [00:02<00:00, 303.33it/s]\n"
     ]
    },
    {
     "name": "stdout",
     "output_type": "stream",
     "text": [
      "Epoch 49:\n",
      "Train Loss: 0.1177, Accuracy: 0.9637\n",
      "Val Loss: 0.1554, Accuracy: 0.9571\n"
     ]
    },
    {
     "name": "stderr",
     "output_type": "stream",
     "text": [
      "Epoch 50 - train: 100%|██████████| 3000/3000 [00:12<00:00, 246.07it/s]\n",
      "Epoch 50 - val: 100%|██████████| 750/750 [00:02<00:00, 326.71it/s]\n"
     ]
    },
    {
     "name": "stdout",
     "output_type": "stream",
     "text": [
      "Epoch 50:\n",
      "Train Loss: 0.1184, Accuracy: 0.9647\n",
      "Val Loss: 0.1523, Accuracy: 0.9563\n"
     ]
    }
   ],
   "source": [
    "epochs = 50\n",
    "pruning =  [.1, .1, .1]\n",
    "freezing = [ 2,  8, 10]\n",
    "\n",
    "i = 0\n",
    "for prune, freeze in zip(pruning, freezing):\n",
    "    print(f\"<=== TEST {i+1} OF {len(pruning)} ===>\")\n",
    "    result = run_test(epochs, prune, freeze)\n",
    "    results_dict[(prune, freeze)] = result\n",
    "    i += 1\n",
    "\n",
    "pruning =  [.25, .25, .25]\n",
    "freezing = [  2,   8,  10]\n",
    "i = 0\n",
    "for prune, freeze in zip(pruning, freezing):\n",
    "    print(f\"<=== TEST {i+1} OF {len(pruning)} ===>\")\n",
    "    result = run_test(epochs, prune, freeze)\n",
    "    results_dict[(prune, freeze)] = result\n",
    "    i += 1\n",
    "\n",
    "pruning =  [.9, .9, .9]\n",
    "freezing = [ 2,  8, 10]\n",
    "i = 0\n",
    "for prune, freeze in zip(pruning, freezing):\n",
    "    print(f\"<=== TEST {i+1} OF {len(pruning)} ===>\")\n",
    "    result = run_test(epochs, prune, freeze)\n",
    "    results_dict[(prune, freeze)] = result\n",
    "    i += 1\n"
   ]
  }
 ],
 "metadata": {
  "kernelspec": {
   "display_name": "Python 3",
   "language": "python",
   "name": "python3"
  },
  "language_info": {
   "codemirror_mode": {
    "name": "ipython",
    "version": 3
   },
   "file_extension": ".py",
   "mimetype": "text/x-python",
   "name": "python",
   "nbconvert_exporter": "python",
   "pygments_lexer": "ipython3",
   "version": "3.10.12"
  }
 },
 "nbformat": 4,
 "nbformat_minor": 2
}
